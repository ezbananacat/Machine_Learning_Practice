{
 "cells": [
  {
   "cell_type": "code",
   "execution_count": 204,
   "metadata": {},
   "outputs": [],
   "source": [
    "import pandas as pd\n",
    "import numpy as np\n",
    "import xgboost as xgb\n",
    "import shap\n",
    "import random\n",
    "import matplotlib.pyplot as plt\n",
    "import plotly.express as px\n",
    "from sklearn.model_selection import train_test_split\n",
    "from sklearn.preprocessing import StandardScaler\n",
    "from sklearn.metrics import r2_score, mean_squared_error\n"
   ]
  },
  {
   "cell_type": "code",
   "execution_count": 205,
   "metadata": {},
   "outputs": [],
   "source": [
    "def define_files():\n",
    "    files = {\n",
    "        \"air_pollution_death\": \"data/air_pollution_death.csv\",\n",
    "        \"transportation\": 'data/road-transportation_country_emissions.csv',\n",
    "        \"coal\": 'data/coal-mining_country_emissions.csv',\n",
    "        \"cropland\": 'data/cropland-fires_country_emissions.csv',\n",
    "        \"residential_commercial\": 'data/residential-and-commercial-onsite-fuel-usage_country_emissions.csv',\n",
    "        \"forest_clearing\": 'data/forest-land-clearing_country_emissions.csv',\n",
    "        \"petrochemicals\": 'data/petrochemicals_country_emissions.csv',\n",
    "        \"electricity_generation\": 'data/electricity-generation_country_emissions.csv',\n",
    "        \"incineration_open_burning\": 'data/incineration-and-open-burning-of-waste_country_emissions.csv',\n",
    "        \"health_expenditure\": 'data/health-expenditure.csv',\n",
    "        \"urban_population\": 'data/urban-population.csv'\n",
    "    }\n",
    "    return files\n",
    "\n",
    "files = define_files()\n"
   ]
  },
  {
   "cell_type": "code",
   "execution_count": 206,
   "metadata": {},
   "outputs": [],
   "source": [
    "# Finding common country codes\n",
    "\n",
    "environment_factor_files_list = [\n",
    "        'transportation',\n",
    "        'coal',\n",
    "        'cropland',\n",
    "        'residential_commercial',\n",
    "        'forest_clearing',\n",
    "        'petrochemicals',\n",
    "        'electricity_generation',\n",
    "        'incineration_open_burning'\n",
    "    ]\n",
    "    \n",
    "socioeconomic_files_list = [\n",
    "    'health_expenditure',\n",
    "    'urban_population'\n",
    "]\n",
    "\n",
    "def find_common_country_codes(env_list, socio_list, files):\n",
    "    env_codes = []\n",
    "    socio_codes = []\n",
    "    \n",
    "    for factor in env_list:\n",
    "        df = pd.read_csv(files[factor])\n",
    "        codes = set(df['iso3_country'].unique())\n",
    "        env_codes.append(codes)\n",
    "    common_env_codes = set.intersection(*env_codes) if env_codes else set()\n",
    "\n",
    "\n",
    "    for factor in socio_list:\n",
    "        df = pd.read_csv(files[factor], skiprows=4)\n",
    "        codes = set(df['Country Code'].unique())\n",
    "        socio_codes.append(codes)\n",
    "    common_socio_codes = set.intersection(*socio_codes) if socio_codes else set()\n",
    "\n",
    "    common_country_codes = sorted(list(common_env_codes.intersection(common_socio_codes)))\n",
    "    return common_country_codes\n",
    "\n",
    "common_country_codes = find_common_country_codes(environment_factor_files_list, socioeconomic_files_list, files)\n"
   ]
  },
  {
   "cell_type": "code",
   "execution_count": 207,
   "metadata": {},
   "outputs": [],
   "source": [
    "# Filtering Air Pollution data (from air_pollution_death.csv)\n",
    "\n",
    "air_pollution_df = pd.read_csv(files['air_pollution_death'])\n",
    "\n",
    "filtered_air_pollution_df = air_pollution_df[\n",
    "    (air_pollution_df['SpatialDimValueCode'].isin(common_country_codes)) &\n",
    "    (air_pollution_df['Period'] == 2018) &\n",
    "    (air_pollution_df['Dim1'] == 'Both sexes')\n",
    "]\n"
   ]
  },
  {
   "cell_type": "code",
   "execution_count": 208,
   "metadata": {},
   "outputs": [],
   "source": [
    "# Filtering feature data and aggregating feature values per country\n",
    "\n",
    "environment_data = []\n",
    "socioeconomic_data = []\n",
    "\n",
    "for factor in environment_factor_files_list:\n",
    "    df = pd.read_csv(files[factor])\n",
    "\n",
    "    df_filtered = df[\n",
    "        (df['iso3_country'].isin(common_country_codes)) &\n",
    "        (df['start_time'] >= '2018-01-01 00:00:00')\n",
    "    ]\n",
    "    \n",
    "    df_grouped = df_filtered.groupby('iso3_country', as_index=False)['emissions_quantity'].sum()\n",
    "    df_grouped.rename(columns={'iso3_country': 'Country Code', 'emissions_quantity': factor}, inplace=True)\n",
    "    environment_data.append(df_grouped)\n",
    "\n",
    "for factor in socioeconomic_files_list:\n",
    "    df = pd.read_csv(files[factor], skiprows=4)\n",
    "\n",
    "    df_filtered = df[df['Country Code'].isin(common_country_codes)]\n",
    "    df_filtered = df_filtered[['Country Code', '2018']].rename(columns={'2018': factor})\n",
    "    socioeconomic_data.append(df_filtered)\n",
    "\n"
   ]
  },
  {
   "cell_type": "code",
   "execution_count": 209,
   "metadata": {},
   "outputs": [],
   "source": [
    "# Merging all features into one data frame\n",
    "\n",
    "deaths_by_country = filtered_air_pollution_df.groupby(['SpatialDimValueCode'])['FactValueNumeric'].sum().reset_index()\n",
    "deaths_by_country.rename(columns={'SpatialDimValueCode': 'Country Code', 'FactValueNumeric': 'Air Pollution Deaths'}, inplace=True)\n",
    "\n",
    "environment_merged = environment_data[0]\n",
    "for df in environment_data[1:]:\n",
    "    environment_merged = pd.merge(environment_merged, df, on='Country Code', how='outer')\n",
    "\n",
    "final_merged = environment_merged\n",
    "for df in socioeconomic_data:\n",
    "    final_merged = pd.merge(final_merged, df, on='Country Code', how='outer')\n",
    "\n",
    "final_merged = pd.merge(final_merged, deaths_by_country, on='Country Code', how='outer')\n",
    "final_merged = final_merged.dropna()\n",
    "factors = final_merged\n",
    "final_merged = final_merged[final_merged['Country Code'] != 'CHN']\n",
    "final_merged = final_merged[final_merged['Country Code'] != 'IND']\n",
    "# final_merged.head()"
   ]
  },
  {
   "cell_type": "code",
   "execution_count": 210,
   "metadata": {},
   "outputs": [],
   "source": [
    "rename_dict = {\n",
    "    \"transportation\": \"Transportation Emissions\",\n",
    "    \"coal\": \"Coal Mining Emissions\",\n",
    "    \"cropland\": \"Cropland Fires Emissions\",\n",
    "    \"residential_commercial\": \"Residential & Commercial Emissions\",\n",
    "    \"forest_clearing\": \"Forest Clearing Emissions\",\n",
    "    \"petrochemicals\": \"Petrochemicals Emissions\",\n",
    "    \"electricity_generation\": \"Electricity Generation Emissions\",\n",
    "    \"incineration_open_burning\": \"Incineration & Open Burning Emissions\",\n",
    "    \"health_expenditure\": \"Health Expenditure\",\n",
    "    \"urban_population\": \"Urban Population\"\n",
    "}\n",
    "\n",
    "# Rename the columns in the DataFrame\n",
    "final_merged.rename(columns=rename_dict, inplace=True)"
   ]
  },
  {
   "cell_type": "code",
   "execution_count": 211,
   "metadata": {},
   "outputs": [],
   "source": [
    "# Determining X and y values and applying dataset standardization\n",
    "\n",
    "random_seed = 42\n",
    "np.random.seed(random_seed)\n",
    "random.seed(random_seed)\n",
    "\n",
    "X = final_merged.drop(columns=['Country Code', 'Air Pollution Deaths'])\n",
    "y = final_merged['Air Pollution Deaths']\n",
    "\n",
    "X_train, X_test, y_train, y_test = train_test_split(X, y, test_size=0.2, random_state=random_seed)\n",
    "\n",
    "scaler = StandardScaler()\n",
    "\n",
    "X_train_scaled = scaler.fit_transform(X_train)\n",
    "X_test_scaled = scaler.transform(X_test)\n"
   ]
  },
  {
   "cell_type": "code",
   "execution_count": 212,
   "metadata": {},
   "outputs": [
    {
     "name": "stdout",
     "output_type": "stream",
     "text": [
      "Train R² Score: 0.8717\n",
      "Test R² Score: 0.8602\n"
     ]
    }
   ],
   "source": [
    "# Creating, training, and testing the model\n",
    "\n",
    "# {'n_estimators': 200, 'learning_rate': 0.05, 'max_depth': 3, 'subsample': 0.3, 'gamma': 0, 'reg_alpha': 100, 'reg_lambda': 1, 'train_r2': 0.974334007523811, 'test_r2': 0.8997231261698432}\n",
    "#PARAMETERS WHEN EXCLUDING CHINA AND INDIA\n",
    "model = xgb.XGBRegressor(\n",
    "    tree_method='hist',\n",
    "    n_estimators=200, #600\n",
    "    learning_rate=0.065, #0.065\n",
    "    max_depth=3, #1\n",
    "    gamma=0, #1\n",
    "    \n",
    "    subsample=0.3, #0.042\n",
    "    colsample_bytree=0.7, #1\n",
    "    reg_alpha=10, #80000\n",
    "    reg_lambda=10, #60\n",
    "    random_state=random_seed\n",
    ")\n",
    "\n",
    "'''\n",
    "#Best Hyperparameters: {'n_estimators': 200, 'learning_rate': 0.1, 'max_depth': 2, 'subsample': 0.3, 'gamma': 0, 'colsample_bytree': 0.7, 'reg_alpha': 1000, 'reg_lambda': 1, 'train_r2': 0.9582780966393493, 'test_r2': 0.6115232954800243}\n",
    "# PARAMETERS WHEN INCLUDING CHINA AND INDIA\n",
    "model = xgb.XGBRegressor(\n",
    "    tree_method='hist',\n",
    "    n_estimators=200, #600\n",
    "    learning_rate=0.1, #0.065\n",
    "    max_depth=2, #1\n",
    "    gamma=0, #1\n",
    "    \n",
    "    subsample=0.3, #0.042\n",
    "    colsample_bytree=0.7, #1\n",
    "    reg_alpha=1000, #80000\n",
    "    reg_lambda=1, #60\n",
    "    random_state=random_seed\n",
    ")'''\n",
    "evalset = [(X_train_scaled, y_train), (X_test_scaled,y_test)]\n",
    "model.fit(X_train_scaled, y_train, eval_set=evalset, verbose=False)\n",
    "y_train_pred = model.predict(X_train_scaled)\n",
    "y_test_pred = model.predict(X_test_scaled)\n",
    "\n",
    "train_r2 = r2_score(y_train, y_train_pred)\n",
    "test_r2 = r2_score(y_test, y_test_pred)\n",
    "result = model.evals_result()\n",
    "\n",
    "final_train_r2 = train_r2\n",
    "final_test_r2 = test_r2\n",
    "# print(model.score(X_test_scaled, y_test))\n",
    "print(f\"Train R² Score: {train_r2:.4f}\")\n",
    "print(f\"Test R² Score: {test_r2:.4f}\")"
   ]
  },
  {
   "cell_type": "code",
   "execution_count": 213,
   "metadata": {},
   "outputs": [
    {
     "data": {
      "image/png": "[encoded data removed]",
      "text/plain": [
       "<Figure size 800x550 with 2 Axes>"
      ]
     },
     "metadata": {},
     "output_type": "display_data"
    },
    {
     "data": {
      "text/plain": [
       "'<img src=\"beeswarm_plot2.png\" alt=\"SHAP Beeswarm Plot\" width=\"800\">'"
      ]
     },
     "execution_count": 213,
     "metadata": {},
     "output_type": "execute_result"
    }
   ],
   "source": [
    "def generate_beeswarm_plot(X_train, model):\n",
    "    explainer = shap.Explainer(model, X_train)\n",
    "    shap_values = explainer(X_train)\n",
    "    shap.summary_plot(shap_values, X_train, plot_type=\"dot\")\n",
    "    \n",
    "    plt.figure(figsize=(10,6))\n",
    "    shap.plots.beeswarm(shap_values, show=False)\n",
    "    plt.savefig(\"beeswarm_plot2.png\", bbox_inches='tight')\n",
    "    plt.close()\n",
    "\n",
    "    return '<img src=\"beeswarm_plot2.png\" alt=\"SHAP Beeswarm Plot\" width=\"800\">'\n",
    "generate_beeswarm_plot(X_train, model)"
   ]
  },
  {
   "cell_type": "code",
   "execution_count": 214,
   "metadata": {},
   "outputs": [
    {
     "data": {
      "application/vnd.plotly.v1+json": {
       "config": {
        "plotlyServerURL": "https://plot.ly"
       },
       "data": [
        {
         "customdata": [
          [
           "AFG"
          ],
          [
           "AGO"
          ],
          [
           "ALB"
          ],
          [
           "ARE"
          ],
          [
           "ARG"
          ],
          [
           "ARM"
          ],
          [
           "ATG"
          ],
          [
           "AUS"
          ],
          [
           "AUT"
          ],
          [
           "AZE"
          ],
          [
           "BDI"
          ],
          [
           "BEL"
          ],
          [
           "BEN"
          ],
          [
           "BFA"
          ],
          [
           "BGD"
          ],
          [
           "BGR"
          ],
          [
           "BHR"
          ],
          [
           "BHS"
          ],
          [
           "BIH"
          ],
          [
           "BLR"
          ],
          [
           "BLZ"
          ],
          [
           "BOL"
          ],
          [
           "BRA"
          ],
          [
           "BRB"
          ],
          [
           "BRN"
          ],
          [
           "BTN"
          ],
          [
           "BWA"
          ],
          [
           "CAF"
          ],
          [
           "CAN"
          ],
          [
           "CHE"
          ],
          [
           "CHL"
          ],
          [
           "CIV"
          ],
          [
           "CMR"
          ],
          [
           "COD"
          ],
          [
           "COG"
          ],
          [
           "COL"
          ],
          [
           "COM"
          ],
          [
           "CPV"
          ],
          [
           "CRI"
          ],
          [
           "CUB"
          ],
          [
           "CYP"
          ],
          [
           "CZE"
          ],
          [
           "DEU"
          ],
          [
           "DJI"
          ],
          [
           "DNK"
          ],
          [
           "DOM"
          ],
          [
           "DZA"
          ],
          [
           "ECU"
          ],
          [
           "EGY"
          ],
          [
           "ERI"
          ],
          [
           "ESP"
          ],
          [
           "EST"
          ],
          [
           "ETH"
          ],
          [
           "FIN"
          ],
          [
           "FJI"
          ],
          [
           "FRA"
          ],
          [
           "GAB"
          ],
          [
           "GBR"
          ],
          [
           "GEO"
          ],
          [
           "GHA"
          ],
          [
           "GIN"
          ],
          [
           "GMB"
          ],
          [
           "GNB"
          ],
          [
           "GNQ"
          ],
          [
           "GRC"
          ],
          [
           "GRD"
          ],
          [
           "GTM"
          ],
          [
           "GUY"
          ],
          [
           "HND"
          ],
          [
           "HRV"
          ],
          [
           "HTI"
          ],
          [
           "HUN"
          ],
          [
           "IDN"
          ],
          [
           "IRL"
          ],
          [
           "IRN"
          ],
          [
           "IRQ"
          ],
          [
           "ISL"
          ],
          [
           "ISR"
          ],
          [
           "ITA"
          ],
          [
           "JAM"
          ],
          [
           "JOR"
          ],
          [
           "JPN"
          ],
          [
           "KAZ"
          ],
          [
           "KEN"
          ],
          [
           "KGZ"
          ],
          [
           "KHM"
          ],
          [
           "KIR"
          ],
          [
           "KOR"
          ],
          [
           "KWT"
          ],
          [
           "LAO"
          ],
          [
           "LBN"
          ],
          [
           "LBR"
          ],
          [
           "LCA"
          ],
          [
           "LKA"
          ],
          [
           "LSO"
          ],
          [
           "LTU"
          ],
          [
           "LUX"
          ],
          [
           "LVA"
          ],
          [
           "MAR"
          ],
          [
           "MDA"
          ],
          [
           "MDG"
          ],
          [
           "MDV"
          ],
          [
           "MEX"
          ],
          [
           "MKD"
          ],
          [
           "MLI"
          ],
          [
           "MLT"
          ],
          [
           "MMR"
          ],
          [
           "MNE"
          ],
          [
           "MNG"
          ],
          [
           "MOZ"
          ],
          [
           "MRT"
          ],
          [
           "MUS"
          ],
          [
           "MWI"
          ],
          [
           "MYS"
          ],
          [
           "NAM"
          ],
          [
           "NER"
          ],
          [
           "NGA"
          ],
          [
           "NIC"
          ],
          [
           "NLD"
          ],
          [
           "NOR"
          ],
          [
           "NPL"
          ],
          [
           "NZL"
          ],
          [
           "OMN"
          ],
          [
           "PAK"
          ],
          [
           "PAN"
          ],
          [
           "PER"
          ],
          [
           "PHL"
          ],
          [
           "PNG"
          ],
          [
           "POL"
          ],
          [
           "PRT"
          ],
          [
           "PRY"
          ],
          [
           "QAT"
          ],
          [
           "ROU"
          ],
          [
           "RUS"
          ],
          [
           "RWA"
          ],
          [
           "SAU"
          ],
          [
           "SDN"
          ],
          [
           "SEN"
          ],
          [
           "SGP"
          ],
          [
           "SLB"
          ],
          [
           "SLE"
          ],
          [
           "SLV"
          ],
          [
           "SRB"
          ],
          [
           "SSD"
          ],
          [
           "STP"
          ],
          [
           "SUR"
          ],
          [
           "SVK"
          ],
          [
           "SVN"
          ],
          [
           "SWE"
          ],
          [
           "SWZ"
          ],
          [
           "SYC"
          ],
          [
           "TCD"
          ],
          [
           "TGO"
          ],
          [
           "THA"
          ],
          [
           "TJK"
          ],
          [
           "TKM"
          ],
          [
           "TLS"
          ],
          [
           "TON"
          ],
          [
           "TTO"
          ],
          [
           "TUN"
          ],
          [
           "TUR"
          ],
          [
           "TZA"
          ],
          [
           "UGA"
          ],
          [
           "UKR"
          ],
          [
           "URY"
          ],
          [
           "USA"
          ],
          [
           "UZB"
          ],
          [
           "VCT"
          ],
          [
           "VNM"
          ],
          [
           "VUT"
          ],
          [
           "WSM"
          ],
          [
           "ZAF"
          ],
          [
           "ZMB"
          ],
          [
           "ZWE"
          ]
         ],
         "hovertemplate": "Transportation Emissions=%{x}<br>Air Pollution Deaths=%{y}<br>Country Code=%{customdata[0]}<extra></extra>",
         "legendgroup": "",
         "marker": {
          "color": "#636efa",
          "symbol": "circle"
         },
         "mode": "markers",
         "name": "",
         "orientation": "v",
         "showlegend": false,
         "type": "scatter",
         "x": {
          "bdata": "zJPZNhJRi0GSKJYLx8CjQdlCkLd9LnhBRE4Ls6jvvkGfWlPduhnDQchcmWoXBYBBV1uxQ3cxNEEz/NVcLpnSQXGO2iMAIrRBowWopUTUmUFUmGXCeMVkQTOG5ekvV7RBiXzHNN2ll0FV0mmA8HV9QROEgzXYPaFBbjNNMJLboEEjTufOug2JQf7SorVrT1pBUHH8D4rgikFiLxQDhTShQaBsyg1aPjFBDq0PH0vFp0G8lsjGnhfkQWa9GL5cDEZBuI9csMOackG314J4jy5MQR0g+Mv0YIBBLrHWGru2W0HiAUcO3aPfQVpjcHbDnKpBdQE7zB79tkHp05RtrjaRQREoDrtoG5lBGQMEK/r3oEEZvDd7veSBQQZMBFf5mrxBRBSTHeN+QUGKk/t3gwFaQXYcb1N+nJRBSbZ3Ht9lh0F8CytJLA18QYqTT1ONjLBBM8K3c1FL4EFpO6aedVBRQXO6NK47OKRBC2HFaqeVlEHVdrlXh93CQdXM9hJiNbBBN8OxgYPLyEGpzEf+BEBsQRKBPkCYlNFBEvtE/PKTf0GbiKvYw+ilQQn8CV3j5aFB+UqgA9saYkGasTGct0XZQc4haoNpN2ZBl3IufmP01kFJg7te6wqJQYhbV/plc6JBQu8cotRHh0Ey5qutgz5pQa45AAn3i1JBbynncKu4WUFeTCO/prOpQRZnDAMQ1yFBucbnp2beoEE4FL4S7WNrQXOCNuivx31BSwEZlrbglUGjPgmBcrR0QaQ1Bq+TnqdBWOLv40VL3EHHn7iKuFajQcUDRNjw+N5BSkYGja2IvUF7+LLToW5qQbEzLfCpY69BZr3gvtwQ1EG+amUl51J7QYs6c1OwlJxBs8czYLzn5kG1HOzQIqqyQQMK/Zag6qJB7Gt3Ug4pfUEFqMlqvWqTQerTKtqtAhpBhq0UI8F21kGitJf3a9CpQWzohl/nB4NBCfmQu6ofmkF+G7cwfQxsQVdCd/1/WDFBvCMT7tMgn0E3x7nu/xBUQb+41I5HNJVBzR4oRWg6k0HeyNzgQ5aFQTnxRSJ1mrBBMX4aHgAzf0G69zCVK3VxQdXsATKmo2dBRwMYeix33UHpYF3q0kuAQSMCkBvcg41ByO2X18GsYEE4EcT138aQQUz0PIISai5BfbF3HRpxe0FuTMsVkeuSQbwkzh6HPntBAOVvZekNb0Hjd20ytMhqQYvgXx6B6sxBIohzQPEze0G+r4jP5WJ4Qcxicr/S4shB/pcrzVF2fkG1UObnlnq4QQVOtvHprp5B8FEPGOMLk0HaxLHp+HmoQcn+2a/dGaVBEVhZzALDxUHecSoARwaQQQjM7x2H/LRBzXmqRX+UukHI6wExbWp5Qathd/FblMxB+64YoLNVq0E2loDfQHacQWND/1jTJqdBhxjLC4YisEHgf6EotlnhQXLqZcf1GGpBchZsX5dx3UF6mYqglLuqQRiGMhy//JhBBKsKy49DlUEofSEwIBE8Qa1od4SfsnBBey7TXgf6iUEV6l94CCduQazTgmpfBV1BzLBRcna0MUHMeFtIlkpbQftAkt7Xm5lB7UbvlhvbkkFEbXuMdzmqQfZCgf0qrGRB+UuLtThYXUFwcONb+AB+QZsloILov3NBzViAVVw20EFtI3o9Qhp3QfkOXly2vJxBBaT95c9TRkHCpWMmp5csQa6bkhyeV4BBE5BeqS8BmkH7IpkUB7jRQVZ16aSnCZVBLX5lg5T/gkGXVhOD+zayQZJbM1Q6S4xBi6yG8+LnE0JMGRhEDr6qQcHkRtEh0BhBKefvOXMHvkGAttUMFFozQcu9wHwk1T5Bob/mOv3zxEHHg3VHtvGQQfG1d5gJLIxB",
          "dtype": "f8"
         },
         "xaxis": "x",
         "y": {
          "bdata": "AAAAAOCO5UC4HoXrUZnQQEfhehRuyLdAmpmZmRkfrECamZmZCRbhQMzMzMzMcbtAFK5H4XqURUCZmZmZ2YjAQAAAAABAesJAzczMzGxK1EB7FK5HIa66QJqZmZnZUcRA61G4HiWow0AUrkfhWhDOQAAAAADQzwJBMzMzM/Mf10BSuB6F6/GHQBSuR+F6NFZAzczMzMx5v0AzMzMzM+3ZQBSuR+F6lFpAH4XrUXhExkAAAAAAkK36QML1KFyPsm1AKVyPwvU4XEB7FK5H4aSFQChcj8L11pZA7FG4HkWXskDNzMzMzGXOQAAAAACA2LRAzczMzMz1xEC4HoXrcavVQOF6FK53mdhAMzMzM0PK70BxPQrXo3OmQGZmZmamZNlAzczMzMx2eEDiehSuR218QD4K16Nw6J9AAAAAAMAky0DrUbgehcOEQDMzMzOzOdJAAAAAABAW90C4HoXrUWyGQDQzMzMz/K5A61G4HsXItkAAAAAAQHrgQPYoXI8CLL1AAAAAAKisAEFcj8L1qDyoQGZmZmZm2txACtejcD3XkEDNzMzMjDfqQIXrUbie56JAhetRuB49fkAAAAAAYGXjQFyPwvUoNZJAAAAAAEAp50BmZmZmJrjEQArXo3BtR9hAmpmZmRnPyUA+CtejcHSZQFK4HoXrx5hA7FG4HoWBhkAAAAAAIH7QQAAAAAAAUFVA9ihcj+LkwkC4HoXrUd6FQLgehevRobdAmpmZmVkRwEApXI/CtbO+QGZmZmZmCNVAAAAAAIjoC0EUrkfh+rOhQGZmZmbeXPBAMzMzM1N93EApXI/C9TheQJqZmZmZwq9AAAAAAMAW8UD2KFyPwmWXQFK4HoXrJ61AAAAAANDP/kAAAAAA4CHZQArXo3AdW8lAZmZmZuYnvUAAAAAAgF3FQPYoXI/CRVFAAAAAAMBm40DsUbgehYmcQD0K16Nw+7NAMzMzMzNAvEDXo3A9CkunQMP1KFyPolhAmZmZmTkj0kBSuB6Fa2CnQML1KFwPWrlAAAAAAABkdECuR+F6VMqwQJqZmZmJfOJACtejcH3ru0BSuB6FC8rMQEjhehSu32NAmpmZmZHf8UA9CtejcJmxQOF6FK5HlMtAexSuR+FifkCamZmZOXnqQBSuR+F6Z5hA7FG4HgX0sUCuR+F6pBjRQB6F61G4a6ZAAAAAAADGjkCkcD0K15u4QM3MzMzsGN5AUrgehestkUDNzMzMjG7VQJqZmZkJoglB9ihcj8J3q0DNzMzMDNLGQB+F61G4YJ9AzczMzEw23UC4HoXrUcugQFyPwvWoY6xAAAAAANzJEUEzMzMzM5CZQAAAAABgt9BAmpmZmYm8/EApXI/C9dipQAAAAABANPNAzczMzEw2vECuR+F6FESlQFyPwvUotolAMzMzM2N85kAAAAAAmOULQUjhehTuq7lAMzMzM9O/4EBmZmZmJsHcQArXo3B90sJAMzMzMzODrEApXI/C9RB4QBWuR+E6mr5AzczMzAxWsUDNzMzM7DrSQBWuR+H6m7hAFK5H4XqsY0BmZmZmZiZ5QAAAAACAtrxA7FG4HgXHo0DNzMzMDKyyQB6F61G4iohASOF6FK4XVkDhehSu98/SQHA9CtfjA7pAAAAAAODL7EBI4XoU7sPKQFyPwvWo5blArkfhehRmikDrUbgehetCQDMzMzMz44ZAZmZmZibnykAAAAAAcN/wQBSuR+FKf9BAmpmZmelf0UAzMzMzu8n+QOF6FK7Hv6FAAAAAAGgzCUFmZmZmxhvoQPUoXI/ChVJAAAAAACDo+ED2KFyPwt1mQLgehetRiFVAMzMzM9MT5EDsUbgexYu7QAAAAAAATrtA",
          "dtype": "f8"
         },
         "yaxis": "y"
        }
       ],
       "layout": {
        "annotations": [
         {
          "font": {
           "color": "red",
           "size": 14
          },
          "showarrow": false,
          "text": "Correlation: 0.4729",
          "x": 21373697249.6685,
          "y": 291447
         }
        ],
        "legend": {
         "tracegroupgap": 0
        },
        "margin": {
         "t": 60
        },
        "template": {
         "data": {
          "bar": [
           {
            "error_x": {
             "color": "#2a3f5f"
            },
            "error_y": {
             "color": "#2a3f5f"
            },
            "marker": {
             "line": {
              "color": "#E5ECF6",
              "width": 0.5
             },
             "pattern": {
              "fillmode": "overlay",
              "size": 10,
              "solidity": 0.2
             }
            },
            "type": "bar"
           }
          ],
          "barpolar": [
           {
            "marker": {
             "line": {
              "color": "#E5ECF6",
              "width": 0.5
             },
             "pattern": {
              "fillmode": "overlay",
              "size": 10,
              "solidity": 0.2
             }
            },
            "type": "barpolar"
           }
          ],
          "carpet": [
           {
            "aaxis": {
             "endlinecolor": "#2a3f5f",
             "gridcolor": "white",
             "linecolor": "white",
             "minorgridcolor": "white",
             "startlinecolor": "#2a3f5f"
            },
            "baxis": {
             "endlinecolor": "#2a3f5f",
             "gridcolor": "white",
             "linecolor": "white",
             "minorgridcolor": "white",
             "startlinecolor": "#2a3f5f"
            },
            "type": "carpet"
           }
          ],
          "choropleth": [
           {
            "colorbar": {
             "outlinewidth": 0,
             "ticks": ""
            },
            "type": "choropleth"
           }
          ],
          "contour": [
           {
            "colorbar": {
             "outlinewidth": 0,
             "ticks": ""
            },
            "colorscale": [
             [
              0,
              "#0d0887"
             ],
             [
              0.1111111111111111,
              "#46039f"
             ],
             [
              0.2222222222222222,
              "#7201a8"
             ],
             [
              0.3333333333333333,
              "#9c179e"
             ],
             [
              0.4444444444444444,
              "#bd3786"
             ],
             [
              0.5555555555555556,
              "#d8576b"
             ],
             [
              0.6666666666666666,
              "#ed7953"
             ],
             [
              0.7777777777777778,
              "#fb9f3a"
             ],
             [
              0.8888888888888888,
              "#fdca26"
             ],
             [
              1,
              "#f0f921"
             ]
            ],
            "type": "contour"
           }
          ],
          "contourcarpet": [
           {
            "colorbar": {
             "outlinewidth": 0,
             "ticks": ""
            },
            "type": "contourcarpet"
           }
          ],
          "heatmap": [
           {
            "colorbar": {
             "outlinewidth": 0,
             "ticks": ""
            },
            "colorscale": [
             [
              0,
              "#0d0887"
             ],
             [
              0.1111111111111111,
              "#46039f"
             ],
             [
              0.2222222222222222,
              "#7201a8"
             ],
             [
              0.3333333333333333,
              "#9c179e"
             ],
             [
              0.4444444444444444,
              "#bd3786"
             ],
             [
              0.5555555555555556,
              "#d8576b"
             ],
             [
              0.6666666666666666,
              "#ed7953"
             ],
             [
              0.7777777777777778,
              "#fb9f3a"
             ],
             [
              0.8888888888888888,
              "#fdca26"
             ],
             [
              1,
              "#f0f921"
             ]
            ],
            "type": "heatmap"
           }
          ],
          "histogram": [
           {
            "marker": {
             "pattern": {
              "fillmode": "overlay",
              "size": 10,
              "solidity": 0.2
             }
            },
            "type": "histogram"
           }
          ],
          "histogram2d": [
           {
            "colorbar": {
             "outlinewidth": 0,
             "ticks": ""
            },
            "colorscale": [
             [
              0,
              "#0d0887"
             ],
             [
              0.1111111111111111,
              "#46039f"
             ],
             [
              0.2222222222222222,
              "#7201a8"
             ],
             [
              0.3333333333333333,
              "#9c179e"
             ],
             [
              0.4444444444444444,
              "#bd3786"
             ],
             [
              0.5555555555555556,
              "#d8576b"
             ],
             [
              0.6666666666666666,
              "#ed7953"
             ],
             [
              0.7777777777777778,
              "#fb9f3a"
             ],
             [
              0.8888888888888888,
              "#fdca26"
             ],
             [
              1,
              "#f0f921"
             ]
            ],
            "type": "histogram2d"
           }
          ],
          "histogram2dcontour": [
           {
            "colorbar": {
             "outlinewidth": 0,
             "ticks": ""
            },
            "colorscale": [
             [
              0,
              "#0d0887"
             ],
             [
              0.1111111111111111,
              "#46039f"
             ],
             [
              0.2222222222222222,
              "#7201a8"
             ],
             [
              0.3333333333333333,
              "#9c179e"
             ],
             [
              0.4444444444444444,
              "#bd3786"
             ],
             [
              0.5555555555555556,
              "#d8576b"
             ],
             [
              0.6666666666666666,
              "#ed7953"
             ],
             [
              0.7777777777777778,
              "#fb9f3a"
             ],
             [
              0.8888888888888888,
              "#fdca26"
             ],
             [
              1,
              "#f0f921"
             ]
            ],
            "type": "histogram2dcontour"
           }
          ],
          "mesh3d": [
           {
            "colorbar": {
             "outlinewidth": 0,
             "ticks": ""
            },
            "type": "mesh3d"
           }
          ],
          "parcoords": [
           {
            "line": {
             "colorbar": {
              "outlinewidth": 0,
              "ticks": ""
             }
            },
            "type": "parcoords"
           }
          ],
          "pie": [
           {
            "automargin": true,
            "type": "pie"
           }
          ],
          "scatter": [
           {
            "fillpattern": {
             "fillmode": "overlay",
             "size": 10,
             "solidity": 0.2
            },
            "type": "scatter"
           }
          ],
          "scatter3d": [
           {
            "line": {
             "colorbar": {
              "outlinewidth": 0,
              "ticks": ""
             }
            },
            "marker": {
             "colorbar": {
              "outlinewidth": 0,
              "ticks": ""
             }
            },
            "type": "scatter3d"
           }
          ],
          "scattercarpet": [
           {
            "marker": {
             "colorbar": {
              "outlinewidth": 0,
              "ticks": ""
             }
            },
            "type": "scattercarpet"
           }
          ],
          "scattergeo": [
           {
            "marker": {
             "colorbar": {
              "outlinewidth": 0,
              "ticks": ""
             }
            },
            "type": "scattergeo"
           }
          ],
          "scattergl": [
           {
            "marker": {
             "colorbar": {
              "outlinewidth": 0,
              "ticks": ""
             }
            },
            "type": "scattergl"
           }
          ],
          "scattermap": [
           {
            "marker": {
             "colorbar": {
              "outlinewidth": 0,
              "ticks": ""
             }
            },
            "type": "scattermap"
           }
          ],
          "scattermapbox": [
           {
            "marker": {
             "colorbar": {
              "outlinewidth": 0,
              "ticks": ""
             }
            },
            "type": "scattermapbox"
           }
          ],
          "scatterpolar": [
           {
            "marker": {
             "colorbar": {
              "outlinewidth": 0,
              "ticks": ""
             }
            },
            "type": "scatterpolar"
           }
          ],
          "scatterpolargl": [
           {
            "marker": {
             "colorbar": {
              "outlinewidth": 0,
              "ticks": ""
             }
            },
            "type": "scatterpolargl"
           }
          ],
          "scatterternary": [
           {
            "marker": {
             "colorbar": {
              "outlinewidth": 0,
              "ticks": ""
             }
            },
            "type": "scatterternary"
           }
          ],
          "surface": [
           {
            "colorbar": {
             "outlinewidth": 0,
             "ticks": ""
            },
            "colorscale": [
             [
              0,
              "#0d0887"
             ],
             [
              0.1111111111111111,
              "#46039f"
             ],
             [
              0.2222222222222222,
              "#7201a8"
             ],
             [
              0.3333333333333333,
              "#9c179e"
             ],
             [
              0.4444444444444444,
              "#bd3786"
             ],
             [
              0.5555555555555556,
              "#d8576b"
             ],
             [
              0.6666666666666666,
              "#ed7953"
             ],
             [
              0.7777777777777778,
              "#fb9f3a"
             ],
             [
              0.8888888888888888,
              "#fdca26"
             ],
             [
              1,
              "#f0f921"
             ]
            ],
            "type": "surface"
           }
          ],
          "table": [
           {
            "cells": {
             "fill": {
              "color": "#EBF0F8"
             },
             "line": {
              "color": "white"
             }
            },
            "header": {
             "fill": {
              "color": "#C8D4E3"
             },
             "line": {
              "color": "white"
             }
            },
            "type": "table"
           }
          ]
         },
         "layout": {
          "annotationdefaults": {
           "arrowcolor": "#2a3f5f",
           "arrowhead": 0,
           "arrowwidth": 1
          },
          "autotypenumbers": "strict",
          "coloraxis": {
           "colorbar": {
            "outlinewidth": 0,
            "ticks": ""
           }
          },
          "colorscale": {
           "diverging": [
            [
             0,
             "#8e0152"
            ],
            [
             0.1,
             "#c51b7d"
            ],
            [
             0.2,
             "#de77ae"
            ],
            [
             0.3,
             "#f1b6da"
            ],
            [
             0.4,
             "#fde0ef"
            ],
            [
             0.5,
             "#f7f7f7"
            ],
            [
             0.6,
             "#e6f5d0"
            ],
            [
             0.7,
             "#b8e186"
            ],
            [
             0.8,
             "#7fbc41"
            ],
            [
             0.9,
             "#4d9221"
            ],
            [
             1,
             "#276419"
            ]
           ],
           "sequential": [
            [
             0,
             "#0d0887"
            ],
            [
             0.1111111111111111,
             "#46039f"
            ],
            [
             0.2222222222222222,
             "#7201a8"
            ],
            [
             0.3333333333333333,
             "#9c179e"
            ],
            [
             0.4444444444444444,
             "#bd3786"
            ],
            [
             0.5555555555555556,
             "#d8576b"
            ],
            [
             0.6666666666666666,
             "#ed7953"
            ],
            [
             0.7777777777777778,
             "#fb9f3a"
            ],
            [
             0.8888888888888888,
             "#fdca26"
            ],
            [
             1,
             "#f0f921"
            ]
           ],
           "sequentialminus": [
            [
             0,
             "#0d0887"
            ],
            [
             0.1111111111111111,
             "#46039f"
            ],
            [
             0.2222222222222222,
             "#7201a8"
            ],
            [
             0.3333333333333333,
             "#9c179e"
            ],
            [
             0.4444444444444444,
             "#bd3786"
            ],
            [
             0.5555555555555556,
             "#d8576b"
            ],
            [
             0.6666666666666666,
             "#ed7953"
            ],
            [
             0.7777777777777778,
             "#fb9f3a"
            ],
            [
             0.8888888888888888,
             "#fdca26"
            ],
            [
             1,
             "#f0f921"
            ]
           ]
          },
          "colorway": [
           "#636efa",
           "#EF553B",
           "#00cc96",
           "#ab63fa",
           "#FFA15A",
           "#19d3f3",
           "#FF6692",
           "#B6E880",
           "#FF97FF",
           "#FECB52"
          ],
          "font": {
           "color": "#2a3f5f"
          },
          "geo": {
           "bgcolor": "white",
           "lakecolor": "white",
           "landcolor": "#E5ECF6",
           "showlakes": true,
           "showland": true,
           "subunitcolor": "white"
          },
          "hoverlabel": {
           "align": "left"
          },
          "hovermode": "closest",
          "mapbox": {
           "style": "light"
          },
          "paper_bgcolor": "white",
          "plot_bgcolor": "#E5ECF6",
          "polar": {
           "angularaxis": {
            "gridcolor": "white",
            "linecolor": "white",
            "ticks": ""
           },
           "bgcolor": "#E5ECF6",
           "radialaxis": {
            "gridcolor": "white",
            "linecolor": "white",
            "ticks": ""
           }
          },
          "scene": {
           "xaxis": {
            "backgroundcolor": "#E5ECF6",
            "gridcolor": "white",
            "gridwidth": 2,
            "linecolor": "white",
            "showbackground": true,
            "ticks": "",
            "zerolinecolor": "white"
           },
           "yaxis": {
            "backgroundcolor": "#E5ECF6",
            "gridcolor": "white",
            "gridwidth": 2,
            "linecolor": "white",
            "showbackground": true,
            "ticks": "",
            "zerolinecolor": "white"
           },
           "zaxis": {
            "backgroundcolor": "#E5ECF6",
            "gridcolor": "white",
            "gridwidth": 2,
            "linecolor": "white",
            "showbackground": true,
            "ticks": "",
            "zerolinecolor": "white"
           }
          },
          "shapedefaults": {
           "line": {
            "color": "#2a3f5f"
           }
          },
          "ternary": {
           "aaxis": {
            "gridcolor": "white",
            "linecolor": "white",
            "ticks": ""
           },
           "baxis": {
            "gridcolor": "white",
            "linecolor": "white",
            "ticks": ""
           },
           "bgcolor": "#E5ECF6",
           "caxis": {
            "gridcolor": "white",
            "linecolor": "white",
            "ticks": ""
           }
          },
          "title": {
           "x": 0.05
          },
          "xaxis": {
           "automargin": true,
           "gridcolor": "white",
           "linecolor": "white",
           "ticks": "",
           "title": {
            "standoff": 15
           },
           "zerolinecolor": "white",
           "zerolinewidth": 2
          },
          "yaxis": {
           "automargin": true,
           "gridcolor": "white",
           "linecolor": "white",
           "ticks": "",
           "title": {
            "standoff": 15
           },
           "zerolinecolor": "white",
           "zerolinewidth": 2
          }
         }
        },
        "xaxis": {
         "anchor": "y",
         "domain": [
          0,
          1
         ],
         "title": {
          "text": "Transportation Emissions"
         }
        },
        "yaxis": {
         "anchor": "x",
         "domain": [
          0,
          1
         ],
         "title": {
          "text": "Air Pollution Deaths"
         }
        }
       }
      }
     },
     "metadata": {},
     "output_type": "display_data"
    },
    {
     "data": {
      "application/vnd.plotly.v1+json": {
       "config": {
        "plotlyServerURL": "https://plot.ly"
       },
       "data": [
        {
         "customdata": [
          [
           "AFG"
          ],
          [
           "AGO"
          ],
          [
           "ALB"
          ],
          [
           "ARE"
          ],
          [
           "ARG"
          ],
          [
           "ARM"
          ],
          [
           "ATG"
          ],
          [
           "AUS"
          ],
          [
           "AUT"
          ],
          [
           "AZE"
          ],
          [
           "BDI"
          ],
          [
           "BEL"
          ],
          [
           "BEN"
          ],
          [
           "BFA"
          ],
          [
           "BGD"
          ],
          [
           "BGR"
          ],
          [
           "BHR"
          ],
          [
           "BHS"
          ],
          [
           "BIH"
          ],
          [
           "BLR"
          ],
          [
           "BLZ"
          ],
          [
           "BOL"
          ],
          [
           "BRA"
          ],
          [
           "BRB"
          ],
          [
           "BRN"
          ],
          [
           "BTN"
          ],
          [
           "BWA"
          ],
          [
           "CAF"
          ],
          [
           "CAN"
          ],
          [
           "CHE"
          ],
          [
           "CHL"
          ],
          [
           "CIV"
          ],
          [
           "CMR"
          ],
          [
           "COD"
          ],
          [
           "COG"
          ],
          [
           "COL"
          ],
          [
           "COM"
          ],
          [
           "CPV"
          ],
          [
           "CRI"
          ],
          [
           "CUB"
          ],
          [
           "CYP"
          ],
          [
           "CZE"
          ],
          [
           "DEU"
          ],
          [
           "DJI"
          ],
          [
           "DNK"
          ],
          [
           "DOM"
          ],
          [
           "DZA"
          ],
          [
           "ECU"
          ],
          [
           "EGY"
          ],
          [
           "ERI"
          ],
          [
           "ESP"
          ],
          [
           "EST"
          ],
          [
           "ETH"
          ],
          [
           "FIN"
          ],
          [
           "FJI"
          ],
          [
           "FRA"
          ],
          [
           "GAB"
          ],
          [
           "GBR"
          ],
          [
           "GEO"
          ],
          [
           "GHA"
          ],
          [
           "GIN"
          ],
          [
           "GMB"
          ],
          [
           "GNB"
          ],
          [
           "GNQ"
          ],
          [
           "GRC"
          ],
          [
           "GRD"
          ],
          [
           "GTM"
          ],
          [
           "GUY"
          ],
          [
           "HND"
          ],
          [
           "HRV"
          ],
          [
           "HTI"
          ],
          [
           "HUN"
          ],
          [
           "IDN"
          ],
          [
           "IRL"
          ],
          [
           "IRN"
          ],
          [
           "IRQ"
          ],
          [
           "ISL"
          ],
          [
           "ISR"
          ],
          [
           "ITA"
          ],
          [
           "JAM"
          ],
          [
           "JOR"
          ],
          [
           "JPN"
          ],
          [
           "KAZ"
          ],
          [
           "KEN"
          ],
          [
           "KGZ"
          ],
          [
           "KHM"
          ],
          [
           "KIR"
          ],
          [
           "KOR"
          ],
          [
           "KWT"
          ],
          [
           "LAO"
          ],
          [
           "LBN"
          ],
          [
           "LBR"
          ],
          [
           "LCA"
          ],
          [
           "LKA"
          ],
          [
           "LSO"
          ],
          [
           "LTU"
          ],
          [
           "LUX"
          ],
          [
           "LVA"
          ],
          [
           "MAR"
          ],
          [
           "MDA"
          ],
          [
           "MDG"
          ],
          [
           "MDV"
          ],
          [
           "MEX"
          ],
          [
           "MKD"
          ],
          [
           "MLI"
          ],
          [
           "MLT"
          ],
          [
           "MMR"
          ],
          [
           "MNE"
          ],
          [
           "MNG"
          ],
          [
           "MOZ"
          ],
          [
           "MRT"
          ],
          [
           "MUS"
          ],
          [
           "MWI"
          ],
          [
           "MYS"
          ],
          [
           "NAM"
          ],
          [
           "NER"
          ],
          [
           "NGA"
          ],
          [
           "NIC"
          ],
          [
           "NLD"
          ],
          [
           "NOR"
          ],
          [
           "NPL"
          ],
          [
           "NZL"
          ],
          [
           "OMN"
          ],
          [
           "PAK"
          ],
          [
           "PAN"
          ],
          [
           "PER"
          ],
          [
           "PHL"
          ],
          [
           "PNG"
          ],
          [
           "POL"
          ],
          [
           "PRT"
          ],
          [
           "PRY"
          ],
          [
           "QAT"
          ],
          [
           "ROU"
          ],
          [
           "RUS"
          ],
          [
           "RWA"
          ],
          [
           "SAU"
          ],
          [
           "SDN"
          ],
          [
           "SEN"
          ],
          [
           "SGP"
          ],
          [
           "SLB"
          ],
          [
           "SLE"
          ],
          [
           "SLV"
          ],
          [
           "SRB"
          ],
          [
           "SSD"
          ],
          [
           "STP"
          ],
          [
           "SUR"
          ],
          [
           "SVK"
          ],
          [
           "SVN"
          ],
          [
           "SWE"
          ],
          [
           "SWZ"
          ],
          [
           "SYC"
          ],
          [
           "TCD"
          ],
          [
           "TGO"
          ],
          [
           "THA"
          ],
          [
           "TJK"
          ],
          [
           "TKM"
          ],
          [
           "TLS"
          ],
          [
           "TON"
          ],
          [
           "TTO"
          ],
          [
           "TUN"
          ],
          [
           "TUR"
          ],
          [
           "TZA"
          ],
          [
           "UGA"
          ],
          [
           "UKR"
          ],
          [
           "URY"
          ],
          [
           "USA"
          ],
          [
           "UZB"
          ],
          [
           "VCT"
          ],
          [
           "VNM"
          ],
          [
           "VUT"
          ],
          [
           "WSM"
          ],
          [
           "ZAF"
          ],
          [
           "ZMB"
          ],
          [
           "ZWE"
          ]
         ],
         "hovertemplate": "Coal Mining Emissions=%{x}<br>Air Pollution Deaths=%{y}<br>Country Code=%{customdata[0]}<extra></extra>",
         "legendgroup": "",
         "marker": {
          "color": "#636efa",
          "symbol": "circle"
         },
         "mode": "markers",
         "name": "",
         "orientation": "v",
         "showlegend": false,
         "type": "scatter",
         "x": {
          "bdata": "8DDLtuCcZ0EAAAAAAAAAAObVrQCnoxZBAAAAAAAAAADlg6fFeGEIQQAAAAAAAAAAAAAAAAAAAACADav0wmbXQQAAAAAAAAAAAAAAAAAAAAAAAAAAAAAAAAAAAAAAAAAAAAAAAAAAAAAAAAAAAAAAAHYBFC1Iw1RBjfyZTGB1ckEAAAAAAAAAAAAAAAAAAAAA2axUelbIckEAAAAAAAAAAAAAAAAAAAAAAAAAAAAAAAC+wIL998lJQQAAAAAAAAAAAAAAAAAAAAC93U+7prjtQFuvZ5Nhg1RBAAAAAAAAAABn7rwzdGycQQAAAAAAAAAAAAAAAAAAAAAAAAAAAAAAAAAAAAAAAAAAAAAAAAAAAAAAAAAAAAAAAKZz0jcm3ZtBAAAAAAAAAAAAAAAAAAAAAAAAAAAAAAAAAAAAAAAAAAAAAAAAAAAAANPfR2C3KYNBwFewCEjAoUEAAAAAAAAAAAAAAAAAAAAAAAAAAAAAAAAAAAAAAAAAAAAAAAAAAAAANlJS+BY19UAAAAAAAAAAAMXmZrZcgjpBAAAAAAAAAACTDnWTEhRYQQAAAAAAAAAAAAAAAAAAAAAAAAAAAAAAAAAAAAAAAAAAmGbEECcjTkGWqw/ED2dgQQAAAAAAAAAAAAAAAAAAAAAAAAAAAAAAAAAAAAAAAAAAAAAAAAAAAAA3wUnM5bNaQQAAAAAAAAAAAAAAAAAAAAAAAAAAAAAAAAAAAAAAAAAAAAAAAAAAAAAAAAAAAAAAAND8OLkCXU1BdtvducHvv0EAAAAAAAAAAPC0GFt3+kFBAAAAAAAAAAAAAAAAAAAAAAAAAAAAAAAAAAAAAAAAAAAAAAAAAAAAAAAAAAAAAAAAqq9Zr71fQ0HWTKsmuXKsQQAAAAAAAAAApDYiXRWgKkG67FzJ3bfgQAAAAAAAAAAA36+l7NhtcUEAAAAAAAAAAHIFuDmTq1tBAAAAAAAAAAAAAAAAAAAAAAAAAAAAAAAAAAAAAAAAAAAAAAAAAAAAAAAAAAAAAAAAAAAAAAAAAAAAAAAAAAAAAAAAAAAAAAAAAAAAAAAAAAAAAAAAAAAAAAAAAAAAAAAA2EvECnAuc0EMKv/PSgpDQQAAAAAAAAAAAAAAAAAAAAB+sbIn6EggQTxlVkJCOCdBPlrOu6mCjkHs2aT87+iAQQAAAAAAAAAAAAAAAAAAAABcfSCqo3pCQeHfmk8c3UtBAAAAAAAAAADHOG3xisT4QMulEr/e4fRAAAAAAAAAAAAAAAAAAAAAAH2cXNe52ydBBeLl45EBykBaOid9JC9KQQAAAAAAAAAAqe5boFrYLUEAAAAAAAAAAH3i0I1xOR5ByFJVp8hhYUEAAAAAAAAAADUOMAh0jr1BAAAAAAAAAAAAAAAAAAAAAAAAAAAAAAAAqiw1DqBmZUHiZpqGPbnSQQAAAAAAAAAAAAAAAAAAAAAAAAAAAAAAAAAAAAAAAAAAAAAAAAAAAAAAAAAAAAAAAAAAAAAAAAAAAAAAAAAAAACrk5GZha58QQAAAAAAAAAAAAAAAAAAAAAAAAAAAAAAAOgntDvV5URBjcUyJODeYEEAAAAAAAAAAHTSR80GUTdBAAAAAAAAAAAAAAAAAAAAAAAAAAAAAAAA9GDA+VZ9hkG+pJYM32tdQQAAAAAAAAAAAAAAAAAAAAAAAAAAAAAAAAAAAAAAAAAAAAAAAAAAAAC0svhh5jKOQS6/pJaOU0BBAAAAAAAAAAAaXsKe956qQQAAAAAAAAAAo4uNzYg32UF/UJ+OBAZbQQAAAAAAAAAAzimY2O2ro0EAAAAAAAAAAAAAAAAAAAAAhIAcIDU8w0FTIgN0v24nQRUgFl/TnmdB",
          "dtype": "f8"
         },
         "xaxis": "x",
         "y": {
          "bdata": "AAAAAOCO5UC4HoXrUZnQQEfhehRuyLdAmpmZmRkfrECamZmZCRbhQMzMzMzMcbtAFK5H4XqURUCZmZmZ2YjAQAAAAABAesJAzczMzGxK1EB7FK5HIa66QJqZmZnZUcRA61G4HiWow0AUrkfhWhDOQAAAAADQzwJBMzMzM/Mf10BSuB6F6/GHQBSuR+F6NFZAzczMzMx5v0AzMzMzM+3ZQBSuR+F6lFpAH4XrUXhExkAAAAAAkK36QML1KFyPsm1AKVyPwvU4XEB7FK5H4aSFQChcj8L11pZA7FG4HkWXskDNzMzMzGXOQAAAAACA2LRAzczMzMz1xEC4HoXrcavVQOF6FK53mdhAMzMzM0PK70BxPQrXo3OmQGZmZmamZNlAzczMzMx2eEDiehSuR218QD4K16Nw6J9AAAAAAMAky0DrUbgehcOEQDMzMzOzOdJAAAAAABAW90C4HoXrUWyGQDQzMzMz/K5A61G4HsXItkAAAAAAQHrgQPYoXI8CLL1AAAAAAKisAEFcj8L1qDyoQGZmZmZm2txACtejcD3XkEDNzMzMjDfqQIXrUbie56JAhetRuB49fkAAAAAAYGXjQFyPwvUoNZJAAAAAAEAp50BmZmZmJrjEQArXo3BtR9hAmpmZmRnPyUA+CtejcHSZQFK4HoXrx5hA7FG4HoWBhkAAAAAAIH7QQAAAAAAAUFVA9ihcj+LkwkC4HoXrUd6FQLgehevRobdAmpmZmVkRwEApXI/CtbO+QGZmZmZmCNVAAAAAAIjoC0EUrkfh+rOhQGZmZmbeXPBAMzMzM1N93EApXI/C9TheQJqZmZmZwq9AAAAAAMAW8UD2KFyPwmWXQFK4HoXrJ61AAAAAANDP/kAAAAAA4CHZQArXo3AdW8lAZmZmZuYnvUAAAAAAgF3FQPYoXI/CRVFAAAAAAMBm40DsUbgehYmcQD0K16Nw+7NAMzMzMzNAvEDXo3A9CkunQMP1KFyPolhAmZmZmTkj0kBSuB6Fa2CnQML1KFwPWrlAAAAAAABkdECuR+F6VMqwQJqZmZmJfOJACtejcH3ru0BSuB6FC8rMQEjhehSu32NAmpmZmZHf8UA9CtejcJmxQOF6FK5HlMtAexSuR+FifkCamZmZOXnqQBSuR+F6Z5hA7FG4HgX0sUCuR+F6pBjRQB6F61G4a6ZAAAAAAADGjkCkcD0K15u4QM3MzMzsGN5AUrgehestkUDNzMzMjG7VQJqZmZkJoglB9ihcj8J3q0DNzMzMDNLGQB+F61G4YJ9AzczMzEw23UC4HoXrUcugQFyPwvWoY6xAAAAAANzJEUEzMzMzM5CZQAAAAABgt9BAmpmZmYm8/EApXI/C9dipQAAAAABANPNAzczMzEw2vECuR+F6FESlQFyPwvUotolAMzMzM2N85kAAAAAAmOULQUjhehTuq7lAMzMzM9O/4EBmZmZmJsHcQArXo3B90sJAMzMzMzODrEApXI/C9RB4QBWuR+E6mr5AzczMzAxWsUDNzMzM7DrSQBWuR+H6m7hAFK5H4XqsY0BmZmZmZiZ5QAAAAACAtrxA7FG4HgXHo0DNzMzMDKyyQB6F61G4iohASOF6FK4XVkDhehSu98/SQHA9CtfjA7pAAAAAAODL7EBI4XoU7sPKQFyPwvWo5blArkfhehRmikDrUbgehetCQDMzMzMz44ZAZmZmZibnykAAAAAAcN/wQBSuR+FKf9BAmpmZmelf0UAzMzMzu8n+QOF6FK7Hv6FAAAAAAGgzCUFmZmZmxhvoQPUoXI/ChVJAAAAAACDo+ED2KFyPwt1mQLgehetRiFVAMzMzM9MT5EDsUbgexYu7QAAAAAAATrtA",
          "dtype": "f8"
         },
         "yaxis": "y"
        }
       ],
       "layout": {
        "annotations": [
         {
          "font": {
           "color": "red",
           "size": 14
          },
          "showarrow": false,
          "text": "Correlation: 0.4381",
          "x": 1692279606.2116477,
          "y": 291447
         }
        ],
        "legend": {
         "tracegroupgap": 0
        },
        "margin": {
         "t": 60
        },
        "template": {
         "data": {
          "bar": [
           {
            "error_x": {
             "color": "#2a3f5f"
            },
            "error_y": {
             "color": "#2a3f5f"
            },
            "marker": {
             "line": {
              "color": "#E5ECF6",
              "width": 0.5
             },
             "pattern": {
              "fillmode": "overlay",
              "size": 10,
              "solidity": 0.2
             }
            },
            "type": "bar"
           }
          ],
          "barpolar": [
           {
            "marker": {
             "line": {
              "color": "#E5ECF6",
              "width": 0.5
             },
             "pattern": {
              "fillmode": "overlay",
              "size": 10,
              "solidity": 0.2
             }
            },
            "type": "barpolar"
           }
          ],
          "carpet": [
           {
            "aaxis": {
             "endlinecolor": "#2a3f5f",
             "gridcolor": "white",
             "linecolor": "white",
             "minorgridcolor": "white",
             "startlinecolor": "#2a3f5f"
            },
            "baxis": {
             "endlinecolor": "#2a3f5f",
             "gridcolor": "white",
             "linecolor": "white",
             "minorgridcolor": "white",
             "startlinecolor": "#2a3f5f"
            },
            "type": "carpet"
           }
          ],
          "choropleth": [
           {
            "colorbar": {
             "outlinewidth": 0,
             "ticks": ""
            },
            "type": "choropleth"
           }
          ],
          "contour": [
           {
            "colorbar": {
             "outlinewidth": 0,
             "ticks": ""
            },
            "colorscale": [
             [
              0,
              "#0d0887"
             ],
             [
              0.1111111111111111,
              "#46039f"
             ],
             [
              0.2222222222222222,
              "#7201a8"
             ],
             [
              0.3333333333333333,
              "#9c179e"
             ],
             [
              0.4444444444444444,
              "#bd3786"
             ],
             [
              0.5555555555555556,
              "#d8576b"
             ],
             [
              0.6666666666666666,
              "#ed7953"
             ],
             [
              0.7777777777777778,
              "#fb9f3a"
             ],
             [
              0.8888888888888888,
              "#fdca26"
             ],
             [
              1,
              "#f0f921"
             ]
            ],
            "type": "contour"
           }
          ],
          "contourcarpet": [
           {
            "colorbar": {
             "outlinewidth": 0,
             "ticks": ""
            },
            "type": "contourcarpet"
           }
          ],
          "heatmap": [
           {
            "colorbar": {
             "outlinewidth": 0,
             "ticks": ""
            },
            "colorscale": [
             [
              0,
              "#0d0887"
             ],
             [
              0.1111111111111111,
              "#46039f"
             ],
             [
              0.2222222222222222,
              "#7201a8"
             ],
             [
              0.3333333333333333,
              "#9c179e"
             ],
             [
              0.4444444444444444,
              "#bd3786"
             ],
             [
              0.5555555555555556,
              "#d8576b"
             ],
             [
              0.6666666666666666,
              "#ed7953"
             ],
             [
              0.7777777777777778,
              "#fb9f3a"
             ],
             [
              0.8888888888888888,
              "#fdca26"
             ],
             [
              1,
              "#f0f921"
             ]
            ],
            "type": "heatmap"
           }
          ],
          "histogram": [
           {
            "marker": {
             "pattern": {
              "fillmode": "overlay",
              "size": 10,
              "solidity": 0.2
             }
            },
            "type": "histogram"
           }
          ],
          "histogram2d": [
           {
            "colorbar": {
             "outlinewidth": 0,
             "ticks": ""
            },
            "colorscale": [
             [
              0,
              "#0d0887"
             ],
             [
              0.1111111111111111,
              "#46039f"
             ],
             [
              0.2222222222222222,
              "#7201a8"
             ],
             [
              0.3333333333333333,
              "#9c179e"
             ],
             [
              0.4444444444444444,
              "#bd3786"
             ],
             [
              0.5555555555555556,
              "#d8576b"
             ],
             [
              0.6666666666666666,
              "#ed7953"
             ],
             [
              0.7777777777777778,
              "#fb9f3a"
             ],
             [
              0.8888888888888888,
              "#fdca26"
             ],
             [
              1,
              "#f0f921"
             ]
            ],
            "type": "histogram2d"
           }
          ],
          "histogram2dcontour": [
           {
            "colorbar": {
             "outlinewidth": 0,
             "ticks": ""
            },
            "colorscale": [
             [
              0,
              "#0d0887"
             ],
             [
              0.1111111111111111,
              "#46039f"
             ],
             [
              0.2222222222222222,
              "#7201a8"
             ],
             [
              0.3333333333333333,
              "#9c179e"
             ],
             [
              0.4444444444444444,
              "#bd3786"
             ],
             [
              0.5555555555555556,
              "#d8576b"
             ],
             [
              0.6666666666666666,
              "#ed7953"
             ],
             [
              0.7777777777777778,
              "#fb9f3a"
             ],
             [
              0.8888888888888888,
              "#fdca26"
             ],
             [
              1,
              "#f0f921"
             ]
            ],
            "type": "histogram2dcontour"
           }
          ],
          "mesh3d": [
           {
            "colorbar": {
             "outlinewidth": 0,
             "ticks": ""
            },
            "type": "mesh3d"
           }
          ],
          "parcoords": [
           {
            "line": {
             "colorbar": {
              "outlinewidth": 0,
              "ticks": ""
             }
            },
            "type": "parcoords"
           }
          ],
          "pie": [
           {
            "automargin": true,
            "type": "pie"
           }
          ],
          "scatter": [
           {
            "fillpattern": {
             "fillmode": "overlay",
             "size": 10,
             "solidity": 0.2
            },
            "type": "scatter"
           }
          ],
          "scatter3d": [
           {
            "line": {
             "colorbar": {
              "outlinewidth": 0,
              "ticks": ""
             }
            },
            "marker": {
             "colorbar": {
              "outlinewidth": 0,
              "ticks": ""
             }
            },
            "type": "scatter3d"
           }
          ],
          "scattercarpet": [
           {
            "marker": {
             "colorbar": {
              "outlinewidth": 0,
              "ticks": ""
             }
            },
            "type": "scattercarpet"
           }
          ],
          "scattergeo": [
           {
            "marker": {
             "colorbar": {
              "outlinewidth": 0,
              "ticks": ""
             }
            },
            "type": "scattergeo"
           }
          ],
          "scattergl": [
           {
            "marker": {
             "colorbar": {
              "outlinewidth": 0,
              "ticks": ""
             }
            },
            "type": "scattergl"
           }
          ],
          "scattermap": [
           {
            "marker": {
             "colorbar": {
              "outlinewidth": 0,
              "ticks": ""
             }
            },
            "type": "scattermap"
           }
          ],
          "scattermapbox": [
           {
            "marker": {
             "colorbar": {
              "outlinewidth": 0,
              "ticks": ""
             }
            },
            "type": "scattermapbox"
           }
          ],
          "scatterpolar": [
           {
            "marker": {
             "colorbar": {
              "outlinewidth": 0,
              "ticks": ""
             }
            },
            "type": "scatterpolar"
           }
          ],
          "scatterpolargl": [
           {
            "marker": {
             "colorbar": {
              "outlinewidth": 0,
              "ticks": ""
             }
            },
            "type": "scatterpolargl"
           }
          ],
          "scatterternary": [
           {
            "marker": {
             "colorbar": {
              "outlinewidth": 0,
              "ticks": ""
             }
            },
            "type": "scatterternary"
           }
          ],
          "surface": [
           {
            "colorbar": {
             "outlinewidth": 0,
             "ticks": ""
            },
            "colorscale": [
             [
              0,
              "#0d0887"
             ],
             [
              0.1111111111111111,
              "#46039f"
             ],
             [
              0.2222222222222222,
              "#7201a8"
             ],
             [
              0.3333333333333333,
              "#9c179e"
             ],
             [
              0.4444444444444444,
              "#bd3786"
             ],
             [
              0.5555555555555556,
              "#d8576b"
             ],
             [
              0.6666666666666666,
              "#ed7953"
             ],
             [
              0.7777777777777778,
              "#fb9f3a"
             ],
             [
              0.8888888888888888,
              "#fdca26"
             ],
             [
              1,
              "#f0f921"
             ]
            ],
            "type": "surface"
           }
          ],
          "table": [
           {
            "cells": {
             "fill": {
              "color": "#EBF0F8"
             },
             "line": {
              "color": "white"
             }
            },
            "header": {
             "fill": {
              "color": "#C8D4E3"
             },
             "line": {
              "color": "white"
             }
            },
            "type": "table"
           }
          ]
         },
         "layout": {
          "annotationdefaults": {
           "arrowcolor": "#2a3f5f",
           "arrowhead": 0,
           "arrowwidth": 1
          },
          "autotypenumbers": "strict",
          "coloraxis": {
           "colorbar": {
            "outlinewidth": 0,
            "ticks": ""
           }
          },
          "colorscale": {
           "diverging": [
            [
             0,
             "#8e0152"
            ],
            [
             0.1,
             "#c51b7d"
            ],
            [
             0.2,
             "#de77ae"
            ],
            [
             0.3,
             "#f1b6da"
            ],
            [
             0.4,
             "#fde0ef"
            ],
            [
             0.5,
             "#f7f7f7"
            ],
            [
             0.6,
             "#e6f5d0"
            ],
            [
             0.7,
             "#b8e186"
            ],
            [
             0.8,
             "#7fbc41"
            ],
            [
             0.9,
             "#4d9221"
            ],
            [
             1,
             "#276419"
            ]
           ],
           "sequential": [
            [
             0,
             "#0d0887"
            ],
            [
             0.1111111111111111,
             "#46039f"
            ],
            [
             0.2222222222222222,
             "#7201a8"
            ],
            [
             0.3333333333333333,
             "#9c179e"
            ],
            [
             0.4444444444444444,
             "#bd3786"
            ],
            [
             0.5555555555555556,
             "#d8576b"
            ],
            [
             0.6666666666666666,
             "#ed7953"
            ],
            [
             0.7777777777777778,
             "#fb9f3a"
            ],
            [
             0.8888888888888888,
             "#fdca26"
            ],
            [
             1,
             "#f0f921"
            ]
           ],
           "sequentialminus": [
            [
             0,
             "#0d0887"
            ],
            [
             0.1111111111111111,
             "#46039f"
            ],
            [
             0.2222222222222222,
             "#7201a8"
            ],
            [
             0.3333333333333333,
             "#9c179e"
            ],
            [
             0.4444444444444444,
             "#bd3786"
            ],
            [
             0.5555555555555556,
             "#d8576b"
            ],
            [
             0.6666666666666666,
             "#ed7953"
            ],
            [
             0.7777777777777778,
             "#fb9f3a"
            ],
            [
             0.8888888888888888,
             "#fdca26"
            ],
            [
             1,
             "#f0f921"
            ]
           ]
          },
          "colorway": [
           "#636efa",
           "#EF553B",
           "#00cc96",
           "#ab63fa",
           "#FFA15A",
           "#19d3f3",
           "#FF6692",
           "#B6E880",
           "#FF97FF",
           "#FECB52"
          ],
          "font": {
           "color": "#2a3f5f"
          },
          "geo": {
           "bgcolor": "white",
           "lakecolor": "white",
           "landcolor": "#E5ECF6",
           "showlakes": true,
           "showland": true,
           "subunitcolor": "white"
          },
          "hoverlabel": {
           "align": "left"
          },
          "hovermode": "closest",
          "mapbox": {
           "style": "light"
          },
          "paper_bgcolor": "white",
          "plot_bgcolor": "#E5ECF6",
          "polar": {
           "angularaxis": {
            "gridcolor": "white",
            "linecolor": "white",
            "ticks": ""
           },
           "bgcolor": "#E5ECF6",
           "radialaxis": {
            "gridcolor": "white",
            "linecolor": "white",
            "ticks": ""
           }
          },
          "scene": {
           "xaxis": {
            "backgroundcolor": "#E5ECF6",
            "gridcolor": "white",
            "gridwidth": 2,
            "linecolor": "white",
            "showbackground": true,
            "ticks": "",
            "zerolinecolor": "white"
           },
           "yaxis": {
            "backgroundcolor": "#E5ECF6",
            "gridcolor": "white",
            "gridwidth": 2,
            "linecolor": "white",
            "showbackground": true,
            "ticks": "",
            "zerolinecolor": "white"
           },
           "zaxis": {
            "backgroundcolor": "#E5ECF6",
            "gridcolor": "white",
            "gridwidth": 2,
            "linecolor": "white",
            "showbackground": true,
            "ticks": "",
            "zerolinecolor": "white"
           }
          },
          "shapedefaults": {
           "line": {
            "color": "#2a3f5f"
           }
          },
          "ternary": {
           "aaxis": {
            "gridcolor": "white",
            "linecolor": "white",
            "ticks": ""
           },
           "baxis": {
            "gridcolor": "white",
            "linecolor": "white",
            "ticks": ""
           },
           "bgcolor": "#E5ECF6",
           "caxis": {
            "gridcolor": "white",
            "linecolor": "white",
            "ticks": ""
           }
          },
          "title": {
           "x": 0.05
          },
          "xaxis": {
           "automargin": true,
           "gridcolor": "white",
           "linecolor": "white",
           "ticks": "",
           "title": {
            "standoff": 15
           },
           "zerolinecolor": "white",
           "zerolinewidth": 2
          },
          "yaxis": {
           "automargin": true,
           "gridcolor": "white",
           "linecolor": "white",
           "ticks": "",
           "title": {
            "standoff": 15
           },
           "zerolinecolor": "white",
           "zerolinewidth": 2
          }
         }
        },
        "xaxis": {
         "anchor": "y",
         "domain": [
          0,
          1
         ],
         "title": {
          "text": "Coal Mining Emissions"
         }
        },
        "yaxis": {
         "anchor": "x",
         "domain": [
          0,
          1
         ],
         "title": {
          "text": "Air Pollution Deaths"
         }
        }
       }
      }
     },
     "metadata": {},
     "output_type": "display_data"
    },
    {
     "data": {
      "application/vnd.plotly.v1+json": {
       "config": {
        "plotlyServerURL": "https://plot.ly"
       },
       "data": [
        {
         "customdata": [
          [
           "AFG"
          ],
          [
           "AGO"
          ],
          [
           "ALB"
          ],
          [
           "ARE"
          ],
          [
           "ARG"
          ],
          [
           "ARM"
          ],
          [
           "ATG"
          ],
          [
           "AUS"
          ],
          [
           "AUT"
          ],
          [
           "AZE"
          ],
          [
           "BDI"
          ],
          [
           "BEL"
          ],
          [
           "BEN"
          ],
          [
           "BFA"
          ],
          [
           "BGD"
          ],
          [
           "BGR"
          ],
          [
           "BHR"
          ],
          [
           "BHS"
          ],
          [
           "BIH"
          ],
          [
           "BLR"
          ],
          [
           "BLZ"
          ],
          [
           "BOL"
          ],
          [
           "BRA"
          ],
          [
           "BRB"
          ],
          [
           "BRN"
          ],
          [
           "BTN"
          ],
          [
           "BWA"
          ],
          [
           "CAF"
          ],
          [
           "CAN"
          ],
          [
           "CHE"
          ],
          [
           "CHL"
          ],
          [
           "CIV"
          ],
          [
           "CMR"
          ],
          [
           "COD"
          ],
          [
           "COG"
          ],
          [
           "COL"
          ],
          [
           "COM"
          ],
          [
           "CPV"
          ],
          [
           "CRI"
          ],
          [
           "CUB"
          ],
          [
           "CYP"
          ],
          [
           "CZE"
          ],
          [
           "DEU"
          ],
          [
           "DJI"
          ],
          [
           "DNK"
          ],
          [
           "DOM"
          ],
          [
           "DZA"
          ],
          [
           "ECU"
          ],
          [
           "EGY"
          ],
          [
           "ERI"
          ],
          [
           "ESP"
          ],
          [
           "EST"
          ],
          [
           "ETH"
          ],
          [
           "FIN"
          ],
          [
           "FJI"
          ],
          [
           "FRA"
          ],
          [
           "GAB"
          ],
          [
           "GBR"
          ],
          [
           "GEO"
          ],
          [
           "GHA"
          ],
          [
           "GIN"
          ],
          [
           "GMB"
          ],
          [
           "GNB"
          ],
          [
           "GNQ"
          ],
          [
           "GRC"
          ],
          [
           "GRD"
          ],
          [
           "GTM"
          ],
          [
           "GUY"
          ],
          [
           "HND"
          ],
          [
           "HRV"
          ],
          [
           "HTI"
          ],
          [
           "HUN"
          ],
          [
           "IDN"
          ],
          [
           "IRL"
          ],
          [
           "IRN"
          ],
          [
           "IRQ"
          ],
          [
           "ISL"
          ],
          [
           "ISR"
          ],
          [
           "ITA"
          ],
          [
           "JAM"
          ],
          [
           "JOR"
          ],
          [
           "JPN"
          ],
          [
           "KAZ"
          ],
          [
           "KEN"
          ],
          [
           "KGZ"
          ],
          [
           "KHM"
          ],
          [
           "KIR"
          ],
          [
           "KOR"
          ],
          [
           "KWT"
          ],
          [
           "LAO"
          ],
          [
           "LBN"
          ],
          [
           "LBR"
          ],
          [
           "LCA"
          ],
          [
           "LKA"
          ],
          [
           "LSO"
          ],
          [
           "LTU"
          ],
          [
           "LUX"
          ],
          [
           "LVA"
          ],
          [
           "MAR"
          ],
          [
           "MDA"
          ],
          [
           "MDG"
          ],
          [
           "MDV"
          ],
          [
           "MEX"
          ],
          [
           "MKD"
          ],
          [
           "MLI"
          ],
          [
           "MLT"
          ],
          [
           "MMR"
          ],
          [
           "MNE"
          ],
          [
           "MNG"
          ],
          [
           "MOZ"
          ],
          [
           "MRT"
          ],
          [
           "MUS"
          ],
          [
           "MWI"
          ],
          [
           "MYS"
          ],
          [
           "NAM"
          ],
          [
           "NER"
          ],
          [
           "NGA"
          ],
          [
           "NIC"
          ],
          [
           "NLD"
          ],
          [
           "NOR"
          ],
          [
           "NPL"
          ],
          [
           "NZL"
          ],
          [
           "OMN"
          ],
          [
           "PAK"
          ],
          [
           "PAN"
          ],
          [
           "PER"
          ],
          [
           "PHL"
          ],
          [
           "PNG"
          ],
          [
           "POL"
          ],
          [
           "PRT"
          ],
          [
           "PRY"
          ],
          [
           "QAT"
          ],
          [
           "ROU"
          ],
          [
           "RUS"
          ],
          [
           "RWA"
          ],
          [
           "SAU"
          ],
          [
           "SDN"
          ],
          [
           "SEN"
          ],
          [
           "SGP"
          ],
          [
           "SLB"
          ],
          [
           "SLE"
          ],
          [
           "SLV"
          ],
          [
           "SRB"
          ],
          [
           "SSD"
          ],
          [
           "STP"
          ],
          [
           "SUR"
          ],
          [
           "SVK"
          ],
          [
           "SVN"
          ],
          [
           "SWE"
          ],
          [
           "SWZ"
          ],
          [
           "SYC"
          ],
          [
           "TCD"
          ],
          [
           "TGO"
          ],
          [
           "THA"
          ],
          [
           "TJK"
          ],
          [
           "TKM"
          ],
          [
           "TLS"
          ],
          [
           "TON"
          ],
          [
           "TTO"
          ],
          [
           "TUN"
          ],
          [
           "TUR"
          ],
          [
           "TZA"
          ],
          [
           "UGA"
          ],
          [
           "UKR"
          ],
          [
           "URY"
          ],
          [
           "USA"
          ],
          [
           "UZB"
          ],
          [
           "VCT"
          ],
          [
           "VNM"
          ],
          [
           "VUT"
          ],
          [
           "WSM"
          ],
          [
           "ZAF"
          ],
          [
           "ZMB"
          ],
          [
           "ZWE"
          ]
         ],
         "hovertemplate": "Cropland Fires Emissions=%{x}<br>Air Pollution Deaths=%{y}<br>Country Code=%{customdata[0]}<extra></extra>",
         "legendgroup": "",
         "marker": {
          "color": "#636efa",
          "symbol": "circle"
         },
         "mode": "markers",
         "name": "",
         "orientation": "v",
         "showlegend": false,
         "type": "scatter",
         "x": {
          "bdata": "ydy4ul0PfUEgHClK/sCQQbbKhCD4eTxBysg+0k2MA0GT6LtY7/fGQdMECQ4NyyxBE+a3lAUygEB8BoNLAaWuQZt95u3FKVFBBadKVswIYEFT0qKRM11aQc+oTKwdREJBRKoNKzc4eEHSWhEf1LSBQY8p78Dbq6VBHfsHQSpufEHba9RSP0BVQEHZzuJszAJB3sOj/MjETkEKKa9IXjFuQTODUY/BuFBBjsKQcVCYjkG64Zrho4npQSeloLuAiAxBPAd4szI68UB6C5rnZX4iQdu2g3RzY1FBW5Pwk40YUEHBX5zglfiVQcMDIhWykSpBjl9o5RVncUEPlVKoTBqHQX1490c0J4FBh93Q9yoelUEr7AS3BZJCQW+FQ4d+hZZBVR44Dk5aJkF9Pi3jO8wTQUrI18cxFmZBQYXV3kOTgkHMRwaaoZUPQbCdNgy5RnVB+UPZGudigEF/FyU4sZrbQLdqCBloblhBO09dK8vocUFLU85xAZI4QfDWAQepPoNBsy3WTn3MV0Foh0ec1DZQQeLMKKVlQHFBrB5rcFjtTEG0hH3kjnagQdAOMjzcZEFBWMcI90gYI0FB79JPRd6IQX/vhtinbzZBcDQDsTQTcUH4DSOFeh0wQUidUDZaV4hBgeMPg7WviUFKDXs08PVAQbO99v1NHU9B00Gczq9SIkFoeMOLi61hQcrImXn4v99ADIP7aPuPkkErpAGP6zhaQYFV7BDHTnBBurM1uwvCYUGzPSBoBcliQRgY4QSwoIBBqGIj6NJN1kHS8iyVVTA0QSgIL0QEjjFBXD0kDnbcgUEVA1jhBoKxQCULWpu3xjBBIHdMOYQrjEGU67fPsS85Qd7aIYsUqStBRl0iIVsrWEGQizNhw4OQQRytOTxsmWdBrOKcMmDNUkHuz2sbr/CzQbND1EQnrmE/hWNtQPkTNkFaZmfx3Zj1QBPzuxq7KZhBiw/OhuIFNEEZgP0+eANZQZs1PrQg3ctAGNWDwEhIOkER2C171xREQR4ydPffT29B5Hjc72fb+UDGAGdUK+xeQR/75DjT30hBj2yFYvZWYkEnWjzW6D6GQStR1NtonchAZPRRJ2qos0GtZfrhEXs4Qe4/K7d9HY9BzsNsdvJefkBwk2zHkyq7QTmIcVRUIkJB/xE79FWFGkFwCl2lHdF4QdT6oGfTB09BYH5dKpzVPkFQ7BukJ/V0QfgT3HH0MJFBDX2myE+XYEGmsxSjIJeIQXwKw/y+qrdBPrUO4gcIekF+bjVQ9mE+QeXEwR5eEilBLqSLFRmBhEGW/ikIt8pnQQ/Pyu05whhB72KUxnDasUE8gilN4kRjQXEO+LxZXYxBlobmoDHvxEFLOGQxRa83QZQ/D8hvI5BBR5W5BopaQ0HO0VtLGVueQWQhnS51C7xAvaNdYMhqkEHYYAPJad62QcnBt2JDo15BW+uDpbC/WUHI/HfvFQ+TQfbzuQ70InhBXbJ3qopYgUCzBRgzdTbzQNiPsiC+4XJBrZsIbuNCeEFPuJF0qWp0QVO7+IEXmmNBbqx6L6azyEAB/4upL9k+QdIB04Au2GRBL1vOHP0AN0Ghq+7zw7NPQd1ioOGWz2NBHDgONLGmYEA1CcTL8+t0QT7bcKgALG9B6Y2rlQz4xkFbqSV6OOxNQfukc6rLBVVBOMKHR7kZREEtc6UTmuTFQPv+R4LWpu5AkGpM2bQmI0HPdtgnxX2yQUUHhVT9+ZJBHU70ToJze0G4c8l0NbKnQWFo7oJ/Xn5BrHxP+yHktkEan9ra7xp0QYZS7dPD0+tABKp5t5TuyEEmjYoN5RIDQW1z15nA/8NA5t2cYpKRrkET6SuNpc6NQdhmQwgysIVB",
          "dtype": "f8"
         },
         "xaxis": "x",
         "y": {
          "bdata": "AAAAAOCO5UC4HoXrUZnQQEfhehRuyLdAmpmZmRkfrECamZmZCRbhQMzMzMzMcbtAFK5H4XqURUCZmZmZ2YjAQAAAAABAesJAzczMzGxK1EB7FK5HIa66QJqZmZnZUcRA61G4HiWow0AUrkfhWhDOQAAAAADQzwJBMzMzM/Mf10BSuB6F6/GHQBSuR+F6NFZAzczMzMx5v0AzMzMzM+3ZQBSuR+F6lFpAH4XrUXhExkAAAAAAkK36QML1KFyPsm1AKVyPwvU4XEB7FK5H4aSFQChcj8L11pZA7FG4HkWXskDNzMzMzGXOQAAAAACA2LRAzczMzMz1xEC4HoXrcavVQOF6FK53mdhAMzMzM0PK70BxPQrXo3OmQGZmZmamZNlAzczMzMx2eEDiehSuR218QD4K16Nw6J9AAAAAAMAky0DrUbgehcOEQDMzMzOzOdJAAAAAABAW90C4HoXrUWyGQDQzMzMz/K5A61G4HsXItkAAAAAAQHrgQPYoXI8CLL1AAAAAAKisAEFcj8L1qDyoQGZmZmZm2txACtejcD3XkEDNzMzMjDfqQIXrUbie56JAhetRuB49fkAAAAAAYGXjQFyPwvUoNZJAAAAAAEAp50BmZmZmJrjEQArXo3BtR9hAmpmZmRnPyUA+CtejcHSZQFK4HoXrx5hA7FG4HoWBhkAAAAAAIH7QQAAAAAAAUFVA9ihcj+LkwkC4HoXrUd6FQLgehevRobdAmpmZmVkRwEApXI/CtbO+QGZmZmZmCNVAAAAAAIjoC0EUrkfh+rOhQGZmZmbeXPBAMzMzM1N93EApXI/C9TheQJqZmZmZwq9AAAAAAMAW8UD2KFyPwmWXQFK4HoXrJ61AAAAAANDP/kAAAAAA4CHZQArXo3AdW8lAZmZmZuYnvUAAAAAAgF3FQPYoXI/CRVFAAAAAAMBm40DsUbgehYmcQD0K16Nw+7NAMzMzMzNAvEDXo3A9CkunQMP1KFyPolhAmZmZmTkj0kBSuB6Fa2CnQML1KFwPWrlAAAAAAABkdECuR+F6VMqwQJqZmZmJfOJACtejcH3ru0BSuB6FC8rMQEjhehSu32NAmpmZmZHf8UA9CtejcJmxQOF6FK5HlMtAexSuR+FifkCamZmZOXnqQBSuR+F6Z5hA7FG4HgX0sUCuR+F6pBjRQB6F61G4a6ZAAAAAAADGjkCkcD0K15u4QM3MzMzsGN5AUrgehestkUDNzMzMjG7VQJqZmZkJoglB9ihcj8J3q0DNzMzMDNLGQB+F61G4YJ9AzczMzEw23UC4HoXrUcugQFyPwvWoY6xAAAAAANzJEUEzMzMzM5CZQAAAAABgt9BAmpmZmYm8/EApXI/C9dipQAAAAABANPNAzczMzEw2vECuR+F6FESlQFyPwvUotolAMzMzM2N85kAAAAAAmOULQUjhehTuq7lAMzMzM9O/4EBmZmZmJsHcQArXo3B90sJAMzMzMzODrEApXI/C9RB4QBWuR+E6mr5AzczMzAxWsUDNzMzM7DrSQBWuR+H6m7hAFK5H4XqsY0BmZmZmZiZ5QAAAAACAtrxA7FG4HgXHo0DNzMzMDKyyQB6F61G4iohASOF6FK4XVkDhehSu98/SQHA9CtfjA7pAAAAAAODL7EBI4XoU7sPKQFyPwvWo5blArkfhehRmikDrUbgehetCQDMzMzMz44ZAZmZmZibnykAAAAAAcN/wQBSuR+FKf9BAmpmZmelf0UAzMzMzu8n+QOF6FK7Hv6FAAAAAAGgzCUFmZmZmxhvoQPUoXI/ChVJAAAAAACDo+ED2KFyPwt1mQLgehetRiFVAMzMzM9MT5EDsUbgexYu7QAAAAAAATrtA",
          "dtype": "f8"
         },
         "yaxis": "y"
        }
       ],
       "layout": {
        "annotations": [
         {
          "font": {
           "color": "red",
           "size": 14
          },
          "showarrow": false,
          "text": "Correlation: 0.4641",
          "x": 3427606284.8400545,
          "y": 291447
         }
        ],
        "legend": {
         "tracegroupgap": 0
        },
        "margin": {
         "t": 60
        },
        "template": {
         "data": {
          "bar": [
           {
            "error_x": {
             "color": "#2a3f5f"
            },
            "error_y": {
             "color": "#2a3f5f"
            },
            "marker": {
             "line": {
              "color": "#E5ECF6",
              "width": 0.5
             },
             "pattern": {
              "fillmode": "overlay",
              "size": 10,
              "solidity": 0.2
             }
            },
            "type": "bar"
           }
          ],
          "barpolar": [
           {
            "marker": {
             "line": {
              "color": "#E5ECF6",
              "width": 0.5
             },
             "pattern": {
              "fillmode": "overlay",
              "size": 10,
              "solidity": 0.2
             }
            },
            "type": "barpolar"
           }
          ],
          "carpet": [
           {
            "aaxis": {
             "endlinecolor": "#2a3f5f",
             "gridcolor": "white",
             "linecolor": "white",
             "minorgridcolor": "white",
             "startlinecolor": "#2a3f5f"
            },
            "baxis": {
             "endlinecolor": "#2a3f5f",
             "gridcolor": "white",
             "linecolor": "white",
             "minorgridcolor": "white",
             "startlinecolor": "#2a3f5f"
            },
            "type": "carpet"
           }
          ],
          "choropleth": [
           {
            "colorbar": {
             "outlinewidth": 0,
             "ticks": ""
            },
            "type": "choropleth"
           }
          ],
          "contour": [
           {
            "colorbar": {
             "outlinewidth": 0,
             "ticks": ""
            },
            "colorscale": [
             [
              0,
              "#0d0887"
             ],
             [
              0.1111111111111111,
              "#46039f"
             ],
             [
              0.2222222222222222,
              "#7201a8"
             ],
             [
              0.3333333333333333,
              "#9c179e"
             ],
             [
              0.4444444444444444,
              "#bd3786"
             ],
             [
              0.5555555555555556,
              "#d8576b"
             ],
             [
              0.6666666666666666,
              "#ed7953"
             ],
             [
              0.7777777777777778,
              "#fb9f3a"
             ],
             [
              0.8888888888888888,
              "#fdca26"
             ],
             [
              1,
              "#f0f921"
             ]
            ],
            "type": "contour"
           }
          ],
          "contourcarpet": [
           {
            "colorbar": {
             "outlinewidth": 0,
             "ticks": ""
            },
            "type": "contourcarpet"
           }
          ],
          "heatmap": [
           {
            "colorbar": {
             "outlinewidth": 0,
             "ticks": ""
            },
            "colorscale": [
             [
              0,
              "#0d0887"
             ],
             [
              0.1111111111111111,
              "#46039f"
             ],
             [
              0.2222222222222222,
              "#7201a8"
             ],
             [
              0.3333333333333333,
              "#9c179e"
             ],
             [
              0.4444444444444444,
              "#bd3786"
             ],
             [
              0.5555555555555556,
              "#d8576b"
             ],
             [
              0.6666666666666666,
              "#ed7953"
             ],
             [
              0.7777777777777778,
              "#fb9f3a"
             ],
             [
              0.8888888888888888,
              "#fdca26"
             ],
             [
              1,
              "#f0f921"
             ]
            ],
            "type": "heatmap"
           }
          ],
          "histogram": [
           {
            "marker": {
             "pattern": {
              "fillmode": "overlay",
              "size": 10,
              "solidity": 0.2
             }
            },
            "type": "histogram"
           }
          ],
          "histogram2d": [
           {
            "colorbar": {
             "outlinewidth": 0,
             "ticks": ""
            },
            "colorscale": [
             [
              0,
              "#0d0887"
             ],
             [
              0.1111111111111111,
              "#46039f"
             ],
             [
              0.2222222222222222,
              "#7201a8"
             ],
             [
              0.3333333333333333,
              "#9c179e"
             ],
             [
              0.4444444444444444,
              "#bd3786"
             ],
             [
              0.5555555555555556,
              "#d8576b"
             ],
             [
              0.6666666666666666,
              "#ed7953"
             ],
             [
              0.7777777777777778,
              "#fb9f3a"
             ],
             [
              0.8888888888888888,
              "#fdca26"
             ],
             [
              1,
              "#f0f921"
             ]
            ],
            "type": "histogram2d"
           }
          ],
          "histogram2dcontour": [
           {
            "colorbar": {
             "outlinewidth": 0,
             "ticks": ""
            },
            "colorscale": [
             [
              0,
              "#0d0887"
             ],
             [
              0.1111111111111111,
              "#46039f"
             ],
             [
              0.2222222222222222,
              "#7201a8"
             ],
             [
              0.3333333333333333,
              "#9c179e"
             ],
             [
              0.4444444444444444,
              "#bd3786"
             ],
             [
              0.5555555555555556,
              "#d8576b"
             ],
             [
              0.6666666666666666,
              "#ed7953"
             ],
             [
              0.7777777777777778,
              "#fb9f3a"
             ],
             [
              0.8888888888888888,
              "#fdca26"
             ],
             [
              1,
              "#f0f921"
             ]
            ],
            "type": "histogram2dcontour"
           }
          ],
          "mesh3d": [
           {
            "colorbar": {
             "outlinewidth": 0,
             "ticks": ""
            },
            "type": "mesh3d"
           }
          ],
          "parcoords": [
           {
            "line": {
             "colorbar": {
              "outlinewidth": 0,
              "ticks": ""
             }
            },
            "type": "parcoords"
           }
          ],
          "pie": [
           {
            "automargin": true,
            "type": "pie"
           }
          ],
          "scatter": [
           {
            "fillpattern": {
             "fillmode": "overlay",
             "size": 10,
             "solidity": 0.2
            },
            "type": "scatter"
           }
          ],
          "scatter3d": [
           {
            "line": {
             "colorbar": {
              "outlinewidth": 0,
              "ticks": ""
             }
            },
            "marker": {
             "colorbar": {
              "outlinewidth": 0,
              "ticks": ""
             }
            },
            "type": "scatter3d"
           }
          ],
          "scattercarpet": [
           {
            "marker": {
             "colorbar": {
              "outlinewidth": 0,
              "ticks": ""
             }
            },
            "type": "scattercarpet"
           }
          ],
          "scattergeo": [
           {
            "marker": {
             "colorbar": {
              "outlinewidth": 0,
              "ticks": ""
             }
            },
            "type": "scattergeo"
           }
          ],
          "scattergl": [
           {
            "marker": {
             "colorbar": {
              "outlinewidth": 0,
              "ticks": ""
             }
            },
            "type": "scattergl"
           }
          ],
          "scattermap": [
           {
            "marker": {
             "colorbar": {
              "outlinewidth": 0,
              "ticks": ""
             }
            },
            "type": "scattermap"
           }
          ],
          "scattermapbox": [
           {
            "marker": {
             "colorbar": {
              "outlinewidth": 0,
              "ticks": ""
             }
            },
            "type": "scattermapbox"
           }
          ],
          "scatterpolar": [
           {
            "marker": {
             "colorbar": {
              "outlinewidth": 0,
              "ticks": ""
             }
            },
            "type": "scatterpolar"
           }
          ],
          "scatterpolargl": [
           {
            "marker": {
             "colorbar": {
              "outlinewidth": 0,
              "ticks": ""
             }
            },
            "type": "scatterpolargl"
           }
          ],
          "scatterternary": [
           {
            "marker": {
             "colorbar": {
              "outlinewidth": 0,
              "ticks": ""
             }
            },
            "type": "scatterternary"
           }
          ],
          "surface": [
           {
            "colorbar": {
             "outlinewidth": 0,
             "ticks": ""
            },
            "colorscale": [
             [
              0,
              "#0d0887"
             ],
             [
              0.1111111111111111,
              "#46039f"
             ],
             [
              0.2222222222222222,
              "#7201a8"
             ],
             [
              0.3333333333333333,
              "#9c179e"
             ],
             [
              0.4444444444444444,
              "#bd3786"
             ],
             [
              0.5555555555555556,
              "#d8576b"
             ],
             [
              0.6666666666666666,
              "#ed7953"
             ],
             [
              0.7777777777777778,
              "#fb9f3a"
             ],
             [
              0.8888888888888888,
              "#fdca26"
             ],
             [
              1,
              "#f0f921"
             ]
            ],
            "type": "surface"
           }
          ],
          "table": [
           {
            "cells": {
             "fill": {
              "color": "#EBF0F8"
             },
             "line": {
              "color": "white"
             }
            },
            "header": {
             "fill": {
              "color": "#C8D4E3"
             },
             "line": {
              "color": "white"
             }
            },
            "type": "table"
           }
          ]
         },
         "layout": {
          "annotationdefaults": {
           "arrowcolor": "#2a3f5f",
           "arrowhead": 0,
           "arrowwidth": 1
          },
          "autotypenumbers": "strict",
          "coloraxis": {
           "colorbar": {
            "outlinewidth": 0,
            "ticks": ""
           }
          },
          "colorscale": {
           "diverging": [
            [
             0,
             "#8e0152"
            ],
            [
             0.1,
             "#c51b7d"
            ],
            [
             0.2,
             "#de77ae"
            ],
            [
             0.3,
             "#f1b6da"
            ],
            [
             0.4,
             "#fde0ef"
            ],
            [
             0.5,
             "#f7f7f7"
            ],
            [
             0.6,
             "#e6f5d0"
            ],
            [
             0.7,
             "#b8e186"
            ],
            [
             0.8,
             "#7fbc41"
            ],
            [
             0.9,
             "#4d9221"
            ],
            [
             1,
             "#276419"
            ]
           ],
           "sequential": [
            [
             0,
             "#0d0887"
            ],
            [
             0.1111111111111111,
             "#46039f"
            ],
            [
             0.2222222222222222,
             "#7201a8"
            ],
            [
             0.3333333333333333,
             "#9c179e"
            ],
            [
             0.4444444444444444,
             "#bd3786"
            ],
            [
             0.5555555555555556,
             "#d8576b"
            ],
            [
             0.6666666666666666,
             "#ed7953"
            ],
            [
             0.7777777777777778,
             "#fb9f3a"
            ],
            [
             0.8888888888888888,
             "#fdca26"
            ],
            [
             1,
             "#f0f921"
            ]
           ],
           "sequentialminus": [
            [
             0,
             "#0d0887"
            ],
            [
             0.1111111111111111,
             "#46039f"
            ],
            [
             0.2222222222222222,
             "#7201a8"
            ],
            [
             0.3333333333333333,
             "#9c179e"
            ],
            [
             0.4444444444444444,
             "#bd3786"
            ],
            [
             0.5555555555555556,
             "#d8576b"
            ],
            [
             0.6666666666666666,
             "#ed7953"
            ],
            [
             0.7777777777777778,
             "#fb9f3a"
            ],
            [
             0.8888888888888888,
             "#fdca26"
            ],
            [
             1,
             "#f0f921"
            ]
           ]
          },
          "colorway": [
           "#636efa",
           "#EF553B",
           "#00cc96",
           "#ab63fa",
           "#FFA15A",
           "#19d3f3",
           "#FF6692",
           "#B6E880",
           "#FF97FF",
           "#FECB52"
          ],
          "font": {
           "color": "#2a3f5f"
          },
          "geo": {
           "bgcolor": "white",
           "lakecolor": "white",
           "landcolor": "#E5ECF6",
           "showlakes": true,
           "showland": true,
           "subunitcolor": "white"
          },
          "hoverlabel": {
           "align": "left"
          },
          "hovermode": "closest",
          "mapbox": {
           "style": "light"
          },
          "paper_bgcolor": "white",
          "plot_bgcolor": "#E5ECF6",
          "polar": {
           "angularaxis": {
            "gridcolor": "white",
            "linecolor": "white",
            "ticks": ""
           },
           "bgcolor": "#E5ECF6",
           "radialaxis": {
            "gridcolor": "white",
            "linecolor": "white",
            "ticks": ""
           }
          },
          "scene": {
           "xaxis": {
            "backgroundcolor": "#E5ECF6",
            "gridcolor": "white",
            "gridwidth": 2,
            "linecolor": "white",
            "showbackground": true,
            "ticks": "",
            "zerolinecolor": "white"
           },
           "yaxis": {
            "backgroundcolor": "#E5ECF6",
            "gridcolor": "white",
            "gridwidth": 2,
            "linecolor": "white",
            "showbackground": true,
            "ticks": "",
            "zerolinecolor": "white"
           },
           "zaxis": {
            "backgroundcolor": "#E5ECF6",
            "gridcolor": "white",
            "gridwidth": 2,
            "linecolor": "white",
            "showbackground": true,
            "ticks": "",
            "zerolinecolor": "white"
           }
          },
          "shapedefaults": {
           "line": {
            "color": "#2a3f5f"
           }
          },
          "ternary": {
           "aaxis": {
            "gridcolor": "white",
            "linecolor": "white",
            "ticks": ""
           },
           "baxis": {
            "gridcolor": "white",
            "linecolor": "white",
            "ticks": ""
           },
           "bgcolor": "#E5ECF6",
           "caxis": {
            "gridcolor": "white",
            "linecolor": "white",
            "ticks": ""
           }
          },
          "title": {
           "x": 0.05
          },
          "xaxis": {
           "automargin": true,
           "gridcolor": "white",
           "linecolor": "white",
           "ticks": "",
           "title": {
            "standoff": 15
           },
           "zerolinecolor": "white",
           "zerolinewidth": 2
          },
          "yaxis": {
           "automargin": true,
           "gridcolor": "white",
           "linecolor": "white",
           "ticks": "",
           "title": {
            "standoff": 15
           },
           "zerolinecolor": "white",
           "zerolinewidth": 2
          }
         }
        },
        "xaxis": {
         "anchor": "y",
         "domain": [
          0,
          1
         ],
         "title": {
          "text": "Cropland Fires Emissions"
         }
        },
        "yaxis": {
         "anchor": "x",
         "domain": [
          0,
          1
         ],
         "title": {
          "text": "Air Pollution Deaths"
         }
        }
       }
      }
     },
     "metadata": {},
     "output_type": "display_data"
    },
    {
     "data": {
      "application/vnd.plotly.v1+json": {
       "config": {
        "plotlyServerURL": "https://plot.ly"
       },
       "data": [
        {
         "customdata": [
          [
           "AFG"
          ],
          [
           "AGO"
          ],
          [
           "ALB"
          ],
          [
           "ARE"
          ],
          [
           "ARG"
          ],
          [
           "ARM"
          ],
          [
           "ATG"
          ],
          [
           "AUS"
          ],
          [
           "AUT"
          ],
          [
           "AZE"
          ],
          [
           "BDI"
          ],
          [
           "BEL"
          ],
          [
           "BEN"
          ],
          [
           "BFA"
          ],
          [
           "BGD"
          ],
          [
           "BGR"
          ],
          [
           "BHR"
          ],
          [
           "BHS"
          ],
          [
           "BIH"
          ],
          [
           "BLR"
          ],
          [
           "BLZ"
          ],
          [
           "BOL"
          ],
          [
           "BRA"
          ],
          [
           "BRB"
          ],
          [
           "BRN"
          ],
          [
           "BTN"
          ],
          [
           "BWA"
          ],
          [
           "CAF"
          ],
          [
           "CAN"
          ],
          [
           "CHE"
          ],
          [
           "CHL"
          ],
          [
           "CIV"
          ],
          [
           "CMR"
          ],
          [
           "COD"
          ],
          [
           "COG"
          ],
          [
           "COL"
          ],
          [
           "COM"
          ],
          [
           "CPV"
          ],
          [
           "CRI"
          ],
          [
           "CUB"
          ],
          [
           "CYP"
          ],
          [
           "CZE"
          ],
          [
           "DEU"
          ],
          [
           "DJI"
          ],
          [
           "DNK"
          ],
          [
           "DOM"
          ],
          [
           "DZA"
          ],
          [
           "ECU"
          ],
          [
           "EGY"
          ],
          [
           "ERI"
          ],
          [
           "ESP"
          ],
          [
           "EST"
          ],
          [
           "ETH"
          ],
          [
           "FIN"
          ],
          [
           "FJI"
          ],
          [
           "FRA"
          ],
          [
           "GAB"
          ],
          [
           "GBR"
          ],
          [
           "GEO"
          ],
          [
           "GHA"
          ],
          [
           "GIN"
          ],
          [
           "GMB"
          ],
          [
           "GNB"
          ],
          [
           "GNQ"
          ],
          [
           "GRC"
          ],
          [
           "GRD"
          ],
          [
           "GTM"
          ],
          [
           "GUY"
          ],
          [
           "HND"
          ],
          [
           "HRV"
          ],
          [
           "HTI"
          ],
          [
           "HUN"
          ],
          [
           "IDN"
          ],
          [
           "IRL"
          ],
          [
           "IRN"
          ],
          [
           "IRQ"
          ],
          [
           "ISL"
          ],
          [
           "ISR"
          ],
          [
           "ITA"
          ],
          [
           "JAM"
          ],
          [
           "JOR"
          ],
          [
           "JPN"
          ],
          [
           "KAZ"
          ],
          [
           "KEN"
          ],
          [
           "KGZ"
          ],
          [
           "KHM"
          ],
          [
           "KIR"
          ],
          [
           "KOR"
          ],
          [
           "KWT"
          ],
          [
           "LAO"
          ],
          [
           "LBN"
          ],
          [
           "LBR"
          ],
          [
           "LCA"
          ],
          [
           "LKA"
          ],
          [
           "LSO"
          ],
          [
           "LTU"
          ],
          [
           "LUX"
          ],
          [
           "LVA"
          ],
          [
           "MAR"
          ],
          [
           "MDA"
          ],
          [
           "MDG"
          ],
          [
           "MDV"
          ],
          [
           "MEX"
          ],
          [
           "MKD"
          ],
          [
           "MLI"
          ],
          [
           "MLT"
          ],
          [
           "MMR"
          ],
          [
           "MNE"
          ],
          [
           "MNG"
          ],
          [
           "MOZ"
          ],
          [
           "MRT"
          ],
          [
           "MUS"
          ],
          [
           "MWI"
          ],
          [
           "MYS"
          ],
          [
           "NAM"
          ],
          [
           "NER"
          ],
          [
           "NGA"
          ],
          [
           "NIC"
          ],
          [
           "NLD"
          ],
          [
           "NOR"
          ],
          [
           "NPL"
          ],
          [
           "NZL"
          ],
          [
           "OMN"
          ],
          [
           "PAK"
          ],
          [
           "PAN"
          ],
          [
           "PER"
          ],
          [
           "PHL"
          ],
          [
           "PNG"
          ],
          [
           "POL"
          ],
          [
           "PRT"
          ],
          [
           "PRY"
          ],
          [
           "QAT"
          ],
          [
           "ROU"
          ],
          [
           "RUS"
          ],
          [
           "RWA"
          ],
          [
           "SAU"
          ],
          [
           "SDN"
          ],
          [
           "SEN"
          ],
          [
           "SGP"
          ],
          [
           "SLB"
          ],
          [
           "SLE"
          ],
          [
           "SLV"
          ],
          [
           "SRB"
          ],
          [
           "SSD"
          ],
          [
           "STP"
          ],
          [
           "SUR"
          ],
          [
           "SVK"
          ],
          [
           "SVN"
          ],
          [
           "SWE"
          ],
          [
           "SWZ"
          ],
          [
           "SYC"
          ],
          [
           "TCD"
          ],
          [
           "TGO"
          ],
          [
           "THA"
          ],
          [
           "TJK"
          ],
          [
           "TKM"
          ],
          [
           "TLS"
          ],
          [
           "TON"
          ],
          [
           "TTO"
          ],
          [
           "TUN"
          ],
          [
           "TUR"
          ],
          [
           "TZA"
          ],
          [
           "UGA"
          ],
          [
           "UKR"
          ],
          [
           "URY"
          ],
          [
           "USA"
          ],
          [
           "UZB"
          ],
          [
           "VCT"
          ],
          [
           "VNM"
          ],
          [
           "VUT"
          ],
          [
           "WSM"
          ],
          [
           "ZAF"
          ],
          [
           "ZMB"
          ],
          [
           "ZWE"
          ]
         ],
         "hovertemplate": "Residential & Commercial Emissions=%{x}<br>Air Pollution Deaths=%{y}<br>Country Code=%{customdata[0]}<extra></extra>",
         "legendgroup": "",
         "marker": {
          "color": "#636efa",
          "symbol": "circle"
         },
         "mode": "markers",
         "name": "",
         "orientation": "v",
         "showlegend": false,
         "type": "scatter",
         "x": {
          "bdata": "fNKJZu+jX0HCFCWs8TuHQZdWw3xB4WVBf8HuPjU5YkFKKTYvq1nBQaM6XZrCNndB6lvmRNA5FkHg2F8iSv+yQUvqhLoXI55B/rlwLCMmoEGU2/btrnonQV65vkLCPrVBCi5W91wlVkF1eAhEalFSQWuZ9Pcv26ZBPnvufIGHd0HCNXe8VIdNQXui6/4I+zxBzNFj4TSyaEEoDxsSgD2ZQbwi+F/A/hJBRQ9cTAxRg0HwEnyIh5bCQYQPJdIKdChBaeTz+sNJNkFjZMmUMuQ1QW8O16Z8TTxBixU12KXoEUHSMxjJQjXVQXXOb7OEmqNB+FFNBtarnEFDHoFAYhp0QQmISdxaA2BBLkZul6Y9zED0GVCXxlYxQbbU0Svr+5NBe4MvnMzXFEEzqgzzdP8uQS7nUj/e+VtB2PB0eSxUbkEq5EpGuOVdQTuN1OaCXKVBPrNmB7ol3UFSRfFS8aYkQQw7DPCm9IxB7YBrLVlQekFN9N2PoNe4Qd0mvM7N5YtBRMTxErP1sUHaHr05OaknQYBGwSN5N71Bo8owGWinY0G4yH3Y8XFwQcMPDnQ49YVBGXPXdp1QTEGR8ikU6BbQQcnIWchvl0ZBun4D02bb00F0t+sSvuqCQRO4dUEGHHNByt+9/9CoR0Er9pd1mXwiQWiULn1kHRVBhX6mkueJN0HvkDJFXWWUQapjldK9ogNB6+bis+Rwb0FFSrNnqKdXQW76s88KJ2FBOC9Ow6yGg0EsLSPnSbJOQSzXawG07qRB73QXbQVfukE/GYtkZVGhQXgoWMZCJN9Bu9Hf2FAuokExXvPeZ75gQVH47MvY62NB5BHcXnRHz0HLETJiDSZWQQQh2WdH3X1B6J+Qy2iH20FD5/1PaSzDQQJhpwlEwHxBcr6IINEIkkG6Lvx8SQxoQbXEysg8VgRBVfnC9WZHyEGWB2mpX9dnQSl3n+MWlxxBhPBonSFEY0H/JaksG9s1QfM64nCbGRNBSsyzSEMMbkE9EFmEUusnQW0dnAtH3HFBYLBbXpwtd0E2JG67BiFyQegzEMr0KaRBQUZA7DjBd0ElkBKDvoYyQVN0JFDTalJBEsHIiLb6ukEHlbgmIHlNQYEIcUiYF1ZBq+ekrfBEQUEaSygezvWUQQAAAAAAAAAAMZmqcoGwfkF2ptBFA0g1QSEE5DMqO1BBjE0rBeyLSEENiubZ4Fg6QSLENT36DJdB44v28LPEb0G/ZONZ2KQ/QW8v6Tzp8IhBroDCJkJ9ZEFR26LVuO64QYZZqAUUIYFBpBsBzKokgkF7h5vvhKiHQZtTKfPRNKxBn+bs4nvjs0F4K8tulVtmQe3Ryzu8+5BBCcHyqcFNpUHIfMDGIbxjQRnFhlS0bMhBzCW1l0M+jUEgYoN5ZXFNQXSUg00Zn1hBm8nXP6AZo0GJ0sArRVjqQcBAEGiidT5B3Vy8m+x1kEG/f3OhZkN1QWKga+6Iy19BTS3b6H/WYEFypDMA2u4lQfwZ3jy26CxBZ7gBAC9SZkEAAAAAAAAAAAAAAAAAAAAAEr2MYvcXBUHjHPVA5odiQegVjx+ChZBBOX5ovV0bcUFm28ll4XuBQbE3MVAHsTtBflNYtXN9MUH3V49jRzQ6QTChgm8jMzNBEfwnw4I+q0GLp565a5dtQfpfFi+Im6lBzQcEys5tMUGeQq5EwG0WQdqSVT5UGVdB9wKjIrNTkEGl2tnPTXXQQcWrrIPDiWBBUBpq7Si2YkFwX7PXGYC1QYjVnzIvp21BkI7xZu8vAEJzEDDuQgq8QRLZB9kbTvtAURZmSg1Hq0HJPV0drDoeQQMHtOx3JihB/rfaePLltUGFQZl0KHdJQXhDGnsRfGFB",
          "dtype": "f8"
         },
         "xaxis": "x",
         "y": {
          "bdata": "AAAAAOCO5UC4HoXrUZnQQEfhehRuyLdAmpmZmRkfrECamZmZCRbhQMzMzMzMcbtAFK5H4XqURUCZmZmZ2YjAQAAAAABAesJAzczMzGxK1EB7FK5HIa66QJqZmZnZUcRA61G4HiWow0AUrkfhWhDOQAAAAADQzwJBMzMzM/Mf10BSuB6F6/GHQBSuR+F6NFZAzczMzMx5v0AzMzMzM+3ZQBSuR+F6lFpAH4XrUXhExkAAAAAAkK36QML1KFyPsm1AKVyPwvU4XEB7FK5H4aSFQChcj8L11pZA7FG4HkWXskDNzMzMzGXOQAAAAACA2LRAzczMzMz1xEC4HoXrcavVQOF6FK53mdhAMzMzM0PK70BxPQrXo3OmQGZmZmamZNlAzczMzMx2eEDiehSuR218QD4K16Nw6J9AAAAAAMAky0DrUbgehcOEQDMzMzOzOdJAAAAAABAW90C4HoXrUWyGQDQzMzMz/K5A61G4HsXItkAAAAAAQHrgQPYoXI8CLL1AAAAAAKisAEFcj8L1qDyoQGZmZmZm2txACtejcD3XkEDNzMzMjDfqQIXrUbie56JAhetRuB49fkAAAAAAYGXjQFyPwvUoNZJAAAAAAEAp50BmZmZmJrjEQArXo3BtR9hAmpmZmRnPyUA+CtejcHSZQFK4HoXrx5hA7FG4HoWBhkAAAAAAIH7QQAAAAAAAUFVA9ihcj+LkwkC4HoXrUd6FQLgehevRobdAmpmZmVkRwEApXI/CtbO+QGZmZmZmCNVAAAAAAIjoC0EUrkfh+rOhQGZmZmbeXPBAMzMzM1N93EApXI/C9TheQJqZmZmZwq9AAAAAAMAW8UD2KFyPwmWXQFK4HoXrJ61AAAAAANDP/kAAAAAA4CHZQArXo3AdW8lAZmZmZuYnvUAAAAAAgF3FQPYoXI/CRVFAAAAAAMBm40DsUbgehYmcQD0K16Nw+7NAMzMzMzNAvEDXo3A9CkunQMP1KFyPolhAmZmZmTkj0kBSuB6Fa2CnQML1KFwPWrlAAAAAAABkdECuR+F6VMqwQJqZmZmJfOJACtejcH3ru0BSuB6FC8rMQEjhehSu32NAmpmZmZHf8UA9CtejcJmxQOF6FK5HlMtAexSuR+FifkCamZmZOXnqQBSuR+F6Z5hA7FG4HgX0sUCuR+F6pBjRQB6F61G4a6ZAAAAAAADGjkCkcD0K15u4QM3MzMzsGN5AUrgehestkUDNzMzMjG7VQJqZmZkJoglB9ihcj8J3q0DNzMzMDNLGQB+F61G4YJ9AzczMzEw23UC4HoXrUcugQFyPwvWoY6xAAAAAANzJEUEzMzMzM5CZQAAAAABgt9BAmpmZmYm8/EApXI/C9dipQAAAAABANPNAzczMzEw2vECuR+F6FESlQFyPwvUotolAMzMzM2N85kAAAAAAmOULQUjhehTuq7lAMzMzM9O/4EBmZmZmJsHcQArXo3B90sJAMzMzMzODrEApXI/C9RB4QBWuR+E6mr5AzczMzAxWsUDNzMzM7DrSQBWuR+H6m7hAFK5H4XqsY0BmZmZmZiZ5QAAAAACAtrxA7FG4HgXHo0DNzMzMDKyyQB6F61G4iohASOF6FK4XVkDhehSu98/SQHA9CtfjA7pAAAAAAODL7EBI4XoU7sPKQFyPwvWo5blArkfhehRmikDrUbgehetCQDMzMzMz44ZAZmZmZibnykAAAAAAcN/wQBSuR+FKf9BAmpmZmelf0UAzMzMzu8n+QOF6FK7Hv6FAAAAAAGgzCUFmZmZmxhvoQPUoXI/ChVJAAAAAACDo+ED2KFyPwt1mQLgehetRiFVAMzMzM9MT5EDsUbgexYu7QAAAAAAATrtA",
          "dtype": "f8"
         },
         "yaxis": "y"
        }
       ],
       "layout": {
        "annotations": [
         {
          "font": {
           "color": "red",
           "size": 14
          },
          "showarrow": false,
          "text": "Correlation: 0.5323",
          "x": 8690461918.19461,
          "y": 291447
         }
        ],
        "legend": {
         "tracegroupgap": 0
        },
        "margin": {
         "t": 60
        },
        "template": {
         "data": {
          "bar": [
           {
            "error_x": {
             "color": "#2a3f5f"
            },
            "error_y": {
             "color": "#2a3f5f"
            },
            "marker": {
             "line": {
              "color": "#E5ECF6",
              "width": 0.5
             },
             "pattern": {
              "fillmode": "overlay",
              "size": 10,
              "solidity": 0.2
             }
            },
            "type": "bar"
           }
          ],
          "barpolar": [
           {
            "marker": {
             "line": {
              "color": "#E5ECF6",
              "width": 0.5
             },
             "pattern": {
              "fillmode": "overlay",
              "size": 10,
              "solidity": 0.2
             }
            },
            "type": "barpolar"
           }
          ],
          "carpet": [
           {
            "aaxis": {
             "endlinecolor": "#2a3f5f",
             "gridcolor": "white",
             "linecolor": "white",
             "minorgridcolor": "white",
             "startlinecolor": "#2a3f5f"
            },
            "baxis": {
             "endlinecolor": "#2a3f5f",
             "gridcolor": "white",
             "linecolor": "white",
             "minorgridcolor": "white",
             "startlinecolor": "#2a3f5f"
            },
            "type": "carpet"
           }
          ],
          "choropleth": [
           {
            "colorbar": {
             "outlinewidth": 0,
             "ticks": ""
            },
            "type": "choropleth"
           }
          ],
          "contour": [
           {
            "colorbar": {
             "outlinewidth": 0,
             "ticks": ""
            },
            "colorscale": [
             [
              0,
              "#0d0887"
             ],
             [
              0.1111111111111111,
              "#46039f"
             ],
             [
              0.2222222222222222,
              "#7201a8"
             ],
             [
              0.3333333333333333,
              "#9c179e"
             ],
             [
              0.4444444444444444,
              "#bd3786"
             ],
             [
              0.5555555555555556,
              "#d8576b"
             ],
             [
              0.6666666666666666,
              "#ed7953"
             ],
             [
              0.7777777777777778,
              "#fb9f3a"
             ],
             [
              0.8888888888888888,
              "#fdca26"
             ],
             [
              1,
              "#f0f921"
             ]
            ],
            "type": "contour"
           }
          ],
          "contourcarpet": [
           {
            "colorbar": {
             "outlinewidth": 0,
             "ticks": ""
            },
            "type": "contourcarpet"
           }
          ],
          "heatmap": [
           {
            "colorbar": {
             "outlinewidth": 0,
             "ticks": ""
            },
            "colorscale": [
             [
              0,
              "#0d0887"
             ],
             [
              0.1111111111111111,
              "#46039f"
             ],
             [
              0.2222222222222222,
              "#7201a8"
             ],
             [
              0.3333333333333333,
              "#9c179e"
             ],
             [
              0.4444444444444444,
              "#bd3786"
             ],
             [
              0.5555555555555556,
              "#d8576b"
             ],
             [
              0.6666666666666666,
              "#ed7953"
             ],
             [
              0.7777777777777778,
              "#fb9f3a"
             ],
             [
              0.8888888888888888,
              "#fdca26"
             ],
             [
              1,
              "#f0f921"
             ]
            ],
            "type": "heatmap"
           }
          ],
          "histogram": [
           {
            "marker": {
             "pattern": {
              "fillmode": "overlay",
              "size": 10,
              "solidity": 0.2
             }
            },
            "type": "histogram"
           }
          ],
          "histogram2d": [
           {
            "colorbar": {
             "outlinewidth": 0,
             "ticks": ""
            },
            "colorscale": [
             [
              0,
              "#0d0887"
             ],
             [
              0.1111111111111111,
              "#46039f"
             ],
             [
              0.2222222222222222,
              "#7201a8"
             ],
             [
              0.3333333333333333,
              "#9c179e"
             ],
             [
              0.4444444444444444,
              "#bd3786"
             ],
             [
              0.5555555555555556,
              "#d8576b"
             ],
             [
              0.6666666666666666,
              "#ed7953"
             ],
             [
              0.7777777777777778,
              "#fb9f3a"
             ],
             [
              0.8888888888888888,
              "#fdca26"
             ],
             [
              1,
              "#f0f921"
             ]
            ],
            "type": "histogram2d"
           }
          ],
          "histogram2dcontour": [
           {
            "colorbar": {
             "outlinewidth": 0,
             "ticks": ""
            },
            "colorscale": [
             [
              0,
              "#0d0887"
             ],
             [
              0.1111111111111111,
              "#46039f"
             ],
             [
              0.2222222222222222,
              "#7201a8"
             ],
             [
              0.3333333333333333,
              "#9c179e"
             ],
             [
              0.4444444444444444,
              "#bd3786"
             ],
             [
              0.5555555555555556,
              "#d8576b"
             ],
             [
              0.6666666666666666,
              "#ed7953"
             ],
             [
              0.7777777777777778,
              "#fb9f3a"
             ],
             [
              0.8888888888888888,
              "#fdca26"
             ],
             [
              1,
              "#f0f921"
             ]
            ],
            "type": "histogram2dcontour"
           }
          ],
          "mesh3d": [
           {
            "colorbar": {
             "outlinewidth": 0,
             "ticks": ""
            },
            "type": "mesh3d"
           }
          ],
          "parcoords": [
           {
            "line": {
             "colorbar": {
              "outlinewidth": 0,
              "ticks": ""
             }
            },
            "type": "parcoords"
           }
          ],
          "pie": [
           {
            "automargin": true,
            "type": "pie"
           }
          ],
          "scatter": [
           {
            "fillpattern": {
             "fillmode": "overlay",
             "size": 10,
             "solidity": 0.2
            },
            "type": "scatter"
           }
          ],
          "scatter3d": [
           {
            "line": {
             "colorbar": {
              "outlinewidth": 0,
              "ticks": ""
             }
            },
            "marker": {
             "colorbar": {
              "outlinewidth": 0,
              "ticks": ""
             }
            },
            "type": "scatter3d"
           }
          ],
          "scattercarpet": [
           {
            "marker": {
             "colorbar": {
              "outlinewidth": 0,
              "ticks": ""
             }
            },
            "type": "scattercarpet"
           }
          ],
          "scattergeo": [
           {
            "marker": {
             "colorbar": {
              "outlinewidth": 0,
              "ticks": ""
             }
            },
            "type": "scattergeo"
           }
          ],
          "scattergl": [
           {
            "marker": {
             "colorbar": {
              "outlinewidth": 0,
              "ticks": ""
             }
            },
            "type": "scattergl"
           }
          ],
          "scattermap": [
           {
            "marker": {
             "colorbar": {
              "outlinewidth": 0,
              "ticks": ""
             }
            },
            "type": "scattermap"
           }
          ],
          "scattermapbox": [
           {
            "marker": {
             "colorbar": {
              "outlinewidth": 0,
              "ticks": ""
             }
            },
            "type": "scattermapbox"
           }
          ],
          "scatterpolar": [
           {
            "marker": {
             "colorbar": {
              "outlinewidth": 0,
              "ticks": ""
             }
            },
            "type": "scatterpolar"
           }
          ],
          "scatterpolargl": [
           {
            "marker": {
             "colorbar": {
              "outlinewidth": 0,
              "ticks": ""
             }
            },
            "type": "scatterpolargl"
           }
          ],
          "scatterternary": [
           {
            "marker": {
             "colorbar": {
              "outlinewidth": 0,
              "ticks": ""
             }
            },
            "type": "scatterternary"
           }
          ],
          "surface": [
           {
            "colorbar": {
             "outlinewidth": 0,
             "ticks": ""
            },
            "colorscale": [
             [
              0,
              "#0d0887"
             ],
             [
              0.1111111111111111,
              "#46039f"
             ],
             [
              0.2222222222222222,
              "#7201a8"
             ],
             [
              0.3333333333333333,
              "#9c179e"
             ],
             [
              0.4444444444444444,
              "#bd3786"
             ],
             [
              0.5555555555555556,
              "#d8576b"
             ],
             [
              0.6666666666666666,
              "#ed7953"
             ],
             [
              0.7777777777777778,
              "#fb9f3a"
             ],
             [
              0.8888888888888888,
              "#fdca26"
             ],
             [
              1,
              "#f0f921"
             ]
            ],
            "type": "surface"
           }
          ],
          "table": [
           {
            "cells": {
             "fill": {
              "color": "#EBF0F8"
             },
             "line": {
              "color": "white"
             }
            },
            "header": {
             "fill": {
              "color": "#C8D4E3"
             },
             "line": {
              "color": "white"
             }
            },
            "type": "table"
           }
          ]
         },
         "layout": {
          "annotationdefaults": {
           "arrowcolor": "#2a3f5f",
           "arrowhead": 0,
           "arrowwidth": 1
          },
          "autotypenumbers": "strict",
          "coloraxis": {
           "colorbar": {
            "outlinewidth": 0,
            "ticks": ""
           }
          },
          "colorscale": {
           "diverging": [
            [
             0,
             "#8e0152"
            ],
            [
             0.1,
             "#c51b7d"
            ],
            [
             0.2,
             "#de77ae"
            ],
            [
             0.3,
             "#f1b6da"
            ],
            [
             0.4,
             "#fde0ef"
            ],
            [
             0.5,
             "#f7f7f7"
            ],
            [
             0.6,
             "#e6f5d0"
            ],
            [
             0.7,
             "#b8e186"
            ],
            [
             0.8,
             "#7fbc41"
            ],
            [
             0.9,
             "#4d9221"
            ],
            [
             1,
             "#276419"
            ]
           ],
           "sequential": [
            [
             0,
             "#0d0887"
            ],
            [
             0.1111111111111111,
             "#46039f"
            ],
            [
             0.2222222222222222,
             "#7201a8"
            ],
            [
             0.3333333333333333,
             "#9c179e"
            ],
            [
             0.4444444444444444,
             "#bd3786"
            ],
            [
             0.5555555555555556,
             "#d8576b"
            ],
            [
             0.6666666666666666,
             "#ed7953"
            ],
            [
             0.7777777777777778,
             "#fb9f3a"
            ],
            [
             0.8888888888888888,
             "#fdca26"
            ],
            [
             1,
             "#f0f921"
            ]
           ],
           "sequentialminus": [
            [
             0,
             "#0d0887"
            ],
            [
             0.1111111111111111,
             "#46039f"
            ],
            [
             0.2222222222222222,
             "#7201a8"
            ],
            [
             0.3333333333333333,
             "#9c179e"
            ],
            [
             0.4444444444444444,
             "#bd3786"
            ],
            [
             0.5555555555555556,
             "#d8576b"
            ],
            [
             0.6666666666666666,
             "#ed7953"
            ],
            [
             0.7777777777777778,
             "#fb9f3a"
            ],
            [
             0.8888888888888888,
             "#fdca26"
            ],
            [
             1,
             "#f0f921"
            ]
           ]
          },
          "colorway": [
           "#636efa",
           "#EF553B",
           "#00cc96",
           "#ab63fa",
           "#FFA15A",
           "#19d3f3",
           "#FF6692",
           "#B6E880",
           "#FF97FF",
           "#FECB52"
          ],
          "font": {
           "color": "#2a3f5f"
          },
          "geo": {
           "bgcolor": "white",
           "lakecolor": "white",
           "landcolor": "#E5ECF6",
           "showlakes": true,
           "showland": true,
           "subunitcolor": "white"
          },
          "hoverlabel": {
           "align": "left"
          },
          "hovermode": "closest",
          "mapbox": {
           "style": "light"
          },
          "paper_bgcolor": "white",
          "plot_bgcolor": "#E5ECF6",
          "polar": {
           "angularaxis": {
            "gridcolor": "white",
            "linecolor": "white",
            "ticks": ""
           },
           "bgcolor": "#E5ECF6",
           "radialaxis": {
            "gridcolor": "white",
            "linecolor": "white",
            "ticks": ""
           }
          },
          "scene": {
           "xaxis": {
            "backgroundcolor": "#E5ECF6",
            "gridcolor": "white",
            "gridwidth": 2,
            "linecolor": "white",
            "showbackground": true,
            "ticks": "",
            "zerolinecolor": "white"
           },
           "yaxis": {
            "backgroundcolor": "#E5ECF6",
            "gridcolor": "white",
            "gridwidth": 2,
            "linecolor": "white",
            "showbackground": true,
            "ticks": "",
            "zerolinecolor": "white"
           },
           "zaxis": {
            "backgroundcolor": "#E5ECF6",
            "gridcolor": "white",
            "gridwidth": 2,
            "linecolor": "white",
            "showbackground": true,
            "ticks": "",
            "zerolinecolor": "white"
           }
          },
          "shapedefaults": {
           "line": {
            "color": "#2a3f5f"
           }
          },
          "ternary": {
           "aaxis": {
            "gridcolor": "white",
            "linecolor": "white",
            "ticks": ""
           },
           "baxis": {
            "gridcolor": "white",
            "linecolor": "white",
            "ticks": ""
           },
           "bgcolor": "#E5ECF6",
           "caxis": {
            "gridcolor": "white",
            "linecolor": "white",
            "ticks": ""
           }
          },
          "title": {
           "x": 0.05
          },
          "xaxis": {
           "automargin": true,
           "gridcolor": "white",
           "linecolor": "white",
           "ticks": "",
           "title": {
            "standoff": 15
           },
           "zerolinecolor": "white",
           "zerolinewidth": 2
          },
          "yaxis": {
           "automargin": true,
           "gridcolor": "white",
           "linecolor": "white",
           "ticks": "",
           "title": {
            "standoff": 15
           },
           "zerolinecolor": "white",
           "zerolinewidth": 2
          }
         }
        },
        "xaxis": {
         "anchor": "y",
         "domain": [
          0,
          1
         ],
         "title": {
          "text": "Residential & Commercial Emissions"
         }
        },
        "yaxis": {
         "anchor": "x",
         "domain": [
          0,
          1
         ],
         "title": {
          "text": "Air Pollution Deaths"
         }
        }
       }
      }
     },
     "metadata": {},
     "output_type": "display_data"
    },
    {
     "data": {
      "application/vnd.plotly.v1+json": {
       "config": {
        "plotlyServerURL": "https://plot.ly"
       },
       "data": [
        {
         "customdata": [
          [
           "AFG"
          ],
          [
           "AGO"
          ],
          [
           "ALB"
          ],
          [
           "ARE"
          ],
          [
           "ARG"
          ],
          [
           "ARM"
          ],
          [
           "ATG"
          ],
          [
           "AUS"
          ],
          [
           "AUT"
          ],
          [
           "AZE"
          ],
          [
           "BDI"
          ],
          [
           "BEL"
          ],
          [
           "BEN"
          ],
          [
           "BFA"
          ],
          [
           "BGD"
          ],
          [
           "BGR"
          ],
          [
           "BHR"
          ],
          [
           "BHS"
          ],
          [
           "BIH"
          ],
          [
           "BLR"
          ],
          [
           "BLZ"
          ],
          [
           "BOL"
          ],
          [
           "BRA"
          ],
          [
           "BRB"
          ],
          [
           "BRN"
          ],
          [
           "BTN"
          ],
          [
           "BWA"
          ],
          [
           "CAF"
          ],
          [
           "CAN"
          ],
          [
           "CHE"
          ],
          [
           "CHL"
          ],
          [
           "CIV"
          ],
          [
           "CMR"
          ],
          [
           "COD"
          ],
          [
           "COG"
          ],
          [
           "COL"
          ],
          [
           "COM"
          ],
          [
           "CPV"
          ],
          [
           "CRI"
          ],
          [
           "CUB"
          ],
          [
           "CYP"
          ],
          [
           "CZE"
          ],
          [
           "DEU"
          ],
          [
           "DJI"
          ],
          [
           "DNK"
          ],
          [
           "DOM"
          ],
          [
           "DZA"
          ],
          [
           "ECU"
          ],
          [
           "EGY"
          ],
          [
           "ERI"
          ],
          [
           "ESP"
          ],
          [
           "EST"
          ],
          [
           "ETH"
          ],
          [
           "FIN"
          ],
          [
           "FJI"
          ],
          [
           "FRA"
          ],
          [
           "GAB"
          ],
          [
           "GBR"
          ],
          [
           "GEO"
          ],
          [
           "GHA"
          ],
          [
           "GIN"
          ],
          [
           "GMB"
          ],
          [
           "GNB"
          ],
          [
           "GNQ"
          ],
          [
           "GRC"
          ],
          [
           "GRD"
          ],
          [
           "GTM"
          ],
          [
           "GUY"
          ],
          [
           "HND"
          ],
          [
           "HRV"
          ],
          [
           "HTI"
          ],
          [
           "HUN"
          ],
          [
           "IDN"
          ],
          [
           "IRL"
          ],
          [
           "IRN"
          ],
          [
           "IRQ"
          ],
          [
           "ISL"
          ],
          [
           "ISR"
          ],
          [
           "ITA"
          ],
          [
           "JAM"
          ],
          [
           "JOR"
          ],
          [
           "JPN"
          ],
          [
           "KAZ"
          ],
          [
           "KEN"
          ],
          [
           "KGZ"
          ],
          [
           "KHM"
          ],
          [
           "KIR"
          ],
          [
           "KOR"
          ],
          [
           "KWT"
          ],
          [
           "LAO"
          ],
          [
           "LBN"
          ],
          [
           "LBR"
          ],
          [
           "LCA"
          ],
          [
           "LKA"
          ],
          [
           "LSO"
          ],
          [
           "LTU"
          ],
          [
           "LUX"
          ],
          [
           "LVA"
          ],
          [
           "MAR"
          ],
          [
           "MDA"
          ],
          [
           "MDG"
          ],
          [
           "MDV"
          ],
          [
           "MEX"
          ],
          [
           "MKD"
          ],
          [
           "MLI"
          ],
          [
           "MLT"
          ],
          [
           "MMR"
          ],
          [
           "MNE"
          ],
          [
           "MNG"
          ],
          [
           "MOZ"
          ],
          [
           "MRT"
          ],
          [
           "MUS"
          ],
          [
           "MWI"
          ],
          [
           "MYS"
          ],
          [
           "NAM"
          ],
          [
           "NER"
          ],
          [
           "NGA"
          ],
          [
           "NIC"
          ],
          [
           "NLD"
          ],
          [
           "NOR"
          ],
          [
           "NPL"
          ],
          [
           "NZL"
          ],
          [
           "OMN"
          ],
          [
           "PAK"
          ],
          [
           "PAN"
          ],
          [
           "PER"
          ],
          [
           "PHL"
          ],
          [
           "PNG"
          ],
          [
           "POL"
          ],
          [
           "PRT"
          ],
          [
           "PRY"
          ],
          [
           "QAT"
          ],
          [
           "ROU"
          ],
          [
           "RUS"
          ],
          [
           "RWA"
          ],
          [
           "SAU"
          ],
          [
           "SDN"
          ],
          [
           "SEN"
          ],
          [
           "SGP"
          ],
          [
           "SLB"
          ],
          [
           "SLE"
          ],
          [
           "SLV"
          ],
          [
           "SRB"
          ],
          [
           "SSD"
          ],
          [
           "STP"
          ],
          [
           "SUR"
          ],
          [
           "SVK"
          ],
          [
           "SVN"
          ],
          [
           "SWE"
          ],
          [
           "SWZ"
          ],
          [
           "SYC"
          ],
          [
           "TCD"
          ],
          [
           "TGO"
          ],
          [
           "THA"
          ],
          [
           "TJK"
          ],
          [
           "TKM"
          ],
          [
           "TLS"
          ],
          [
           "TON"
          ],
          [
           "TTO"
          ],
          [
           "TUN"
          ],
          [
           "TUR"
          ],
          [
           "TZA"
          ],
          [
           "UGA"
          ],
          [
           "UKR"
          ],
          [
           "URY"
          ],
          [
           "USA"
          ],
          [
           "UZB"
          ],
          [
           "VCT"
          ],
          [
           "VNM"
          ],
          [
           "VUT"
          ],
          [
           "WSM"
          ],
          [
           "ZAF"
          ],
          [
           "ZMB"
          ],
          [
           "ZWE"
          ]
         ],
         "hovertemplate": "Forest Clearing Emissions=%{x}<br>Air Pollution Deaths=%{y}<br>Country Code=%{customdata[0]}<extra></extra>",
         "legendgroup": "",
         "marker": {
          "color": "#636efa",
          "symbol": "circle"
         },
         "mode": "markers",
         "name": "",
         "orientation": "v",
         "showlegend": false,
         "type": "scatter",
         "x": {
          "bdata": "ACgcewkT9UAASLc6h4nOQQBoBhUBDlNBAAAAAAAAAAAAIJOrEcC6QQFMqY3jTN9AANroMfR8EkEAxE1ybgDsQQDM9WXnOKJB/7fyzhvCEUEAuOJ4H7ZWQQBIUgm1IntBADCWChfPe0EAwB6jGxZAQQBcnopJEZFBAPg7iJLwekEAAAAAAAAAAAE8xf+SmU1BAAB5C0B0YkEAWPJsNKS1QQBo6ZnXiotBAJBRSsBN4UH/F5k0k9MMQgCfwGaTZQNBAAD1EQgsUEEAoE9+bNOFQQDwJgUYyAJBACAOd9rrq0EAYDJIHqvwQQAgjnsVgXJBAOjChw3FuEEAIK6O0KfLQf9Htvvaoc9BADif6qHv9UEACG5SgLq6QQAwKvAwX9ZBAAj2ROd2U0EwygkYjizKQACoV5UbvohBADziDkz2h0GA7zBCxU/3QACwi6O89bNBAABum6ZJxUEAAAAAAAAAAADw8QtnH3NBAKgyNqybj0EAfFeKtJ9hQQCcZ0uYtrZBAFCyek2I5kCB4+8pnnaDQADoXVUDna5BAJDG5C+fo0EAOM6H4AqdQQA4PbaHFclBAIy9o5ejc0EBQEIiBRW0QQHAhFlQ+KhBXclwC6l6lkEA8IjR50NBQQCoHKE7p8FBAKg1EDcis0EBRnfCpWY5QQDkrUPLiIJBAESkk9iakEEA/HjfIdNwQQGeYVeMwA9BAMCgP7bkrkEAMIzOCqyYQQAMEybRi7JBAEBH2INGgkEBUDVQdTJpQQCYPYKXHo9BALjFTuQv8EEBQLUHq6t1QQCI8SuWvBZBAMANNnceW0AAAAAAAAAAAADg7JZGD/lAAEQvSbQ/o0EAMAWnrUBnQQDQc2nm8V9AAvDehSX8r0EAeA0hi/1LQQBsYM2oPoVBAJBaYteJ1UABmAAw0w65QQAAAAAAAAAAAND5pQedmEEAAAAAAAAAAP8fWpfRGNNBALg/9PU1NUEB+L16bLXGQQAy/tcYYiNBAJgAiDQnikEA5GC+edrhQAAAqQJpC5xB/9P/An8YSUH/R9E4G5aqQf8DpZHDykhB/6cfej7eSUEAuNeH6LXMQQAAAAAAAAAAAJjwuL33x0EAiOzYfMxdQQAwSmDG3mZBAAAAAAAAAAABcPmv7lrVQQDkytKY1FBBwkELBo1UWkEAYN6XveLAQQD4ieltQ8BAALM5VTgLIUEAkJgHL0iMQQBASuD7ZtRBANgSeAx+MkEAzEsE2QmwQAAA1jmDlsJBAEhBwHPEtEEA2EAp1xdaQQEIkRzejapBAPD0H23mf0EBeOcEHUO9QQAAAAAAAAAAQGX9lQiXGEH/z7nVnZyaQQGgwpJ6w9dB/1/6eEtCt0EAmBJD5WXCQQDA9OSmp7dBAPia63y3oEEAmFP6p1zFQQAAAAAAAAAA/39KeA9UnUEADBWfvaoDQgDEaYLcjmFBAAAAAAAAAAAAaGNgHLz5QAAY8Ey6GFRBADyR8m+SIEEAACPcnqmSQf+nefVi0b1BAID4HMudX0EA6DlxsIpzQQD47pgYV2BB//+GbPb08UAASArwLiibQQCA3kVg6o9BAECpMZr1eEEAmN0kRg/QQQB4cUuQl2tBAHi1T8C/0UAAZA1TyrmBQQEYscuiR3dBAIBeuG8vxUH/y7UyJh6WQP/pGCdTkFBAAEgPnJ+KXkEAAAAAAAAAAP8fwaZm+UdBAAhB4uBINEEA2Nh4Tq+kQQCgZLjuysBBATjox31PnUEAyEKasyuyQQB4O+ua55pBAOD8Zh7e+UFArfA6wLPIQABifaX64xRBABCEH4F+0EEA5Ei6inlUQQAAAAAAAAAAAmiGZ8bxrkH/f2rywMm/QQCQbV+pSohB",
          "dtype": "f8"
         },
         "xaxis": "x",
         "y": {
          "bdata": "AAAAAOCO5UC4HoXrUZnQQEfhehRuyLdAmpmZmRkfrECamZmZCRbhQMzMzMzMcbtAFK5H4XqURUCZmZmZ2YjAQAAAAABAesJAzczMzGxK1EB7FK5HIa66QJqZmZnZUcRA61G4HiWow0AUrkfhWhDOQAAAAADQzwJBMzMzM/Mf10BSuB6F6/GHQBSuR+F6NFZAzczMzMx5v0AzMzMzM+3ZQBSuR+F6lFpAH4XrUXhExkAAAAAAkK36QML1KFyPsm1AKVyPwvU4XEB7FK5H4aSFQChcj8L11pZA7FG4HkWXskDNzMzMzGXOQAAAAACA2LRAzczMzMz1xEC4HoXrcavVQOF6FK53mdhAMzMzM0PK70BxPQrXo3OmQGZmZmamZNlAzczMzMx2eEDiehSuR218QD4K16Nw6J9AAAAAAMAky0DrUbgehcOEQDMzMzOzOdJAAAAAABAW90C4HoXrUWyGQDQzMzMz/K5A61G4HsXItkAAAAAAQHrgQPYoXI8CLL1AAAAAAKisAEFcj8L1qDyoQGZmZmZm2txACtejcD3XkEDNzMzMjDfqQIXrUbie56JAhetRuB49fkAAAAAAYGXjQFyPwvUoNZJAAAAAAEAp50BmZmZmJrjEQArXo3BtR9hAmpmZmRnPyUA+CtejcHSZQFK4HoXrx5hA7FG4HoWBhkAAAAAAIH7QQAAAAAAAUFVA9ihcj+LkwkC4HoXrUd6FQLgehevRobdAmpmZmVkRwEApXI/CtbO+QGZmZmZmCNVAAAAAAIjoC0EUrkfh+rOhQGZmZmbeXPBAMzMzM1N93EApXI/C9TheQJqZmZmZwq9AAAAAAMAW8UD2KFyPwmWXQFK4HoXrJ61AAAAAANDP/kAAAAAA4CHZQArXo3AdW8lAZmZmZuYnvUAAAAAAgF3FQPYoXI/CRVFAAAAAAMBm40DsUbgehYmcQD0K16Nw+7NAMzMzMzNAvEDXo3A9CkunQMP1KFyPolhAmZmZmTkj0kBSuB6Fa2CnQML1KFwPWrlAAAAAAABkdECuR+F6VMqwQJqZmZmJfOJACtejcH3ru0BSuB6FC8rMQEjhehSu32NAmpmZmZHf8UA9CtejcJmxQOF6FK5HlMtAexSuR+FifkCamZmZOXnqQBSuR+F6Z5hA7FG4HgX0sUCuR+F6pBjRQB6F61G4a6ZAAAAAAADGjkCkcD0K15u4QM3MzMzsGN5AUrgehestkUDNzMzMjG7VQJqZmZkJoglB9ihcj8J3q0DNzMzMDNLGQB+F61G4YJ9AzczMzEw23UC4HoXrUcugQFyPwvWoY6xAAAAAANzJEUEzMzMzM5CZQAAAAABgt9BAmpmZmYm8/EApXI/C9dipQAAAAABANPNAzczMzEw2vECuR+F6FESlQFyPwvUotolAMzMzM2N85kAAAAAAmOULQUjhehTuq7lAMzMzM9O/4EBmZmZmJsHcQArXo3B90sJAMzMzMzODrEApXI/C9RB4QBWuR+E6mr5AzczMzAxWsUDNzMzM7DrSQBWuR+H6m7hAFK5H4XqsY0BmZmZmZiZ5QAAAAACAtrxA7FG4HgXHo0DNzMzMDKyyQB6F61G4iohASOF6FK4XVkDhehSu98/SQHA9CtfjA7pAAAAAAODL7EBI4XoU7sPKQFyPwvWo5blArkfhehRmikDrUbgehetCQDMzMzMz44ZAZmZmZibnykAAAAAAcN/wQBSuR+FKf9BAmpmZmelf0UAzMzMzu8n+QOF6FK7Hv6FAAAAAAGgzCUFmZmZmxhvoQPUoXI/ChVJAAAAAACDo+ED2KFyPwt1mQLgehetRiFVAMzMzM9MT5EDsUbgexYu7QAAAAAAATrtA",
          "dtype": "f8"
         },
         "yaxis": "y"
        }
       ],
       "layout": {
        "annotations": [
         {
          "font": {
           "color": "red",
           "size": 14
          },
          "showarrow": false,
          "text": "Correlation: 0.4525",
          "x": 15476090515.136717,
          "y": 291447
         }
        ],
        "legend": {
         "tracegroupgap": 0
        },
        "margin": {
         "t": 60
        },
        "template": {
         "data": {
          "bar": [
           {
            "error_x": {
             "color": "#2a3f5f"
            },
            "error_y": {
             "color": "#2a3f5f"
            },
            "marker": {
             "line": {
              "color": "#E5ECF6",
              "width": 0.5
             },
             "pattern": {
              "fillmode": "overlay",
              "size": 10,
              "solidity": 0.2
             }
            },
            "type": "bar"
           }
          ],
          "barpolar": [
           {
            "marker": {
             "line": {
              "color": "#E5ECF6",
              "width": 0.5
             },
             "pattern": {
              "fillmode": "overlay",
              "size": 10,
              "solidity": 0.2
             }
            },
            "type": "barpolar"
           }
          ],
          "carpet": [
           {
            "aaxis": {
             "endlinecolor": "#2a3f5f",
             "gridcolor": "white",
             "linecolor": "white",
             "minorgridcolor": "white",
             "startlinecolor": "#2a3f5f"
            },
            "baxis": {
             "endlinecolor": "#2a3f5f",
             "gridcolor": "white",
             "linecolor": "white",
             "minorgridcolor": "white",
             "startlinecolor": "#2a3f5f"
            },
            "type": "carpet"
           }
          ],
          "choropleth": [
           {
            "colorbar": {
             "outlinewidth": 0,
             "ticks": ""
            },
            "type": "choropleth"
           }
          ],
          "contour": [
           {
            "colorbar": {
             "outlinewidth": 0,
             "ticks": ""
            },
            "colorscale": [
             [
              0,
              "#0d0887"
             ],
             [
              0.1111111111111111,
              "#46039f"
             ],
             [
              0.2222222222222222,
              "#7201a8"
             ],
             [
              0.3333333333333333,
              "#9c179e"
             ],
             [
              0.4444444444444444,
              "#bd3786"
             ],
             [
              0.5555555555555556,
              "#d8576b"
             ],
             [
              0.6666666666666666,
              "#ed7953"
             ],
             [
              0.7777777777777778,
              "#fb9f3a"
             ],
             [
              0.8888888888888888,
              "#fdca26"
             ],
             [
              1,
              "#f0f921"
             ]
            ],
            "type": "contour"
           }
          ],
          "contourcarpet": [
           {
            "colorbar": {
             "outlinewidth": 0,
             "ticks": ""
            },
            "type": "contourcarpet"
           }
          ],
          "heatmap": [
           {
            "colorbar": {
             "outlinewidth": 0,
             "ticks": ""
            },
            "colorscale": [
             [
              0,
              "#0d0887"
             ],
             [
              0.1111111111111111,
              "#46039f"
             ],
             [
              0.2222222222222222,
              "#7201a8"
             ],
             [
              0.3333333333333333,
              "#9c179e"
             ],
             [
              0.4444444444444444,
              "#bd3786"
             ],
             [
              0.5555555555555556,
              "#d8576b"
             ],
             [
              0.6666666666666666,
              "#ed7953"
             ],
             [
              0.7777777777777778,
              "#fb9f3a"
             ],
             [
              0.8888888888888888,
              "#fdca26"
             ],
             [
              1,
              "#f0f921"
             ]
            ],
            "type": "heatmap"
           }
          ],
          "histogram": [
           {
            "marker": {
             "pattern": {
              "fillmode": "overlay",
              "size": 10,
              "solidity": 0.2
             }
            },
            "type": "histogram"
           }
          ],
          "histogram2d": [
           {
            "colorbar": {
             "outlinewidth": 0,
             "ticks": ""
            },
            "colorscale": [
             [
              0,
              "#0d0887"
             ],
             [
              0.1111111111111111,
              "#46039f"
             ],
             [
              0.2222222222222222,
              "#7201a8"
             ],
             [
              0.3333333333333333,
              "#9c179e"
             ],
             [
              0.4444444444444444,
              "#bd3786"
             ],
             [
              0.5555555555555556,
              "#d8576b"
             ],
             [
              0.6666666666666666,
              "#ed7953"
             ],
             [
              0.7777777777777778,
              "#fb9f3a"
             ],
             [
              0.8888888888888888,
              "#fdca26"
             ],
             [
              1,
              "#f0f921"
             ]
            ],
            "type": "histogram2d"
           }
          ],
          "histogram2dcontour": [
           {
            "colorbar": {
             "outlinewidth": 0,
             "ticks": ""
            },
            "colorscale": [
             [
              0,
              "#0d0887"
             ],
             [
              0.1111111111111111,
              "#46039f"
             ],
             [
              0.2222222222222222,
              "#7201a8"
             ],
             [
              0.3333333333333333,
              "#9c179e"
             ],
             [
              0.4444444444444444,
              "#bd3786"
             ],
             [
              0.5555555555555556,
              "#d8576b"
             ],
             [
              0.6666666666666666,
              "#ed7953"
             ],
             [
              0.7777777777777778,
              "#fb9f3a"
             ],
             [
              0.8888888888888888,
              "#fdca26"
             ],
             [
              1,
              "#f0f921"
             ]
            ],
            "type": "histogram2dcontour"
           }
          ],
          "mesh3d": [
           {
            "colorbar": {
             "outlinewidth": 0,
             "ticks": ""
            },
            "type": "mesh3d"
           }
          ],
          "parcoords": [
           {
            "line": {
             "colorbar": {
              "outlinewidth": 0,
              "ticks": ""
             }
            },
            "type": "parcoords"
           }
          ],
          "pie": [
           {
            "automargin": true,
            "type": "pie"
           }
          ],
          "scatter": [
           {
            "fillpattern": {
             "fillmode": "overlay",
             "size": 10,
             "solidity": 0.2
            },
            "type": "scatter"
           }
          ],
          "scatter3d": [
           {
            "line": {
             "colorbar": {
              "outlinewidth": 0,
              "ticks": ""
             }
            },
            "marker": {
             "colorbar": {
              "outlinewidth": 0,
              "ticks": ""
             }
            },
            "type": "scatter3d"
           }
          ],
          "scattercarpet": [
           {
            "marker": {
             "colorbar": {
              "outlinewidth": 0,
              "ticks": ""
             }
            },
            "type": "scattercarpet"
           }
          ],
          "scattergeo": [
           {
            "marker": {
             "colorbar": {
              "outlinewidth": 0,
              "ticks": ""
             }
            },
            "type": "scattergeo"
           }
          ],
          "scattergl": [
           {
            "marker": {
             "colorbar": {
              "outlinewidth": 0,
              "ticks": ""
             }
            },
            "type": "scattergl"
           }
          ],
          "scattermap": [
           {
            "marker": {
             "colorbar": {
              "outlinewidth": 0,
              "ticks": ""
             }
            },
            "type": "scattermap"
           }
          ],
          "scattermapbox": [
           {
            "marker": {
             "colorbar": {
              "outlinewidth": 0,
              "ticks": ""
             }
            },
            "type": "scattermapbox"
           }
          ],
          "scatterpolar": [
           {
            "marker": {
             "colorbar": {
              "outlinewidth": 0,
              "ticks": ""
             }
            },
            "type": "scatterpolar"
           }
          ],
          "scatterpolargl": [
           {
            "marker": {
             "colorbar": {
              "outlinewidth": 0,
              "ticks": ""
             }
            },
            "type": "scatterpolargl"
           }
          ],
          "scatterternary": [
           {
            "marker": {
             "colorbar": {
              "outlinewidth": 0,
              "ticks": ""
             }
            },
            "type": "scatterternary"
           }
          ],
          "surface": [
           {
            "colorbar": {
             "outlinewidth": 0,
             "ticks": ""
            },
            "colorscale": [
             [
              0,
              "#0d0887"
             ],
             [
              0.1111111111111111,
              "#46039f"
             ],
             [
              0.2222222222222222,
              "#7201a8"
             ],
             [
              0.3333333333333333,
              "#9c179e"
             ],
             [
              0.4444444444444444,
              "#bd3786"
             ],
             [
              0.5555555555555556,
              "#d8576b"
             ],
             [
              0.6666666666666666,
              "#ed7953"
             ],
             [
              0.7777777777777778,
              "#fb9f3a"
             ],
             [
              0.8888888888888888,
              "#fdca26"
             ],
             [
              1,
              "#f0f921"
             ]
            ],
            "type": "surface"
           }
          ],
          "table": [
           {
            "cells": {
             "fill": {
              "color": "#EBF0F8"
             },
             "line": {
              "color": "white"
             }
            },
            "header": {
             "fill": {
              "color": "#C8D4E3"
             },
             "line": {
              "color": "white"
             }
            },
            "type": "table"
           }
          ]
         },
         "layout": {
          "annotationdefaults": {
           "arrowcolor": "#2a3f5f",
           "arrowhead": 0,
           "arrowwidth": 1
          },
          "autotypenumbers": "strict",
          "coloraxis": {
           "colorbar": {
            "outlinewidth": 0,
            "ticks": ""
           }
          },
          "colorscale": {
           "diverging": [
            [
             0,
             "#8e0152"
            ],
            [
             0.1,
             "#c51b7d"
            ],
            [
             0.2,
             "#de77ae"
            ],
            [
             0.3,
             "#f1b6da"
            ],
            [
             0.4,
             "#fde0ef"
            ],
            [
             0.5,
             "#f7f7f7"
            ],
            [
             0.6,
             "#e6f5d0"
            ],
            [
             0.7,
             "#b8e186"
            ],
            [
             0.8,
             "#7fbc41"
            ],
            [
             0.9,
             "#4d9221"
            ],
            [
             1,
             "#276419"
            ]
           ],
           "sequential": [
            [
             0,
             "#0d0887"
            ],
            [
             0.1111111111111111,
             "#46039f"
            ],
            [
             0.2222222222222222,
             "#7201a8"
            ],
            [
             0.3333333333333333,
             "#9c179e"
            ],
            [
             0.4444444444444444,
             "#bd3786"
            ],
            [
             0.5555555555555556,
             "#d8576b"
            ],
            [
             0.6666666666666666,
             "#ed7953"
            ],
            [
             0.7777777777777778,
             "#fb9f3a"
            ],
            [
             0.8888888888888888,
             "#fdca26"
            ],
            [
             1,
             "#f0f921"
            ]
           ],
           "sequentialminus": [
            [
             0,
             "#0d0887"
            ],
            [
             0.1111111111111111,
             "#46039f"
            ],
            [
             0.2222222222222222,
             "#7201a8"
            ],
            [
             0.3333333333333333,
             "#9c179e"
            ],
            [
             0.4444444444444444,
             "#bd3786"
            ],
            [
             0.5555555555555556,
             "#d8576b"
            ],
            [
             0.6666666666666666,
             "#ed7953"
            ],
            [
             0.7777777777777778,
             "#fb9f3a"
            ],
            [
             0.8888888888888888,
             "#fdca26"
            ],
            [
             1,
             "#f0f921"
            ]
           ]
          },
          "colorway": [
           "#636efa",
           "#EF553B",
           "#00cc96",
           "#ab63fa",
           "#FFA15A",
           "#19d3f3",
           "#FF6692",
           "#B6E880",
           "#FF97FF",
           "#FECB52"
          ],
          "font": {
           "color": "#2a3f5f"
          },
          "geo": {
           "bgcolor": "white",
           "lakecolor": "white",
           "landcolor": "#E5ECF6",
           "showlakes": true,
           "showland": true,
           "subunitcolor": "white"
          },
          "hoverlabel": {
           "align": "left"
          },
          "hovermode": "closest",
          "mapbox": {
           "style": "light"
          },
          "paper_bgcolor": "white",
          "plot_bgcolor": "#E5ECF6",
          "polar": {
           "angularaxis": {
            "gridcolor": "white",
            "linecolor": "white",
            "ticks": ""
           },
           "bgcolor": "#E5ECF6",
           "radialaxis": {
            "gridcolor": "white",
            "linecolor": "white",
            "ticks": ""
           }
          },
          "scene": {
           "xaxis": {
            "backgroundcolor": "#E5ECF6",
            "gridcolor": "white",
            "gridwidth": 2,
            "linecolor": "white",
            "showbackground": true,
            "ticks": "",
            "zerolinecolor": "white"
           },
           "yaxis": {
            "backgroundcolor": "#E5ECF6",
            "gridcolor": "white",
            "gridwidth": 2,
            "linecolor": "white",
            "showbackground": true,
            "ticks": "",
            "zerolinecolor": "white"
           },
           "zaxis": {
            "backgroundcolor": "#E5ECF6",
            "gridcolor": "white",
            "gridwidth": 2,
            "linecolor": "white",
            "showbackground": true,
            "ticks": "",
            "zerolinecolor": "white"
           }
          },
          "shapedefaults": {
           "line": {
            "color": "#2a3f5f"
           }
          },
          "ternary": {
           "aaxis": {
            "gridcolor": "white",
            "linecolor": "white",
            "ticks": ""
           },
           "baxis": {
            "gridcolor": "white",
            "linecolor": "white",
            "ticks": ""
           },
           "bgcolor": "#E5ECF6",
           "caxis": {
            "gridcolor": "white",
            "linecolor": "white",
            "ticks": ""
           }
          },
          "title": {
           "x": 0.05
          },
          "xaxis": {
           "automargin": true,
           "gridcolor": "white",
           "linecolor": "white",
           "ticks": "",
           "title": {
            "standoff": 15
           },
           "zerolinecolor": "white",
           "zerolinewidth": 2
          },
          "yaxis": {
           "automargin": true,
           "gridcolor": "white",
           "linecolor": "white",
           "ticks": "",
           "title": {
            "standoff": 15
           },
           "zerolinecolor": "white",
           "zerolinewidth": 2
          }
         }
        },
        "xaxis": {
         "anchor": "y",
         "domain": [
          0,
          1
         ],
         "title": {
          "text": "Forest Clearing Emissions"
         }
        },
        "yaxis": {
         "anchor": "x",
         "domain": [
          0,
          1
         ],
         "title": {
          "text": "Air Pollution Deaths"
         }
        }
       }
      }
     },
     "metadata": {},
     "output_type": "display_data"
    },
    {
     "data": {
      "application/vnd.plotly.v1+json": {
       "config": {
        "plotlyServerURL": "https://plot.ly"
       },
       "data": [
        {
         "customdata": [
          [
           "AFG"
          ],
          [
           "AGO"
          ],
          [
           "ALB"
          ],
          [
           "ARE"
          ],
          [
           "ARG"
          ],
          [
           "ARM"
          ],
          [
           "ATG"
          ],
          [
           "AUS"
          ],
          [
           "AUT"
          ],
          [
           "AZE"
          ],
          [
           "BDI"
          ],
          [
           "BEL"
          ],
          [
           "BEN"
          ],
          [
           "BFA"
          ],
          [
           "BGD"
          ],
          [
           "BGR"
          ],
          [
           "BHR"
          ],
          [
           "BHS"
          ],
          [
           "BIH"
          ],
          [
           "BLR"
          ],
          [
           "BLZ"
          ],
          [
           "BOL"
          ],
          [
           "BRA"
          ],
          [
           "BRB"
          ],
          [
           "BRN"
          ],
          [
           "BTN"
          ],
          [
           "BWA"
          ],
          [
           "CAF"
          ],
          [
           "CAN"
          ],
          [
           "CHE"
          ],
          [
           "CHL"
          ],
          [
           "CIV"
          ],
          [
           "CMR"
          ],
          [
           "COD"
          ],
          [
           "COG"
          ],
          [
           "COL"
          ],
          [
           "COM"
          ],
          [
           "CPV"
          ],
          [
           "CRI"
          ],
          [
           "CUB"
          ],
          [
           "CYP"
          ],
          [
           "CZE"
          ],
          [
           "DEU"
          ],
          [
           "DJI"
          ],
          [
           "DNK"
          ],
          [
           "DOM"
          ],
          [
           "DZA"
          ],
          [
           "ECU"
          ],
          [
           "EGY"
          ],
          [
           "ERI"
          ],
          [
           "ESP"
          ],
          [
           "EST"
          ],
          [
           "ETH"
          ],
          [
           "FIN"
          ],
          [
           "FJI"
          ],
          [
           "FRA"
          ],
          [
           "GAB"
          ],
          [
           "GBR"
          ],
          [
           "GEO"
          ],
          [
           "GHA"
          ],
          [
           "GIN"
          ],
          [
           "GMB"
          ],
          [
           "GNB"
          ],
          [
           "GNQ"
          ],
          [
           "GRC"
          ],
          [
           "GRD"
          ],
          [
           "GTM"
          ],
          [
           "GUY"
          ],
          [
           "HND"
          ],
          [
           "HRV"
          ],
          [
           "HTI"
          ],
          [
           "HUN"
          ],
          [
           "IDN"
          ],
          [
           "IRL"
          ],
          [
           "IRN"
          ],
          [
           "IRQ"
          ],
          [
           "ISL"
          ],
          [
           "ISR"
          ],
          [
           "ITA"
          ],
          [
           "JAM"
          ],
          [
           "JOR"
          ],
          [
           "JPN"
          ],
          [
           "KAZ"
          ],
          [
           "KEN"
          ],
          [
           "KGZ"
          ],
          [
           "KHM"
          ],
          [
           "KIR"
          ],
          [
           "KOR"
          ],
          [
           "KWT"
          ],
          [
           "LAO"
          ],
          [
           "LBN"
          ],
          [
           "LBR"
          ],
          [
           "LCA"
          ],
          [
           "LKA"
          ],
          [
           "LSO"
          ],
          [
           "LTU"
          ],
          [
           "LUX"
          ],
          [
           "LVA"
          ],
          [
           "MAR"
          ],
          [
           "MDA"
          ],
          [
           "MDG"
          ],
          [
           "MDV"
          ],
          [
           "MEX"
          ],
          [
           "MKD"
          ],
          [
           "MLI"
          ],
          [
           "MLT"
          ],
          [
           "MMR"
          ],
          [
           "MNE"
          ],
          [
           "MNG"
          ],
          [
           "MOZ"
          ],
          [
           "MRT"
          ],
          [
           "MUS"
          ],
          [
           "MWI"
          ],
          [
           "MYS"
          ],
          [
           "NAM"
          ],
          [
           "NER"
          ],
          [
           "NGA"
          ],
          [
           "NIC"
          ],
          [
           "NLD"
          ],
          [
           "NOR"
          ],
          [
           "NPL"
          ],
          [
           "NZL"
          ],
          [
           "OMN"
          ],
          [
           "PAK"
          ],
          [
           "PAN"
          ],
          [
           "PER"
          ],
          [
           "PHL"
          ],
          [
           "PNG"
          ],
          [
           "POL"
          ],
          [
           "PRT"
          ],
          [
           "PRY"
          ],
          [
           "QAT"
          ],
          [
           "ROU"
          ],
          [
           "RUS"
          ],
          [
           "RWA"
          ],
          [
           "SAU"
          ],
          [
           "SDN"
          ],
          [
           "SEN"
          ],
          [
           "SGP"
          ],
          [
           "SLB"
          ],
          [
           "SLE"
          ],
          [
           "SLV"
          ],
          [
           "SRB"
          ],
          [
           "SSD"
          ],
          [
           "STP"
          ],
          [
           "SUR"
          ],
          [
           "SVK"
          ],
          [
           "SVN"
          ],
          [
           "SWE"
          ],
          [
           "SWZ"
          ],
          [
           "SYC"
          ],
          [
           "TCD"
          ],
          [
           "TGO"
          ],
          [
           "THA"
          ],
          [
           "TJK"
          ],
          [
           "TKM"
          ],
          [
           "TLS"
          ],
          [
           "TON"
          ],
          [
           "TTO"
          ],
          [
           "TUN"
          ],
          [
           "TUR"
          ],
          [
           "TZA"
          ],
          [
           "UGA"
          ],
          [
           "UKR"
          ],
          [
           "URY"
          ],
          [
           "USA"
          ],
          [
           "UZB"
          ],
          [
           "VCT"
          ],
          [
           "VNM"
          ],
          [
           "VUT"
          ],
          [
           "WSM"
          ],
          [
           "ZAF"
          ],
          [
           "ZMB"
          ],
          [
           "ZWE"
          ]
         ],
         "hovertemplate": "Petrochemicals Emissions=%{x}<br>Air Pollution Deaths=%{y}<br>Country Code=%{customdata[0]}<extra></extra>",
         "legendgroup": "",
         "marker": {
          "color": "#636efa",
          "symbol": "circle"
         },
         "mode": "markers",
         "name": "",
         "orientation": "v",
         "showlegend": false,
         "type": "scatter",
         "x": {
          "bdata": "AAAAAAAAAAAAAAAAAAAAAAAAAAAAAAAAdR+gk7tbkUGIgS4QkPJlQQAAAAAAAAAAAAAAAAAAAACA8Qxc9PxcQdzXAcrVGGNB/ujlE5U1TUEAAAAAAAAAANi7v6UmyIVBAAAAAAAAAAAAAAAAAAAAAAAAAAAAAAAAAAAAAAAAAAAAAAAAAAAAAAAAAAAAAAAAAAAAAAAAAAAAAAAAAAAAAAAAAAAAAAAAAAAAAAAAAACm1ovtCgySQQAAAAAAAAAAAAAAAAAAAAAAAAAAAAAAAAAAAAAAAAAAAAAAAAAAAADD9agmeOSaQYQwdQdguB9BAAAAAAAAAAAAAAAAAAAAAAAAAAAAAAAAAAAAAAAAAAAAAAAAAAAAALF2yjtUDThBAAAAAAAAAAAAAAAAAAAAAAAAAAAAAAAAAAAAAAAAAAAAAAAAAAAAAAqAcXcNx2RBPCz0hF+7nUEAAAAAAAAAAAAAAAAAAAAAAAAAAAAAAAAAAAAAAAAAAAAAAAAAAAAAyol2mmzFakEAAAAAAAAAAAwGVxxovHxBAAAAAAAAAAAAAAAAAAAAACjqcQdguF9BAAAAAAAAAACb5EcfFGqLQQAAAAAAAAAAxw91cEQzhEEAAAAAAAAAAAAAAAAAAAAAAAAAAAAAAAAAAAAAAAAAAAAAAAAAAAAAAAAAAAAAAAAAAAAAAAAAAAAAAAAAAAAAAAAAAAAAAAAAAAAAAAAAAAAAAAAAAAAAAAAAAAAAAAAAAAAAAAAAANuljUyWZW1B66f/gMCnekEAAAAAAAAAAPz7/ERTkKJBAAAAAAAAAAAAAAAAAAAAAFiNJUj7g1JBSREZTUYJfUEAAAAAAAAAAAAAAAAAAAAAzVik2HWHoEEAAAAAAAAAAAAAAAAAAAAAAAAAAAAAAAAAAAAAAAAAAAAAAAAAAAAAARhvSYrxrkEdPuki+Nt+QQAAAAAAAAAAAAAAAAAAAAAAAAAAAAAAAAAAAAAAAAAAAAAAAAAAAAAAAAAAAAAAAAAAAAAAAAAAAAAAAAAAAAAAAAAAAAAAAAAAAAAAAAAAAAAAAAAAAAAAAAAAAAAAAAAAAAAAAAAAsMgPOl/pgEEAAAAAAAAAAAAAAAAAAAAAAAAAAAAAAAAAAAAAAAAAAAAAAAAAAAAAAAAAAAAAAAAAAAAAAAAAAAAAAAAAAAAAAAAAAAAAAAAAAAAAAAAAAETAIdZcu5RBAAAAAAAAAAAAAAAAAAAAAFXcuLq3XFlBAAAAAAAAAADp73UQvZqUQfuSDQbOxWlBAAAAAAAAAAAAAAAAAAAAAJkOnZO7W3FBAAAAAAAAAAAAAAAAAAAAAAAAAAAAAAAAQ3FHNKtubEEAAAAAAAAAAO+SOIFevGpBE9MFN7FBYEEAAAAAAAAAAOEK6NZaQIRBAAAAAAAAAAAG2Ic3lEyUQQAAAAAAAAAAb/XMaGLwtUEAAAAAAAAAAAAAAAAAAAAAUB+BZpX+mEEAAAAAAAAAAAAAAAAAAAAAAAAAAAAAAADJAiapI79OQQAAAAAAAAAAAAAAAAAAAAAAAAAAAAAAAOzEQMYszlBBAAAAAAAAAAAr+kOneypiQQAAAAAAAAAAAAAAAAAAAAAAAAAAAAAAAAAAAAAAAAAAeenGYND9o0EAAAAAAAAAAGSyuDv06lhBAAAAAAAAAAAAAAAAAAAAAAAAAAAAAAAAAAAAAAAAAACbc/AsnTBqQQAAAAAAAAAAAAAAAAAAAACPJ7hJdjdTQQAAAAAAAAAAthXTaRCiwkFl/tGRWLRwQQAAAAAAAAAAAAAAAAAAAAAAAAAAAAAAAAAAAAAAAAAAlQuVPWidc0EAAAAAAAAAAAAAAAAAAAAA",
          "dtype": "f8"
         },
         "xaxis": "x",
         "y": {
          "bdata": "AAAAAOCO5UC4HoXrUZnQQEfhehRuyLdAmpmZmRkfrECamZmZCRbhQMzMzMzMcbtAFK5H4XqURUCZmZmZ2YjAQAAAAABAesJAzczMzGxK1EB7FK5HIa66QJqZmZnZUcRA61G4HiWow0AUrkfhWhDOQAAAAADQzwJBMzMzM/Mf10BSuB6F6/GHQBSuR+F6NFZAzczMzMx5v0AzMzMzM+3ZQBSuR+F6lFpAH4XrUXhExkAAAAAAkK36QML1KFyPsm1AKVyPwvU4XEB7FK5H4aSFQChcj8L11pZA7FG4HkWXskDNzMzMzGXOQAAAAACA2LRAzczMzMz1xEC4HoXrcavVQOF6FK53mdhAMzMzM0PK70BxPQrXo3OmQGZmZmamZNlAzczMzMx2eEDiehSuR218QD4K16Nw6J9AAAAAAMAky0DrUbgehcOEQDMzMzOzOdJAAAAAABAW90C4HoXrUWyGQDQzMzMz/K5A61G4HsXItkAAAAAAQHrgQPYoXI8CLL1AAAAAAKisAEFcj8L1qDyoQGZmZmZm2txACtejcD3XkEDNzMzMjDfqQIXrUbie56JAhetRuB49fkAAAAAAYGXjQFyPwvUoNZJAAAAAAEAp50BmZmZmJrjEQArXo3BtR9hAmpmZmRnPyUA+CtejcHSZQFK4HoXrx5hA7FG4HoWBhkAAAAAAIH7QQAAAAAAAUFVA9ihcj+LkwkC4HoXrUd6FQLgehevRobdAmpmZmVkRwEApXI/CtbO+QGZmZmZmCNVAAAAAAIjoC0EUrkfh+rOhQGZmZmbeXPBAMzMzM1N93EApXI/C9TheQJqZmZmZwq9AAAAAAMAW8UD2KFyPwmWXQFK4HoXrJ61AAAAAANDP/kAAAAAA4CHZQArXo3AdW8lAZmZmZuYnvUAAAAAAgF3FQPYoXI/CRVFAAAAAAMBm40DsUbgehYmcQD0K16Nw+7NAMzMzMzNAvEDXo3A9CkunQMP1KFyPolhAmZmZmTkj0kBSuB6Fa2CnQML1KFwPWrlAAAAAAABkdECuR+F6VMqwQJqZmZmJfOJACtejcH3ru0BSuB6FC8rMQEjhehSu32NAmpmZmZHf8UA9CtejcJmxQOF6FK5HlMtAexSuR+FifkCamZmZOXnqQBSuR+F6Z5hA7FG4HgX0sUCuR+F6pBjRQB6F61G4a6ZAAAAAAADGjkCkcD0K15u4QM3MzMzsGN5AUrgehestkUDNzMzMjG7VQJqZmZkJoglB9ihcj8J3q0DNzMzMDNLGQB+F61G4YJ9AzczMzEw23UC4HoXrUcugQFyPwvWoY6xAAAAAANzJEUEzMzMzM5CZQAAAAABgt9BAmpmZmYm8/EApXI/C9dipQAAAAABANPNAzczMzEw2vECuR+F6FESlQFyPwvUotolAMzMzM2N85kAAAAAAmOULQUjhehTuq7lAMzMzM9O/4EBmZmZmJsHcQArXo3B90sJAMzMzMzODrEApXI/C9RB4QBWuR+E6mr5AzczMzAxWsUDNzMzM7DrSQBWuR+H6m7hAFK5H4XqsY0BmZmZmZiZ5QAAAAACAtrxA7FG4HgXHo0DNzMzMDKyyQB6F61G4iohASOF6FK4XVkDhehSu98/SQHA9CtfjA7pAAAAAAODL7EBI4XoU7sPKQFyPwvWo5blArkfhehRmikDrUbgehetCQDMzMzMz44ZAZmZmZibnykAAAAAAcN/wQBSuR+FKf9BAmpmZmelf0UAzMzMzu8n+QOF6FK7Hv6FAAAAAAGgzCUFmZmZmxhvoQPUoXI/ChVJAAAAAACDo+ED2KFyPwt1mQLgehetRiFVAMzMzM9MT5EDsUbgexYu7QAAAAAAATrtA",
          "dtype": "f8"
         },
         "yaxis": "y"
        }
       ],
       "layout": {
        "annotations": [
         {
          "font": {
           "color": "red",
           "size": 14
          },
          "showarrow": false,
          "text": "Correlation: 0.3718",
          "x": 625221843.6491001,
          "y": 291447
         }
        ],
        "legend": {
         "tracegroupgap": 0
        },
        "margin": {
         "t": 60
        },
        "template": {
         "data": {
          "bar": [
           {
            "error_x": {
             "color": "#2a3f5f"
            },
            "error_y": {
             "color": "#2a3f5f"
            },
            "marker": {
             "line": {
              "color": "#E5ECF6",
              "width": 0.5
             },
             "pattern": {
              "fillmode": "overlay",
              "size": 10,
              "solidity": 0.2
             }
            },
            "type": "bar"
           }
          ],
          "barpolar": [
           {
            "marker": {
             "line": {
              "color": "#E5ECF6",
              "width": 0.5
             },
             "pattern": {
              "fillmode": "overlay",
              "size": 10,
              "solidity": 0.2
             }
            },
            "type": "barpolar"
           }
          ],
          "carpet": [
           {
            "aaxis": {
             "endlinecolor": "#2a3f5f",
             "gridcolor": "white",
             "linecolor": "white",
             "minorgridcolor": "white",
             "startlinecolor": "#2a3f5f"
            },
            "baxis": {
             "endlinecolor": "#2a3f5f",
             "gridcolor": "white",
             "linecolor": "white",
             "minorgridcolor": "white",
             "startlinecolor": "#2a3f5f"
            },
            "type": "carpet"
           }
          ],
          "choropleth": [
           {
            "colorbar": {
             "outlinewidth": 0,
             "ticks": ""
            },
            "type": "choropleth"
           }
          ],
          "contour": [
           {
            "colorbar": {
             "outlinewidth": 0,
             "ticks": ""
            },
            "colorscale": [
             [
              0,
              "#0d0887"
             ],
             [
              0.1111111111111111,
              "#46039f"
             ],
             [
              0.2222222222222222,
              "#7201a8"
             ],
             [
              0.3333333333333333,
              "#9c179e"
             ],
             [
              0.4444444444444444,
              "#bd3786"
             ],
             [
              0.5555555555555556,
              "#d8576b"
             ],
             [
              0.6666666666666666,
              "#ed7953"
             ],
             [
              0.7777777777777778,
              "#fb9f3a"
             ],
             [
              0.8888888888888888,
              "#fdca26"
             ],
             [
              1,
              "#f0f921"
             ]
            ],
            "type": "contour"
           }
          ],
          "contourcarpet": [
           {
            "colorbar": {
             "outlinewidth": 0,
             "ticks": ""
            },
            "type": "contourcarpet"
           }
          ],
          "heatmap": [
           {
            "colorbar": {
             "outlinewidth": 0,
             "ticks": ""
            },
            "colorscale": [
             [
              0,
              "#0d0887"
             ],
             [
              0.1111111111111111,
              "#46039f"
             ],
             [
              0.2222222222222222,
              "#7201a8"
             ],
             [
              0.3333333333333333,
              "#9c179e"
             ],
             [
              0.4444444444444444,
              "#bd3786"
             ],
             [
              0.5555555555555556,
              "#d8576b"
             ],
             [
              0.6666666666666666,
              "#ed7953"
             ],
             [
              0.7777777777777778,
              "#fb9f3a"
             ],
             [
              0.8888888888888888,
              "#fdca26"
             ],
             [
              1,
              "#f0f921"
             ]
            ],
            "type": "heatmap"
           }
          ],
          "histogram": [
           {
            "marker": {
             "pattern": {
              "fillmode": "overlay",
              "size": 10,
              "solidity": 0.2
             }
            },
            "type": "histogram"
           }
          ],
          "histogram2d": [
           {
            "colorbar": {
             "outlinewidth": 0,
             "ticks": ""
            },
            "colorscale": [
             [
              0,
              "#0d0887"
             ],
             [
              0.1111111111111111,
              "#46039f"
             ],
             [
              0.2222222222222222,
              "#7201a8"
             ],
             [
              0.3333333333333333,
              "#9c179e"
             ],
             [
              0.4444444444444444,
              "#bd3786"
             ],
             [
              0.5555555555555556,
              "#d8576b"
             ],
             [
              0.6666666666666666,
              "#ed7953"
             ],
             [
              0.7777777777777778,
              "#fb9f3a"
             ],
             [
              0.8888888888888888,
              "#fdca26"
             ],
             [
              1,
              "#f0f921"
             ]
            ],
            "type": "histogram2d"
           }
          ],
          "histogram2dcontour": [
           {
            "colorbar": {
             "outlinewidth": 0,
             "ticks": ""
            },
            "colorscale": [
             [
              0,
              "#0d0887"
             ],
             [
              0.1111111111111111,
              "#46039f"
             ],
             [
              0.2222222222222222,
              "#7201a8"
             ],
             [
              0.3333333333333333,
              "#9c179e"
             ],
             [
              0.4444444444444444,
              "#bd3786"
             ],
             [
              0.5555555555555556,
              "#d8576b"
             ],
             [
              0.6666666666666666,
              "#ed7953"
             ],
             [
              0.7777777777777778,
              "#fb9f3a"
             ],
             [
              0.8888888888888888,
              "#fdca26"
             ],
             [
              1,
              "#f0f921"
             ]
            ],
            "type": "histogram2dcontour"
           }
          ],
          "mesh3d": [
           {
            "colorbar": {
             "outlinewidth": 0,
             "ticks": ""
            },
            "type": "mesh3d"
           }
          ],
          "parcoords": [
           {
            "line": {
             "colorbar": {
              "outlinewidth": 0,
              "ticks": ""
             }
            },
            "type": "parcoords"
           }
          ],
          "pie": [
           {
            "automargin": true,
            "type": "pie"
           }
          ],
          "scatter": [
           {
            "fillpattern": {
             "fillmode": "overlay",
             "size": 10,
             "solidity": 0.2
            },
            "type": "scatter"
           }
          ],
          "scatter3d": [
           {
            "line": {
             "colorbar": {
              "outlinewidth": 0,
              "ticks": ""
             }
            },
            "marker": {
             "colorbar": {
              "outlinewidth": 0,
              "ticks": ""
             }
            },
            "type": "scatter3d"
           }
          ],
          "scattercarpet": [
           {
            "marker": {
             "colorbar": {
              "outlinewidth": 0,
              "ticks": ""
             }
            },
            "type": "scattercarpet"
           }
          ],
          "scattergeo": [
           {
            "marker": {
             "colorbar": {
              "outlinewidth": 0,
              "ticks": ""
             }
            },
            "type": "scattergeo"
           }
          ],
          "scattergl": [
           {
            "marker": {
             "colorbar": {
              "outlinewidth": 0,
              "ticks": ""
             }
            },
            "type": "scattergl"
           }
          ],
          "scattermap": [
           {
            "marker": {
             "colorbar": {
              "outlinewidth": 0,
              "ticks": ""
             }
            },
            "type": "scattermap"
           }
          ],
          "scattermapbox": [
           {
            "marker": {
             "colorbar": {
              "outlinewidth": 0,
              "ticks": ""
             }
            },
            "type": "scattermapbox"
           }
          ],
          "scatterpolar": [
           {
            "marker": {
             "colorbar": {
              "outlinewidth": 0,
              "ticks": ""
             }
            },
            "type": "scatterpolar"
           }
          ],
          "scatterpolargl": [
           {
            "marker": {
             "colorbar": {
              "outlinewidth": 0,
              "ticks": ""
             }
            },
            "type": "scatterpolargl"
           }
          ],
          "scatterternary": [
           {
            "marker": {
             "colorbar": {
              "outlinewidth": 0,
              "ticks": ""
             }
            },
            "type": "scatterternary"
           }
          ],
          "surface": [
           {
            "colorbar": {
             "outlinewidth": 0,
             "ticks": ""
            },
            "colorscale": [
             [
              0,
              "#0d0887"
             ],
             [
              0.1111111111111111,
              "#46039f"
             ],
             [
              0.2222222222222222,
              "#7201a8"
             ],
             [
              0.3333333333333333,
              "#9c179e"
             ],
             [
              0.4444444444444444,
              "#bd3786"
             ],
             [
              0.5555555555555556,
              "#d8576b"
             ],
             [
              0.6666666666666666,
              "#ed7953"
             ],
             [
              0.7777777777777778,
              "#fb9f3a"
             ],
             [
              0.8888888888888888,
              "#fdca26"
             ],
             [
              1,
              "#f0f921"
             ]
            ],
            "type": "surface"
           }
          ],
          "table": [
           {
            "cells": {
             "fill": {
              "color": "#EBF0F8"
             },
             "line": {
              "color": "white"
             }
            },
            "header": {
             "fill": {
              "color": "#C8D4E3"
             },
             "line": {
              "color": "white"
             }
            },
            "type": "table"
           }
          ]
         },
         "layout": {
          "annotationdefaults": {
           "arrowcolor": "#2a3f5f",
           "arrowhead": 0,
           "arrowwidth": 1
          },
          "autotypenumbers": "strict",
          "coloraxis": {
           "colorbar": {
            "outlinewidth": 0,
            "ticks": ""
           }
          },
          "colorscale": {
           "diverging": [
            [
             0,
             "#8e0152"
            ],
            [
             0.1,
             "#c51b7d"
            ],
            [
             0.2,
             "#de77ae"
            ],
            [
             0.3,
             "#f1b6da"
            ],
            [
             0.4,
             "#fde0ef"
            ],
            [
             0.5,
             "#f7f7f7"
            ],
            [
             0.6,
             "#e6f5d0"
            ],
            [
             0.7,
             "#b8e186"
            ],
            [
             0.8,
             "#7fbc41"
            ],
            [
             0.9,
             "#4d9221"
            ],
            [
             1,
             "#276419"
            ]
           ],
           "sequential": [
            [
             0,
             "#0d0887"
            ],
            [
             0.1111111111111111,
             "#46039f"
            ],
            [
             0.2222222222222222,
             "#7201a8"
            ],
            [
             0.3333333333333333,
             "#9c179e"
            ],
            [
             0.4444444444444444,
             "#bd3786"
            ],
            [
             0.5555555555555556,
             "#d8576b"
            ],
            [
             0.6666666666666666,
             "#ed7953"
            ],
            [
             0.7777777777777778,
             "#fb9f3a"
            ],
            [
             0.8888888888888888,
             "#fdca26"
            ],
            [
             1,
             "#f0f921"
            ]
           ],
           "sequentialminus": [
            [
             0,
             "#0d0887"
            ],
            [
             0.1111111111111111,
             "#46039f"
            ],
            [
             0.2222222222222222,
             "#7201a8"
            ],
            [
             0.3333333333333333,
             "#9c179e"
            ],
            [
             0.4444444444444444,
             "#bd3786"
            ],
            [
             0.5555555555555556,
             "#d8576b"
            ],
            [
             0.6666666666666666,
             "#ed7953"
            ],
            [
             0.7777777777777778,
             "#fb9f3a"
            ],
            [
             0.8888888888888888,
             "#fdca26"
            ],
            [
             1,
             "#f0f921"
            ]
           ]
          },
          "colorway": [
           "#636efa",
           "#EF553B",
           "#00cc96",
           "#ab63fa",
           "#FFA15A",
           "#19d3f3",
           "#FF6692",
           "#B6E880",
           "#FF97FF",
           "#FECB52"
          ],
          "font": {
           "color": "#2a3f5f"
          },
          "geo": {
           "bgcolor": "white",
           "lakecolor": "white",
           "landcolor": "#E5ECF6",
           "showlakes": true,
           "showland": true,
           "subunitcolor": "white"
          },
          "hoverlabel": {
           "align": "left"
          },
          "hovermode": "closest",
          "mapbox": {
           "style": "light"
          },
          "paper_bgcolor": "white",
          "plot_bgcolor": "#E5ECF6",
          "polar": {
           "angularaxis": {
            "gridcolor": "white",
            "linecolor": "white",
            "ticks": ""
           },
           "bgcolor": "#E5ECF6",
           "radialaxis": {
            "gridcolor": "white",
            "linecolor": "white",
            "ticks": ""
           }
          },
          "scene": {
           "xaxis": {
            "backgroundcolor": "#E5ECF6",
            "gridcolor": "white",
            "gridwidth": 2,
            "linecolor": "white",
            "showbackground": true,
            "ticks": "",
            "zerolinecolor": "white"
           },
           "yaxis": {
            "backgroundcolor": "#E5ECF6",
            "gridcolor": "white",
            "gridwidth": 2,
            "linecolor": "white",
            "showbackground": true,
            "ticks": "",
            "zerolinecolor": "white"
           },
           "zaxis": {
            "backgroundcolor": "#E5ECF6",
            "gridcolor": "white",
            "gridwidth": 2,
            "linecolor": "white",
            "showbackground": true,
            "ticks": "",
            "zerolinecolor": "white"
           }
          },
          "shapedefaults": {
           "line": {
            "color": "#2a3f5f"
           }
          },
          "ternary": {
           "aaxis": {
            "gridcolor": "white",
            "linecolor": "white",
            "ticks": ""
           },
           "baxis": {
            "gridcolor": "white",
            "linecolor": "white",
            "ticks": ""
           },
           "bgcolor": "#E5ECF6",
           "caxis": {
            "gridcolor": "white",
            "linecolor": "white",
            "ticks": ""
           }
          },
          "title": {
           "x": 0.05
          },
          "xaxis": {
           "automargin": true,
           "gridcolor": "white",
           "linecolor": "white",
           "ticks": "",
           "title": {
            "standoff": 15
           },
           "zerolinecolor": "white",
           "zerolinewidth": 2
          },
          "yaxis": {
           "automargin": true,
           "gridcolor": "white",
           "linecolor": "white",
           "ticks": "",
           "title": {
            "standoff": 15
           },
           "zerolinecolor": "white",
           "zerolinewidth": 2
          }
         }
        },
        "xaxis": {
         "anchor": "y",
         "domain": [
          0,
          1
         ],
         "title": {
          "text": "Petrochemicals Emissions"
         }
        },
        "yaxis": {
         "anchor": "x",
         "domain": [
          0,
          1
         ],
         "title": {
          "text": "Air Pollution Deaths"
         }
        }
       }
      }
     },
     "metadata": {},
     "output_type": "display_data"
    },
    {
     "data": {
      "application/vnd.plotly.v1+json": {
       "config": {
        "plotlyServerURL": "https://plot.ly"
       },
       "data": [
        {
         "customdata": [
          [
           "AFG"
          ],
          [
           "AGO"
          ],
          [
           "ALB"
          ],
          [
           "ARE"
          ],
          [
           "ARG"
          ],
          [
           "ARM"
          ],
          [
           "ATG"
          ],
          [
           "AUS"
          ],
          [
           "AUT"
          ],
          [
           "AZE"
          ],
          [
           "BDI"
          ],
          [
           "BEL"
          ],
          [
           "BEN"
          ],
          [
           "BFA"
          ],
          [
           "BGD"
          ],
          [
           "BGR"
          ],
          [
           "BHR"
          ],
          [
           "BHS"
          ],
          [
           "BIH"
          ],
          [
           "BLR"
          ],
          [
           "BLZ"
          ],
          [
           "BOL"
          ],
          [
           "BRA"
          ],
          [
           "BRB"
          ],
          [
           "BRN"
          ],
          [
           "BTN"
          ],
          [
           "BWA"
          ],
          [
           "CAF"
          ],
          [
           "CAN"
          ],
          [
           "CHE"
          ],
          [
           "CHL"
          ],
          [
           "CIV"
          ],
          [
           "CMR"
          ],
          [
           "COD"
          ],
          [
           "COG"
          ],
          [
           "COL"
          ],
          [
           "COM"
          ],
          [
           "CPV"
          ],
          [
           "CRI"
          ],
          [
           "CUB"
          ],
          [
           "CYP"
          ],
          [
           "CZE"
          ],
          [
           "DEU"
          ],
          [
           "DJI"
          ],
          [
           "DNK"
          ],
          [
           "DOM"
          ],
          [
           "DZA"
          ],
          [
           "ECU"
          ],
          [
           "EGY"
          ],
          [
           "ERI"
          ],
          [
           "ESP"
          ],
          [
           "EST"
          ],
          [
           "ETH"
          ],
          [
           "FIN"
          ],
          [
           "FJI"
          ],
          [
           "FRA"
          ],
          [
           "GAB"
          ],
          [
           "GBR"
          ],
          [
           "GEO"
          ],
          [
           "GHA"
          ],
          [
           "GIN"
          ],
          [
           "GMB"
          ],
          [
           "GNB"
          ],
          [
           "GNQ"
          ],
          [
           "GRC"
          ],
          [
           "GRD"
          ],
          [
           "GTM"
          ],
          [
           "GUY"
          ],
          [
           "HND"
          ],
          [
           "HRV"
          ],
          [
           "HTI"
          ],
          [
           "HUN"
          ],
          [
           "IDN"
          ],
          [
           "IRL"
          ],
          [
           "IRN"
          ],
          [
           "IRQ"
          ],
          [
           "ISL"
          ],
          [
           "ISR"
          ],
          [
           "ITA"
          ],
          [
           "JAM"
          ],
          [
           "JOR"
          ],
          [
           "JPN"
          ],
          [
           "KAZ"
          ],
          [
           "KEN"
          ],
          [
           "KGZ"
          ],
          [
           "KHM"
          ],
          [
           "KIR"
          ],
          [
           "KOR"
          ],
          [
           "KWT"
          ],
          [
           "LAO"
          ],
          [
           "LBN"
          ],
          [
           "LBR"
          ],
          [
           "LCA"
          ],
          [
           "LKA"
          ],
          [
           "LSO"
          ],
          [
           "LTU"
          ],
          [
           "LUX"
          ],
          [
           "LVA"
          ],
          [
           "MAR"
          ],
          [
           "MDA"
          ],
          [
           "MDG"
          ],
          [
           "MDV"
          ],
          [
           "MEX"
          ],
          [
           "MKD"
          ],
          [
           "MLI"
          ],
          [
           "MLT"
          ],
          [
           "MMR"
          ],
          [
           "MNE"
          ],
          [
           "MNG"
          ],
          [
           "MOZ"
          ],
          [
           "MRT"
          ],
          [
           "MUS"
          ],
          [
           "MWI"
          ],
          [
           "MYS"
          ],
          [
           "NAM"
          ],
          [
           "NER"
          ],
          [
           "NGA"
          ],
          [
           "NIC"
          ],
          [
           "NLD"
          ],
          [
           "NOR"
          ],
          [
           "NPL"
          ],
          [
           "NZL"
          ],
          [
           "OMN"
          ],
          [
           "PAK"
          ],
          [
           "PAN"
          ],
          [
           "PER"
          ],
          [
           "PHL"
          ],
          [
           "PNG"
          ],
          [
           "POL"
          ],
          [
           "PRT"
          ],
          [
           "PRY"
          ],
          [
           "QAT"
          ],
          [
           "ROU"
          ],
          [
           "RUS"
          ],
          [
           "RWA"
          ],
          [
           "SAU"
          ],
          [
           "SDN"
          ],
          [
           "SEN"
          ],
          [
           "SGP"
          ],
          [
           "SLB"
          ],
          [
           "SLE"
          ],
          [
           "SLV"
          ],
          [
           "SRB"
          ],
          [
           "SSD"
          ],
          [
           "STP"
          ],
          [
           "SUR"
          ],
          [
           "SVK"
          ],
          [
           "SVN"
          ],
          [
           "SWE"
          ],
          [
           "SWZ"
          ],
          [
           "SYC"
          ],
          [
           "TCD"
          ],
          [
           "TGO"
          ],
          [
           "THA"
          ],
          [
           "TJK"
          ],
          [
           "TKM"
          ],
          [
           "TLS"
          ],
          [
           "TON"
          ],
          [
           "TTO"
          ],
          [
           "TUN"
          ],
          [
           "TUR"
          ],
          [
           "TZA"
          ],
          [
           "UGA"
          ],
          [
           "UKR"
          ],
          [
           "URY"
          ],
          [
           "USA"
          ],
          [
           "UZB"
          ],
          [
           "VCT"
          ],
          [
           "VNM"
          ],
          [
           "VUT"
          ],
          [
           "WSM"
          ],
          [
           "ZAF"
          ],
          [
           "ZMB"
          ],
          [
           "ZWE"
          ]
         ],
         "hovertemplate": "Electricity Generation Emissions=%{x}<br>Air Pollution Deaths=%{y}<br>Country Code=%{customdata[0]}<extra></extra>",
         "legendgroup": "",
         "marker": {
          "color": "#636efa",
          "symbol": "circle"
         },
         "mode": "markers",
         "name": "",
         "orientation": "v",
         "showlegend": false,
         "type": "scatter",
         "x": {
          "bdata": "AAAAAChvPUEAAADAZeaBQQAAAAAAAAAAAAAAcBwl0kEAAADEDZ/GQQAAAIBTq3dBAAAAAFyET0EAAACL/gniQQAAAIDVEp9BAAAAcNbcqEEAAAAAAPk1QQAAAMClZKdBAAAAACBlQUEAAACAcN9xQQAAAAj/esRBAAAAAOw9skEAAACYDyezQQAAAAATTHlBAAAAgHKvokEAAACg9DWnQQAAAABcVVJBAAAAgD38iEEAAADk+iLMQQAAAACmfmdBAAAAwI+1iEEAAAAAAAAAAAAAAMCWKIdBAAAAAAAAAAAAAADeAzrRQQAAAADkPolBAAAAyKQ5vUEAAADAhPWPQQAAAADVnXRBAAAAAL6YUkEAAAAARcdhQQAAAOBOpqtBAAAAANhMN0EAAAAAQgZSQQAAAABwdTpBAAAA4OyYokEAAAAALoyIQQAAADgHrsJBAAAAR+iV7EEAAAAA0IMlQQAAAICK+JpBAAAAcKuloUEAAACktR3AQQAAAMDRXZBBAAAAthQ91kEAAAAAjhFVQQAAAEBK18ZBAAAAwBSdlUEAAAAAAPkFQQAAAOCp7Z5BAAAAAO6EVEEAAADopTe8QQAAAICjnnBBAAAA7r5R0EEAAAAA39FyQQAAAKDADphBAAAAAG3qYUEAAAAAsAVNQQAAAACQqy5BAAAAAEYLWEEAAAAI1u+zQQAAAAD4L0RBAAAAoG8NkEEAAAAAs9hpQQAAAAB4UIlBAAAAgHMXg0EAAAAAo71nQQAAAGCJDJlBAAAAOddP6EEAAAAgOkqgQQAAAOcee+VBAAAAJJMAy0EAAAAAAAAAAAAAACgSiMBBAAAA5Cj+0kEAAACAFneAQQAAAPAUkKBBAACAJl1q+UEAAABY57PLQQAAAABAZW5BAAAAAFiRZkEAAAAgHwqRQQAAAACgDhVBAAAA+gxE7kEAAADcyaPAQQAAAEAVWqRBAAAAoEXSmkEAAAAATgpRQQAAAACA2FBBAAAA4Hl4nkEAAAAAAAAAAAAAAADCr2VBAAAAAMRJT0EAAAAAyXVrQQAAAGhWN7lBAAAAAFAJb0EAAAAAE4JwQQAAAADm/FxBAAAAYMNi4EEAAACA8liGQQAAAIBOCHpBAAAAAAobZ0EAAADApmejQQAAAICnPnJBAAAAYAJVm0EAAACAB3x6QQAAAABpSnBBAAAAgLw9fEEAAAAAWKNDQQAAAFjFJNhBAAAAACCULkEAAAAArJtSQQAAABDLtKVBAAAAgGcTdEEAAAAwmn/AQQAAAAD0fXVBAAAAAAAAAAAAAAAABL2RQQAAANCeGK5BAAAAWhb20UEAAACAggt/QQAAACAG7alBAAAAEOwR0EEAAAAAxmGEQQAAAA+hIeBBAAAAgBOko0EAAAAAAHAXQQAAACgB4bNBAAAAgAwxpUEAAIAVrCf+QQAAAABYo1NBAAAAkz+27EEAAABAC3mNQQAAAABij31BAAAAYFZxtEEAAAAAsDs0QQAAAAAA+RVBAAAAAD0/akEAAACwjLu2QQAAAABC0FpBAAAAAFBjMEEAAAAAYEhrQQAAAAD1bpRBAAAAAGT6iUEAAAAAEQV3QQAAAABYtTBBAAAAAEJZWUEAAAAAlOZLQQAAAABut1ZBAAAAVFrE1EEAAAAAfFVfQQAAAKByRbFBAAAAANBxWEEAAAAA8EIoQQAAAMDgEJJBAAAAoB8+oUEAAAA4YkjdQQAAAEBRwYZBAAAAAJBYN0EAAAC4PdnCQQAAAABTd2dBAADg/6mcFUIAAADMKUPCQQAAAACo1zZBAAAAXmlO10EAAAAAkGokQQAAAACAxjNBAAAAa0Vl50EAAAAALZt5QQAAAMDdT5JB",
          "dtype": "f8"
         },
         "xaxis": "x",
         "y": {
          "bdata": "AAAAAOCO5UC4HoXrUZnQQEfhehRuyLdAmpmZmRkfrECamZmZCRbhQMzMzMzMcbtAFK5H4XqURUCZmZmZ2YjAQAAAAABAesJAzczMzGxK1EB7FK5HIa66QJqZmZnZUcRA61G4HiWow0AUrkfhWhDOQAAAAADQzwJBMzMzM/Mf10BSuB6F6/GHQBSuR+F6NFZAzczMzMx5v0AzMzMzM+3ZQBSuR+F6lFpAH4XrUXhExkAAAAAAkK36QML1KFyPsm1AKVyPwvU4XEB7FK5H4aSFQChcj8L11pZA7FG4HkWXskDNzMzMzGXOQAAAAACA2LRAzczMzMz1xEC4HoXrcavVQOF6FK53mdhAMzMzM0PK70BxPQrXo3OmQGZmZmamZNlAzczMzMx2eEDiehSuR218QD4K16Nw6J9AAAAAAMAky0DrUbgehcOEQDMzMzOzOdJAAAAAABAW90C4HoXrUWyGQDQzMzMz/K5A61G4HsXItkAAAAAAQHrgQPYoXI8CLL1AAAAAAKisAEFcj8L1qDyoQGZmZmZm2txACtejcD3XkEDNzMzMjDfqQIXrUbie56JAhetRuB49fkAAAAAAYGXjQFyPwvUoNZJAAAAAAEAp50BmZmZmJrjEQArXo3BtR9hAmpmZmRnPyUA+CtejcHSZQFK4HoXrx5hA7FG4HoWBhkAAAAAAIH7QQAAAAAAAUFVA9ihcj+LkwkC4HoXrUd6FQLgehevRobdAmpmZmVkRwEApXI/CtbO+QGZmZmZmCNVAAAAAAIjoC0EUrkfh+rOhQGZmZmbeXPBAMzMzM1N93EApXI/C9TheQJqZmZmZwq9AAAAAAMAW8UD2KFyPwmWXQFK4HoXrJ61AAAAAANDP/kAAAAAA4CHZQArXo3AdW8lAZmZmZuYnvUAAAAAAgF3FQPYoXI/CRVFAAAAAAMBm40DsUbgehYmcQD0K16Nw+7NAMzMzMzNAvEDXo3A9CkunQMP1KFyPolhAmZmZmTkj0kBSuB6Fa2CnQML1KFwPWrlAAAAAAABkdECuR+F6VMqwQJqZmZmJfOJACtejcH3ru0BSuB6FC8rMQEjhehSu32NAmpmZmZHf8UA9CtejcJmxQOF6FK5HlMtAexSuR+FifkCamZmZOXnqQBSuR+F6Z5hA7FG4HgX0sUCuR+F6pBjRQB6F61G4a6ZAAAAAAADGjkCkcD0K15u4QM3MzMzsGN5AUrgehestkUDNzMzMjG7VQJqZmZkJoglB9ihcj8J3q0DNzMzMDNLGQB+F61G4YJ9AzczMzEw23UC4HoXrUcugQFyPwvWoY6xAAAAAANzJEUEzMzMzM5CZQAAAAABgt9BAmpmZmYm8/EApXI/C9dipQAAAAABANPNAzczMzEw2vECuR+F6FESlQFyPwvUotolAMzMzM2N85kAAAAAAmOULQUjhehTuq7lAMzMzM9O/4EBmZmZmJsHcQArXo3B90sJAMzMzMzODrEApXI/C9RB4QBWuR+E6mr5AzczMzAxWsUDNzMzM7DrSQBWuR+H6m7hAFK5H4XqsY0BmZmZmZiZ5QAAAAACAtrxA7FG4HgXHo0DNzMzMDKyyQB6F61G4iohASOF6FK4XVkDhehSu98/SQHA9CtfjA7pAAAAAAODL7EBI4XoU7sPKQFyPwvWo5blArkfhehRmikDrUbgehetCQDMzMzMz44ZAZmZmZibnykAAAAAAcN/wQBSuR+FKf9BAmpmZmelf0UAzMzMzu8n+QOF6FK7Hv6FAAAAAAGgzCUFmZmZmxhvoQPUoXI/ChVJAAAAAACDo+ED2KFyPwt1mQLgehetRiFVAMzMzM9MT5EDsUbgexYu7QAAAAAAATrtA",
          "dtype": "f8"
         },
         "yaxis": "y"
        }
       ],
       "layout": {
        "annotations": [
         {
          "font": {
           "color": "red",
           "size": 14
          },
          "showarrow": false,
          "text": "Correlation: 0.5587",
          "x": 23205675000,
          "y": 291447
         }
        ],
        "legend": {
         "tracegroupgap": 0
        },
        "margin": {
         "t": 60
        },
        "template": {
         "data": {
          "bar": [
           {
            "error_x": {
             "color": "#2a3f5f"
            },
            "error_y": {
             "color": "#2a3f5f"
            },
            "marker": {
             "line": {
              "color": "#E5ECF6",
              "width": 0.5
             },
             "pattern": {
              "fillmode": "overlay",
              "size": 10,
              "solidity": 0.2
             }
            },
            "type": "bar"
           }
          ],
          "barpolar": [
           {
            "marker": {
             "line": {
              "color": "#E5ECF6",
              "width": 0.5
             },
             "pattern": {
              "fillmode": "overlay",
              "size": 10,
              "solidity": 0.2
             }
            },
            "type": "barpolar"
           }
          ],
          "carpet": [
           {
            "aaxis": {
             "endlinecolor": "#2a3f5f",
             "gridcolor": "white",
             "linecolor": "white",
             "minorgridcolor": "white",
             "startlinecolor": "#2a3f5f"
            },
            "baxis": {
             "endlinecolor": "#2a3f5f",
             "gridcolor": "white",
             "linecolor": "white",
             "minorgridcolor": "white",
             "startlinecolor": "#2a3f5f"
            },
            "type": "carpet"
           }
          ],
          "choropleth": [
           {
            "colorbar": {
             "outlinewidth": 0,
             "ticks": ""
            },
            "type": "choropleth"
           }
          ],
          "contour": [
           {
            "colorbar": {
             "outlinewidth": 0,
             "ticks": ""
            },
            "colorscale": [
             [
              0,
              "#0d0887"
             ],
             [
              0.1111111111111111,
              "#46039f"
             ],
             [
              0.2222222222222222,
              "#7201a8"
             ],
             [
              0.3333333333333333,
              "#9c179e"
             ],
             [
              0.4444444444444444,
              "#bd3786"
             ],
             [
              0.5555555555555556,
              "#d8576b"
             ],
             [
              0.6666666666666666,
              "#ed7953"
             ],
             [
              0.7777777777777778,
              "#fb9f3a"
             ],
             [
              0.8888888888888888,
              "#fdca26"
             ],
             [
              1,
              "#f0f921"
             ]
            ],
            "type": "contour"
           }
          ],
          "contourcarpet": [
           {
            "colorbar": {
             "outlinewidth": 0,
             "ticks": ""
            },
            "type": "contourcarpet"
           }
          ],
          "heatmap": [
           {
            "colorbar": {
             "outlinewidth": 0,
             "ticks": ""
            },
            "colorscale": [
             [
              0,
              "#0d0887"
             ],
             [
              0.1111111111111111,
              "#46039f"
             ],
             [
              0.2222222222222222,
              "#7201a8"
             ],
             [
              0.3333333333333333,
              "#9c179e"
             ],
             [
              0.4444444444444444,
              "#bd3786"
             ],
             [
              0.5555555555555556,
              "#d8576b"
             ],
             [
              0.6666666666666666,
              "#ed7953"
             ],
             [
              0.7777777777777778,
              "#fb9f3a"
             ],
             [
              0.8888888888888888,
              "#fdca26"
             ],
             [
              1,
              "#f0f921"
             ]
            ],
            "type": "heatmap"
           }
          ],
          "histogram": [
           {
            "marker": {
             "pattern": {
              "fillmode": "overlay",
              "size": 10,
              "solidity": 0.2
             }
            },
            "type": "histogram"
           }
          ],
          "histogram2d": [
           {
            "colorbar": {
             "outlinewidth": 0,
             "ticks": ""
            },
            "colorscale": [
             [
              0,
              "#0d0887"
             ],
             [
              0.1111111111111111,
              "#46039f"
             ],
             [
              0.2222222222222222,
              "#7201a8"
             ],
             [
              0.3333333333333333,
              "#9c179e"
             ],
             [
              0.4444444444444444,
              "#bd3786"
             ],
             [
              0.5555555555555556,
              "#d8576b"
             ],
             [
              0.6666666666666666,
              "#ed7953"
             ],
             [
              0.7777777777777778,
              "#fb9f3a"
             ],
             [
              0.8888888888888888,
              "#fdca26"
             ],
             [
              1,
              "#f0f921"
             ]
            ],
            "type": "histogram2d"
           }
          ],
          "histogram2dcontour": [
           {
            "colorbar": {
             "outlinewidth": 0,
             "ticks": ""
            },
            "colorscale": [
             [
              0,
              "#0d0887"
             ],
             [
              0.1111111111111111,
              "#46039f"
             ],
             [
              0.2222222222222222,
              "#7201a8"
             ],
             [
              0.3333333333333333,
              "#9c179e"
             ],
             [
              0.4444444444444444,
              "#bd3786"
             ],
             [
              0.5555555555555556,
              "#d8576b"
             ],
             [
              0.6666666666666666,
              "#ed7953"
             ],
             [
              0.7777777777777778,
              "#fb9f3a"
             ],
             [
              0.8888888888888888,
              "#fdca26"
             ],
             [
              1,
              "#f0f921"
             ]
            ],
            "type": "histogram2dcontour"
           }
          ],
          "mesh3d": [
           {
            "colorbar": {
             "outlinewidth": 0,
             "ticks": ""
            },
            "type": "mesh3d"
           }
          ],
          "parcoords": [
           {
            "line": {
             "colorbar": {
              "outlinewidth": 0,
              "ticks": ""
             }
            },
            "type": "parcoords"
           }
          ],
          "pie": [
           {
            "automargin": true,
            "type": "pie"
           }
          ],
          "scatter": [
           {
            "fillpattern": {
             "fillmode": "overlay",
             "size": 10,
             "solidity": 0.2
            },
            "type": "scatter"
           }
          ],
          "scatter3d": [
           {
            "line": {
             "colorbar": {
              "outlinewidth": 0,
              "ticks": ""
             }
            },
            "marker": {
             "colorbar": {
              "outlinewidth": 0,
              "ticks": ""
             }
            },
            "type": "scatter3d"
           }
          ],
          "scattercarpet": [
           {
            "marker": {
             "colorbar": {
              "outlinewidth": 0,
              "ticks": ""
             }
            },
            "type": "scattercarpet"
           }
          ],
          "scattergeo": [
           {
            "marker": {
             "colorbar": {
              "outlinewidth": 0,
              "ticks": ""
             }
            },
            "type": "scattergeo"
           }
          ],
          "scattergl": [
           {
            "marker": {
             "colorbar": {
              "outlinewidth": 0,
              "ticks": ""
             }
            },
            "type": "scattergl"
           }
          ],
          "scattermap": [
           {
            "marker": {
             "colorbar": {
              "outlinewidth": 0,
              "ticks": ""
             }
            },
            "type": "scattermap"
           }
          ],
          "scattermapbox": [
           {
            "marker": {
             "colorbar": {
              "outlinewidth": 0,
              "ticks": ""
             }
            },
            "type": "scattermapbox"
           }
          ],
          "scatterpolar": [
           {
            "marker": {
             "colorbar": {
              "outlinewidth": 0,
              "ticks": ""
             }
            },
            "type": "scatterpolar"
           }
          ],
          "scatterpolargl": [
           {
            "marker": {
             "colorbar": {
              "outlinewidth": 0,
              "ticks": ""
             }
            },
            "type": "scatterpolargl"
           }
          ],
          "scatterternary": [
           {
            "marker": {
             "colorbar": {
              "outlinewidth": 0,
              "ticks": ""
             }
            },
            "type": "scatterternary"
           }
          ],
          "surface": [
           {
            "colorbar": {
             "outlinewidth": 0,
             "ticks": ""
            },
            "colorscale": [
             [
              0,
              "#0d0887"
             ],
             [
              0.1111111111111111,
              "#46039f"
             ],
             [
              0.2222222222222222,
              "#7201a8"
             ],
             [
              0.3333333333333333,
              "#9c179e"
             ],
             [
              0.4444444444444444,
              "#bd3786"
             ],
             [
              0.5555555555555556,
              "#d8576b"
             ],
             [
              0.6666666666666666,
              "#ed7953"
             ],
             [
              0.7777777777777778,
              "#fb9f3a"
             ],
             [
              0.8888888888888888,
              "#fdca26"
             ],
             [
              1,
              "#f0f921"
             ]
            ],
            "type": "surface"
           }
          ],
          "table": [
           {
            "cells": {
             "fill": {
              "color": "#EBF0F8"
             },
             "line": {
              "color": "white"
             }
            },
            "header": {
             "fill": {
              "color": "#C8D4E3"
             },
             "line": {
              "color": "white"
             }
            },
            "type": "table"
           }
          ]
         },
         "layout": {
          "annotationdefaults": {
           "arrowcolor": "#2a3f5f",
           "arrowhead": 0,
           "arrowwidth": 1
          },
          "autotypenumbers": "strict",
          "coloraxis": {
           "colorbar": {
            "outlinewidth": 0,
            "ticks": ""
           }
          },
          "colorscale": {
           "diverging": [
            [
             0,
             "#8e0152"
            ],
            [
             0.1,
             "#c51b7d"
            ],
            [
             0.2,
             "#de77ae"
            ],
            [
             0.3,
             "#f1b6da"
            ],
            [
             0.4,
             "#fde0ef"
            ],
            [
             0.5,
             "#f7f7f7"
            ],
            [
             0.6,
             "#e6f5d0"
            ],
            [
             0.7,
             "#b8e186"
            ],
            [
             0.8,
             "#7fbc41"
            ],
            [
             0.9,
             "#4d9221"
            ],
            [
             1,
             "#276419"
            ]
           ],
           "sequential": [
            [
             0,
             "#0d0887"
            ],
            [
             0.1111111111111111,
             "#46039f"
            ],
            [
             0.2222222222222222,
             "#7201a8"
            ],
            [
             0.3333333333333333,
             "#9c179e"
            ],
            [
             0.4444444444444444,
             "#bd3786"
            ],
            [
             0.5555555555555556,
             "#d8576b"
            ],
            [
             0.6666666666666666,
             "#ed7953"
            ],
            [
             0.7777777777777778,
             "#fb9f3a"
            ],
            [
             0.8888888888888888,
             "#fdca26"
            ],
            [
             1,
             "#f0f921"
            ]
           ],
           "sequentialminus": [
            [
             0,
             "#0d0887"
            ],
            [
             0.1111111111111111,
             "#46039f"
            ],
            [
             0.2222222222222222,
             "#7201a8"
            ],
            [
             0.3333333333333333,
             "#9c179e"
            ],
            [
             0.4444444444444444,
             "#bd3786"
            ],
            [
             0.5555555555555556,
             "#d8576b"
            ],
            [
             0.6666666666666666,
             "#ed7953"
            ],
            [
             0.7777777777777778,
             "#fb9f3a"
            ],
            [
             0.8888888888888888,
             "#fdca26"
            ],
            [
             1,
             "#f0f921"
            ]
           ]
          },
          "colorway": [
           "#636efa",
           "#EF553B",
           "#00cc96",
           "#ab63fa",
           "#FFA15A",
           "#19d3f3",
           "#FF6692",
           "#B6E880",
           "#FF97FF",
           "#FECB52"
          ],
          "font": {
           "color": "#2a3f5f"
          },
          "geo": {
           "bgcolor": "white",
           "lakecolor": "white",
           "landcolor": "#E5ECF6",
           "showlakes": true,
           "showland": true,
           "subunitcolor": "white"
          },
          "hoverlabel": {
           "align": "left"
          },
          "hovermode": "closest",
          "mapbox": {
           "style": "light"
          },
          "paper_bgcolor": "white",
          "plot_bgcolor": "#E5ECF6",
          "polar": {
           "angularaxis": {
            "gridcolor": "white",
            "linecolor": "white",
            "ticks": ""
           },
           "bgcolor": "#E5ECF6",
           "radialaxis": {
            "gridcolor": "white",
            "linecolor": "white",
            "ticks": ""
           }
          },
          "scene": {
           "xaxis": {
            "backgroundcolor": "#E5ECF6",
            "gridcolor": "white",
            "gridwidth": 2,
            "linecolor": "white",
            "showbackground": true,
            "ticks": "",
            "zerolinecolor": "white"
           },
           "yaxis": {
            "backgroundcolor": "#E5ECF6",
            "gridcolor": "white",
            "gridwidth": 2,
            "linecolor": "white",
            "showbackground": true,
            "ticks": "",
            "zerolinecolor": "white"
           },
           "zaxis": {
            "backgroundcolor": "#E5ECF6",
            "gridcolor": "white",
            "gridwidth": 2,
            "linecolor": "white",
            "showbackground": true,
            "ticks": "",
            "zerolinecolor": "white"
           }
          },
          "shapedefaults": {
           "line": {
            "color": "#2a3f5f"
           }
          },
          "ternary": {
           "aaxis": {
            "gridcolor": "white",
            "linecolor": "white",
            "ticks": ""
           },
           "baxis": {
            "gridcolor": "white",
            "linecolor": "white",
            "ticks": ""
           },
           "bgcolor": "#E5ECF6",
           "caxis": {
            "gridcolor": "white",
            "linecolor": "white",
            "ticks": ""
           }
          },
          "title": {
           "x": 0.05
          },
          "xaxis": {
           "automargin": true,
           "gridcolor": "white",
           "linecolor": "white",
           "ticks": "",
           "title": {
            "standoff": 15
           },
           "zerolinecolor": "white",
           "zerolinewidth": 2
          },
          "yaxis": {
           "automargin": true,
           "gridcolor": "white",
           "linecolor": "white",
           "ticks": "",
           "title": {
            "standoff": 15
           },
           "zerolinecolor": "white",
           "zerolinewidth": 2
          }
         }
        },
        "xaxis": {
         "anchor": "y",
         "domain": [
          0,
          1
         ],
         "title": {
          "text": "Electricity Generation Emissions"
         }
        },
        "yaxis": {
         "anchor": "x",
         "domain": [
          0,
          1
         ],
         "title": {
          "text": "Air Pollution Deaths"
         }
        }
       }
      }
     },
     "metadata": {},
     "output_type": "display_data"
    },
    {
     "data": {
      "application/vnd.plotly.v1+json": {
       "config": {
        "plotlyServerURL": "https://plot.ly"
       },
       "data": [
        {
         "customdata": [
          [
           "AFG"
          ],
          [
           "AGO"
          ],
          [
           "ALB"
          ],
          [
           "ARE"
          ],
          [
           "ARG"
          ],
          [
           "ARM"
          ],
          [
           "ATG"
          ],
          [
           "AUS"
          ],
          [
           "AUT"
          ],
          [
           "AZE"
          ],
          [
           "BDI"
          ],
          [
           "BEL"
          ],
          [
           "BEN"
          ],
          [
           "BFA"
          ],
          [
           "BGD"
          ],
          [
           "BGR"
          ],
          [
           "BHR"
          ],
          [
           "BHS"
          ],
          [
           "BIH"
          ],
          [
           "BLR"
          ],
          [
           "BLZ"
          ],
          [
           "BOL"
          ],
          [
           "BRA"
          ],
          [
           "BRB"
          ],
          [
           "BRN"
          ],
          [
           "BTN"
          ],
          [
           "BWA"
          ],
          [
           "CAF"
          ],
          [
           "CAN"
          ],
          [
           "CHE"
          ],
          [
           "CHL"
          ],
          [
           "CIV"
          ],
          [
           "CMR"
          ],
          [
           "COD"
          ],
          [
           "COG"
          ],
          [
           "COL"
          ],
          [
           "COM"
          ],
          [
           "CPV"
          ],
          [
           "CRI"
          ],
          [
           "CUB"
          ],
          [
           "CYP"
          ],
          [
           "CZE"
          ],
          [
           "DEU"
          ],
          [
           "DJI"
          ],
          [
           "DNK"
          ],
          [
           "DOM"
          ],
          [
           "DZA"
          ],
          [
           "ECU"
          ],
          [
           "EGY"
          ],
          [
           "ERI"
          ],
          [
           "ESP"
          ],
          [
           "EST"
          ],
          [
           "ETH"
          ],
          [
           "FIN"
          ],
          [
           "FJI"
          ],
          [
           "FRA"
          ],
          [
           "GAB"
          ],
          [
           "GBR"
          ],
          [
           "GEO"
          ],
          [
           "GHA"
          ],
          [
           "GIN"
          ],
          [
           "GMB"
          ],
          [
           "GNB"
          ],
          [
           "GNQ"
          ],
          [
           "GRC"
          ],
          [
           "GRD"
          ],
          [
           "GTM"
          ],
          [
           "GUY"
          ],
          [
           "HND"
          ],
          [
           "HRV"
          ],
          [
           "HTI"
          ],
          [
           "HUN"
          ],
          [
           "IDN"
          ],
          [
           "IRL"
          ],
          [
           "IRN"
          ],
          [
           "IRQ"
          ],
          [
           "ISL"
          ],
          [
           "ISR"
          ],
          [
           "ITA"
          ],
          [
           "JAM"
          ],
          [
           "JOR"
          ],
          [
           "JPN"
          ],
          [
           "KAZ"
          ],
          [
           "KEN"
          ],
          [
           "KGZ"
          ],
          [
           "KHM"
          ],
          [
           "KIR"
          ],
          [
           "KOR"
          ],
          [
           "KWT"
          ],
          [
           "LAO"
          ],
          [
           "LBN"
          ],
          [
           "LBR"
          ],
          [
           "LCA"
          ],
          [
           "LKA"
          ],
          [
           "LSO"
          ],
          [
           "LTU"
          ],
          [
           "LUX"
          ],
          [
           "LVA"
          ],
          [
           "MAR"
          ],
          [
           "MDA"
          ],
          [
           "MDG"
          ],
          [
           "MDV"
          ],
          [
           "MEX"
          ],
          [
           "MKD"
          ],
          [
           "MLI"
          ],
          [
           "MLT"
          ],
          [
           "MMR"
          ],
          [
           "MNE"
          ],
          [
           "MNG"
          ],
          [
           "MOZ"
          ],
          [
           "MRT"
          ],
          [
           "MUS"
          ],
          [
           "MWI"
          ],
          [
           "MYS"
          ],
          [
           "NAM"
          ],
          [
           "NER"
          ],
          [
           "NGA"
          ],
          [
           "NIC"
          ],
          [
           "NLD"
          ],
          [
           "NOR"
          ],
          [
           "NPL"
          ],
          [
           "NZL"
          ],
          [
           "OMN"
          ],
          [
           "PAK"
          ],
          [
           "PAN"
          ],
          [
           "PER"
          ],
          [
           "PHL"
          ],
          [
           "PNG"
          ],
          [
           "POL"
          ],
          [
           "PRT"
          ],
          [
           "PRY"
          ],
          [
           "QAT"
          ],
          [
           "ROU"
          ],
          [
           "RUS"
          ],
          [
           "RWA"
          ],
          [
           "SAU"
          ],
          [
           "SDN"
          ],
          [
           "SEN"
          ],
          [
           "SGP"
          ],
          [
           "SLB"
          ],
          [
           "SLE"
          ],
          [
           "SLV"
          ],
          [
           "SRB"
          ],
          [
           "SSD"
          ],
          [
           "STP"
          ],
          [
           "SUR"
          ],
          [
           "SVK"
          ],
          [
           "SVN"
          ],
          [
           "SWE"
          ],
          [
           "SWZ"
          ],
          [
           "SYC"
          ],
          [
           "TCD"
          ],
          [
           "TGO"
          ],
          [
           "THA"
          ],
          [
           "TJK"
          ],
          [
           "TKM"
          ],
          [
           "TLS"
          ],
          [
           "TON"
          ],
          [
           "TTO"
          ],
          [
           "TUN"
          ],
          [
           "TUR"
          ],
          [
           "TZA"
          ],
          [
           "UGA"
          ],
          [
           "UKR"
          ],
          [
           "URY"
          ],
          [
           "USA"
          ],
          [
           "UZB"
          ],
          [
           "VCT"
          ],
          [
           "VNM"
          ],
          [
           "VUT"
          ],
          [
           "WSM"
          ],
          [
           "ZAF"
          ],
          [
           "ZMB"
          ],
          [
           "ZWE"
          ]
         ],
         "hovertemplate": "Incineration & Open Burning Emissions=%{x}<br>Air Pollution Deaths=%{y}<br>Country Code=%{customdata[0]}<extra></extra>",
         "legendgroup": "",
         "marker": {
          "color": "#636efa",
          "symbol": "circle"
         },
         "mode": "markers",
         "name": "",
         "orientation": "v",
         "showlegend": false,
         "type": "scatter",
         "x": {
          "bdata": "YimSD86ZIkEC9WZk1qEeQQdCskBVYAlBJqd2ztOlOEHL2qYSKxNBQXi4HWLPUzNBIOwUq1hGwUAixmtVMOdTQWafx8gwgkZBIy4A/TD5J0E3NGV3IYkSQfKU1aPOi2FBg8R29wsK4EDo+6nx0q1EQIbrUbg+8e9AIy1VbxgrfkHEWnzKCnoJQTvI64FoJvRAy/J1yZ86EUEHflR60iFXQQAAAAAAXptA16axDURjEkEps8FBKF1zQSoeF9XS5ttApbxWQo1OAUFWDcLcTrqJQHlZE4v+Te9AnOEGPCsk8kBtGtsjjRJUQcBAEPqybEJB+fTYTi9hL0GSyaltreA+QexMofPgPNNAoMVS2MVRNEFQQp/+3B75QEuuYgOISEZBW0HTEqstyUC5wrtclFS/QN6x2EbRlApBjCsujuEhJEG3XP14VH0KQe2akI6AXFNBDVSGXkaDikGPGaiMKbjQQEz9vAOJAkxBC32wLC6QEEEx6loLulEtQdv9KoA55wpBc77YR/ENNkHXbrvQsKr2QK6B7a6qJ41BKhvWcDXiZkFb7WFTKXU2QTZ2iWYh1VhBvOmWHZsj4EARNvwX0/uKQfa2mQqKvPdAcNOfqMfmbEEa3UEc99IRQQFO71JVBiBB53KDYTCrCUG0y7e+gWziQLkZbsCAMuBAqDRiZhI81UCBYI5+HNc1QRg/jXvLEahAMPfJUeC74UBu+N103SLQQJ7NqotvgjlBdF5j5wUNGkFEG4BN47wGQVNcVYL4jjdBaR1VfPxFdEEfn5BtT9U+QTmbjk40NEVBwOldvE1f7ED3PH9aMVP8QCamC7lOHTdBPyIm++7WfEFypglbIELrQJ2gTQ5MB/1Ao3UU+YdhkkEJbqQ8N+kWQcu76qHAsANBZmbmTLDSe0HedTaMsAImQVHaG3wpoqBALVwW0zBDfUGTHLArtfrhQNI1k/9QYCZBj6BCj6bDC0FUVz4LUl70QFggelLuh75AAAAAAMBm9kCMM4Y5BejdQIFB0s+mVCFB2QxwIaFWJkGGHcaka5kQQeF6FK6r8yNBgxQ8FYSoEUHsUbgebVv5QMuFyp/jAgJBRDS6eg0fcUEXgbHe6OwuQTMzM1su7S9BpkdTvdhf9kAdc54Ft3Y9QQAAAAAAAAAAezApTmW3JkHGTnipiFAbQW2oGCcpM/NAv2ckQh5z6UDOcAN+W90LQRLactLPgWZBttlYiUNZ5UAAAAAAyBozQRLg9JbR80tBfhti/GXd+0Dsh1gCyRBmQb5oj5axS1NBY0UN9odQGkHuk6MUCE00QZCEfUv3thNB/Ul8qmTOQEGDwMqhBVK7QMri/hvf6TNBVpqUDqHqY0FjtmTVVtoFQX9NVouR4mhBbD8Z6X1KREEkQ46N7TkRQcecZ2zSQg5Bh6sD7I29PUF07+Gm0extQSC5NWk9VgNBrMd9S1mAP0Ej+N8yPDorQfYoXI82nAZBKzI66j5zRUEeqinJ0tvBQEc82Y29e/9ASrclMrUVDUEAAAAAAAAAAAAAAAAAAAAA3pBGBd6tsEBQj20Z/CbAQKqX37HV/i5BexSux2V3GUFt4uQ8mlxhQafOo+I/8M5ApaMczDbAp0DAmC3ZkVUGQWZrfZFNqdJAdpFCFw9PUUFvtySXCt8bQfpISgq2RhpBm8QgsCv920AYsU8AJVeYQMtKk8K3FxFBAAAAAPC3FEFXeBcRqf6NQXsUrkfhqmBArtNIV8XgMEElk1Mv2kE2QXHkgcj0wghB3GiAdpPnkkHF5XjFWdUIQerLd5X6u3BA910RCupOS0ErvwzGSPmvQMMOY9KndKZAw9jCOHJmdEEAAAAAABIGQYI5ejxx/QtB",
          "dtype": "f8"
         },
         "xaxis": "x",
         "y": {
          "bdata": "AAAAAOCO5UC4HoXrUZnQQEfhehRuyLdAmpmZmRkfrECamZmZCRbhQMzMzMzMcbtAFK5H4XqURUCZmZmZ2YjAQAAAAABAesJAzczMzGxK1EB7FK5HIa66QJqZmZnZUcRA61G4HiWow0AUrkfhWhDOQAAAAADQzwJBMzMzM/Mf10BSuB6F6/GHQBSuR+F6NFZAzczMzMx5v0AzMzMzM+3ZQBSuR+F6lFpAH4XrUXhExkAAAAAAkK36QML1KFyPsm1AKVyPwvU4XEB7FK5H4aSFQChcj8L11pZA7FG4HkWXskDNzMzMzGXOQAAAAACA2LRAzczMzMz1xEC4HoXrcavVQOF6FK53mdhAMzMzM0PK70BxPQrXo3OmQGZmZmamZNlAzczMzMx2eEDiehSuR218QD4K16Nw6J9AAAAAAMAky0DrUbgehcOEQDMzMzOzOdJAAAAAABAW90C4HoXrUWyGQDQzMzMz/K5A61G4HsXItkAAAAAAQHrgQPYoXI8CLL1AAAAAAKisAEFcj8L1qDyoQGZmZmZm2txACtejcD3XkEDNzMzMjDfqQIXrUbie56JAhetRuB49fkAAAAAAYGXjQFyPwvUoNZJAAAAAAEAp50BmZmZmJrjEQArXo3BtR9hAmpmZmRnPyUA+CtejcHSZQFK4HoXrx5hA7FG4HoWBhkAAAAAAIH7QQAAAAAAAUFVA9ihcj+LkwkC4HoXrUd6FQLgehevRobdAmpmZmVkRwEApXI/CtbO+QGZmZmZmCNVAAAAAAIjoC0EUrkfh+rOhQGZmZmbeXPBAMzMzM1N93EApXI/C9TheQJqZmZmZwq9AAAAAAMAW8UD2KFyPwmWXQFK4HoXrJ61AAAAAANDP/kAAAAAA4CHZQArXo3AdW8lAZmZmZuYnvUAAAAAAgF3FQPYoXI/CRVFAAAAAAMBm40DsUbgehYmcQD0K16Nw+7NAMzMzMzNAvEDXo3A9CkunQMP1KFyPolhAmZmZmTkj0kBSuB6Fa2CnQML1KFwPWrlAAAAAAABkdECuR+F6VMqwQJqZmZmJfOJACtejcH3ru0BSuB6FC8rMQEjhehSu32NAmpmZmZHf8UA9CtejcJmxQOF6FK5HlMtAexSuR+FifkCamZmZOXnqQBSuR+F6Z5hA7FG4HgX0sUCuR+F6pBjRQB6F61G4a6ZAAAAAAADGjkCkcD0K15u4QM3MzMzsGN5AUrgehestkUDNzMzMjG7VQJqZmZkJoglB9ihcj8J3q0DNzMzMDNLGQB+F61G4YJ9AzczMzEw23UC4HoXrUcugQFyPwvWoY6xAAAAAANzJEUEzMzMzM5CZQAAAAABgt9BAmpmZmYm8/EApXI/C9dipQAAAAABANPNAzczMzEw2vECuR+F6FESlQFyPwvUotolAMzMzM2N85kAAAAAAmOULQUjhehTuq7lAMzMzM9O/4EBmZmZmJsHcQArXo3B90sJAMzMzMzODrEApXI/C9RB4QBWuR+E6mr5AzczMzAxWsUDNzMzM7DrSQBWuR+H6m7hAFK5H4XqsY0BmZmZmZiZ5QAAAAACAtrxA7FG4HgXHo0DNzMzMDKyyQB6F61G4iohASOF6FK4XVkDhehSu98/SQHA9CtfjA7pAAAAAAODL7EBI4XoU7sPKQFyPwvWo5blArkfhehRmikDrUbgehetCQDMzMzMz44ZAZmZmZibnykAAAAAAcN/wQBSuR+FKf9BAmpmZmelf0UAzMzMzu8n+QOF6FK7Hv6FAAAAAAGgzCUFmZmZmxhvoQPUoXI/ChVJAAAAAACDo+ED2KFyPwt1mQLgehetRiFVAMzMzM9MT5EDsUbgexYu7QAAAAAAATrtA",
          "dtype": "f8"
         },
         "yaxis": "y"
        }
       ],
       "layout": {
        "annotations": [
         {
          "font": {
           "color": "red",
           "size": 14
          },
          "showarrow": false,
          "text": "Correlation: 0.4288",
          "x": 79291613.6254,
          "y": 291447
         }
        ],
        "legend": {
         "tracegroupgap": 0
        },
        "margin": {
         "t": 60
        },
        "template": {
         "data": {
          "bar": [
           {
            "error_x": {
             "color": "#2a3f5f"
            },
            "error_y": {
             "color": "#2a3f5f"
            },
            "marker": {
             "line": {
              "color": "#E5ECF6",
              "width": 0.5
             },
             "pattern": {
              "fillmode": "overlay",
              "size": 10,
              "solidity": 0.2
             }
            },
            "type": "bar"
           }
          ],
          "barpolar": [
           {
            "marker": {
             "line": {
              "color": "#E5ECF6",
              "width": 0.5
             },
             "pattern": {
              "fillmode": "overlay",
              "size": 10,
              "solidity": 0.2
             }
            },
            "type": "barpolar"
           }
          ],
          "carpet": [
           {
            "aaxis": {
             "endlinecolor": "#2a3f5f",
             "gridcolor": "white",
             "linecolor": "white",
             "minorgridcolor": "white",
             "startlinecolor": "#2a3f5f"
            },
            "baxis": {
             "endlinecolor": "#2a3f5f",
             "gridcolor": "white",
             "linecolor": "white",
             "minorgridcolor": "white",
             "startlinecolor": "#2a3f5f"
            },
            "type": "carpet"
           }
          ],
          "choropleth": [
           {
            "colorbar": {
             "outlinewidth": 0,
             "ticks": ""
            },
            "type": "choropleth"
           }
          ],
          "contour": [
           {
            "colorbar": {
             "outlinewidth": 0,
             "ticks": ""
            },
            "colorscale": [
             [
              0,
              "#0d0887"
             ],
             [
              0.1111111111111111,
              "#46039f"
             ],
             [
              0.2222222222222222,
              "#7201a8"
             ],
             [
              0.3333333333333333,
              "#9c179e"
             ],
             [
              0.4444444444444444,
              "#bd3786"
             ],
             [
              0.5555555555555556,
              "#d8576b"
             ],
             [
              0.6666666666666666,
              "#ed7953"
             ],
             [
              0.7777777777777778,
              "#fb9f3a"
             ],
             [
              0.8888888888888888,
              "#fdca26"
             ],
             [
              1,
              "#f0f921"
             ]
            ],
            "type": "contour"
           }
          ],
          "contourcarpet": [
           {
            "colorbar": {
             "outlinewidth": 0,
             "ticks": ""
            },
            "type": "contourcarpet"
           }
          ],
          "heatmap": [
           {
            "colorbar": {
             "outlinewidth": 0,
             "ticks": ""
            },
            "colorscale": [
             [
              0,
              "#0d0887"
             ],
             [
              0.1111111111111111,
              "#46039f"
             ],
             [
              0.2222222222222222,
              "#7201a8"
             ],
             [
              0.3333333333333333,
              "#9c179e"
             ],
             [
              0.4444444444444444,
              "#bd3786"
             ],
             [
              0.5555555555555556,
              "#d8576b"
             ],
             [
              0.6666666666666666,
              "#ed7953"
             ],
             [
              0.7777777777777778,
              "#fb9f3a"
             ],
             [
              0.8888888888888888,
              "#fdca26"
             ],
             [
              1,
              "#f0f921"
             ]
            ],
            "type": "heatmap"
           }
          ],
          "histogram": [
           {
            "marker": {
             "pattern": {
              "fillmode": "overlay",
              "size": 10,
              "solidity": 0.2
             }
            },
            "type": "histogram"
           }
          ],
          "histogram2d": [
           {
            "colorbar": {
             "outlinewidth": 0,
             "ticks": ""
            },
            "colorscale": [
             [
              0,
              "#0d0887"
             ],
             [
              0.1111111111111111,
              "#46039f"
             ],
             [
              0.2222222222222222,
              "#7201a8"
             ],
             [
              0.3333333333333333,
              "#9c179e"
             ],
             [
              0.4444444444444444,
              "#bd3786"
             ],
             [
              0.5555555555555556,
              "#d8576b"
             ],
             [
              0.6666666666666666,
              "#ed7953"
             ],
             [
              0.7777777777777778,
              "#fb9f3a"
             ],
             [
              0.8888888888888888,
              "#fdca26"
             ],
             [
              1,
              "#f0f921"
             ]
            ],
            "type": "histogram2d"
           }
          ],
          "histogram2dcontour": [
           {
            "colorbar": {
             "outlinewidth": 0,
             "ticks": ""
            },
            "colorscale": [
             [
              0,
              "#0d0887"
             ],
             [
              0.1111111111111111,
              "#46039f"
             ],
             [
              0.2222222222222222,
              "#7201a8"
             ],
             [
              0.3333333333333333,
              "#9c179e"
             ],
             [
              0.4444444444444444,
              "#bd3786"
             ],
             [
              0.5555555555555556,
              "#d8576b"
             ],
             [
              0.6666666666666666,
              "#ed7953"
             ],
             [
              0.7777777777777778,
              "#fb9f3a"
             ],
             [
              0.8888888888888888,
              "#fdca26"
             ],
             [
              1,
              "#f0f921"
             ]
            ],
            "type": "histogram2dcontour"
           }
          ],
          "mesh3d": [
           {
            "colorbar": {
             "outlinewidth": 0,
             "ticks": ""
            },
            "type": "mesh3d"
           }
          ],
          "parcoords": [
           {
            "line": {
             "colorbar": {
              "outlinewidth": 0,
              "ticks": ""
             }
            },
            "type": "parcoords"
           }
          ],
          "pie": [
           {
            "automargin": true,
            "type": "pie"
           }
          ],
          "scatter": [
           {
            "fillpattern": {
             "fillmode": "overlay",
             "size": 10,
             "solidity": 0.2
            },
            "type": "scatter"
           }
          ],
          "scatter3d": [
           {
            "line": {
             "colorbar": {
              "outlinewidth": 0,
              "ticks": ""
             }
            },
            "marker": {
             "colorbar": {
              "outlinewidth": 0,
              "ticks": ""
             }
            },
            "type": "scatter3d"
           }
          ],
          "scattercarpet": [
           {
            "marker": {
             "colorbar": {
              "outlinewidth": 0,
              "ticks": ""
             }
            },
            "type": "scattercarpet"
           }
          ],
          "scattergeo": [
           {
            "marker": {
             "colorbar": {
              "outlinewidth": 0,
              "ticks": ""
             }
            },
            "type": "scattergeo"
           }
          ],
          "scattergl": [
           {
            "marker": {
             "colorbar": {
              "outlinewidth": 0,
              "ticks": ""
             }
            },
            "type": "scattergl"
           }
          ],
          "scattermap": [
           {
            "marker": {
             "colorbar": {
              "outlinewidth": 0,
              "ticks": ""
             }
            },
            "type": "scattermap"
           }
          ],
          "scattermapbox": [
           {
            "marker": {
             "colorbar": {
              "outlinewidth": 0,
              "ticks": ""
             }
            },
            "type": "scattermapbox"
           }
          ],
          "scatterpolar": [
           {
            "marker": {
             "colorbar": {
              "outlinewidth": 0,
              "ticks": ""
             }
            },
            "type": "scatterpolar"
           }
          ],
          "scatterpolargl": [
           {
            "marker": {
             "colorbar": {
              "outlinewidth": 0,
              "ticks": ""
             }
            },
            "type": "scatterpolargl"
           }
          ],
          "scatterternary": [
           {
            "marker": {
             "colorbar": {
              "outlinewidth": 0,
              "ticks": ""
             }
            },
            "type": "scatterternary"
           }
          ],
          "surface": [
           {
            "colorbar": {
             "outlinewidth": 0,
             "ticks": ""
            },
            "colorscale": [
             [
              0,
              "#0d0887"
             ],
             [
              0.1111111111111111,
              "#46039f"
             ],
             [
              0.2222222222222222,
              "#7201a8"
             ],
             [
              0.3333333333333333,
              "#9c179e"
             ],
             [
              0.4444444444444444,
              "#bd3786"
             ],
             [
              0.5555555555555556,
              "#d8576b"
             ],
             [
              0.6666666666666666,
              "#ed7953"
             ],
             [
              0.7777777777777778,
              "#fb9f3a"
             ],
             [
              0.8888888888888888,
              "#fdca26"
             ],
             [
              1,
              "#f0f921"
             ]
            ],
            "type": "surface"
           }
          ],
          "table": [
           {
            "cells": {
             "fill": {
              "color": "#EBF0F8"
             },
             "line": {
              "color": "white"
             }
            },
            "header": {
             "fill": {
              "color": "#C8D4E3"
             },
             "line": {
              "color": "white"
             }
            },
            "type": "table"
           }
          ]
         },
         "layout": {
          "annotationdefaults": {
           "arrowcolor": "#2a3f5f",
           "arrowhead": 0,
           "arrowwidth": 1
          },
          "autotypenumbers": "strict",
          "coloraxis": {
           "colorbar": {
            "outlinewidth": 0,
            "ticks": ""
           }
          },
          "colorscale": {
           "diverging": [
            [
             0,
             "#8e0152"
            ],
            [
             0.1,
             "#c51b7d"
            ],
            [
             0.2,
             "#de77ae"
            ],
            [
             0.3,
             "#f1b6da"
            ],
            [
             0.4,
             "#fde0ef"
            ],
            [
             0.5,
             "#f7f7f7"
            ],
            [
             0.6,
             "#e6f5d0"
            ],
            [
             0.7,
             "#b8e186"
            ],
            [
             0.8,
             "#7fbc41"
            ],
            [
             0.9,
             "#4d9221"
            ],
            [
             1,
             "#276419"
            ]
           ],
           "sequential": [
            [
             0,
             "#0d0887"
            ],
            [
             0.1111111111111111,
             "#46039f"
            ],
            [
             0.2222222222222222,
             "#7201a8"
            ],
            [
             0.3333333333333333,
             "#9c179e"
            ],
            [
             0.4444444444444444,
             "#bd3786"
            ],
            [
             0.5555555555555556,
             "#d8576b"
            ],
            [
             0.6666666666666666,
             "#ed7953"
            ],
            [
             0.7777777777777778,
             "#fb9f3a"
            ],
            [
             0.8888888888888888,
             "#fdca26"
            ],
            [
             1,
             "#f0f921"
            ]
           ],
           "sequentialminus": [
            [
             0,
             "#0d0887"
            ],
            [
             0.1111111111111111,
             "#46039f"
            ],
            [
             0.2222222222222222,
             "#7201a8"
            ],
            [
             0.3333333333333333,
             "#9c179e"
            ],
            [
             0.4444444444444444,
             "#bd3786"
            ],
            [
             0.5555555555555556,
             "#d8576b"
            ],
            [
             0.6666666666666666,
             "#ed7953"
            ],
            [
             0.7777777777777778,
             "#fb9f3a"
            ],
            [
             0.8888888888888888,
             "#fdca26"
            ],
            [
             1,
             "#f0f921"
            ]
           ]
          },
          "colorway": [
           "#636efa",
           "#EF553B",
           "#00cc96",
           "#ab63fa",
           "#FFA15A",
           "#19d3f3",
           "#FF6692",
           "#B6E880",
           "#FF97FF",
           "#FECB52"
          ],
          "font": {
           "color": "#2a3f5f"
          },
          "geo": {
           "bgcolor": "white",
           "lakecolor": "white",
           "landcolor": "#E5ECF6",
           "showlakes": true,
           "showland": true,
           "subunitcolor": "white"
          },
          "hoverlabel": {
           "align": "left"
          },
          "hovermode": "closest",
          "mapbox": {
           "style": "light"
          },
          "paper_bgcolor": "white",
          "plot_bgcolor": "#E5ECF6",
          "polar": {
           "angularaxis": {
            "gridcolor": "white",
            "linecolor": "white",
            "ticks": ""
           },
           "bgcolor": "#E5ECF6",
           "radialaxis": {
            "gridcolor": "white",
            "linecolor": "white",
            "ticks": ""
           }
          },
          "scene": {
           "xaxis": {
            "backgroundcolor": "#E5ECF6",
            "gridcolor": "white",
            "gridwidth": 2,
            "linecolor": "white",
            "showbackground": true,
            "ticks": "",
            "zerolinecolor": "white"
           },
           "yaxis": {
            "backgroundcolor": "#E5ECF6",
            "gridcolor": "white",
            "gridwidth": 2,
            "linecolor": "white",
            "showbackground": true,
            "ticks": "",
            "zerolinecolor": "white"
           },
           "zaxis": {
            "backgroundcolor": "#E5ECF6",
            "gridcolor": "white",
            "gridwidth": 2,
            "linecolor": "white",
            "showbackground": true,
            "ticks": "",
            "zerolinecolor": "white"
           }
          },
          "shapedefaults": {
           "line": {
            "color": "#2a3f5f"
           }
          },
          "ternary": {
           "aaxis": {
            "gridcolor": "white",
            "linecolor": "white",
            "ticks": ""
           },
           "baxis": {
            "gridcolor": "white",
            "linecolor": "white",
            "ticks": ""
           },
           "bgcolor": "#E5ECF6",
           "caxis": {
            "gridcolor": "white",
            "linecolor": "white",
            "ticks": ""
           }
          },
          "title": {
           "x": 0.05
          },
          "xaxis": {
           "automargin": true,
           "gridcolor": "white",
           "linecolor": "white",
           "ticks": "",
           "title": {
            "standoff": 15
           },
           "zerolinecolor": "white",
           "zerolinewidth": 2
          },
          "yaxis": {
           "automargin": true,
           "gridcolor": "white",
           "linecolor": "white",
           "ticks": "",
           "title": {
            "standoff": 15
           },
           "zerolinecolor": "white",
           "zerolinewidth": 2
          }
         }
        },
        "xaxis": {
         "anchor": "y",
         "domain": [
          0,
          1
         ],
         "title": {
          "text": "Incineration & Open Burning Emissions"
         }
        },
        "yaxis": {
         "anchor": "x",
         "domain": [
          0,
          1
         ],
         "title": {
          "text": "Air Pollution Deaths"
         }
        }
       }
      }
     },
     "metadata": {},
     "output_type": "display_data"
    },
    {
     "data": {
      "application/vnd.plotly.v1+json": {
       "config": {
        "plotlyServerURL": "https://plot.ly"
       },
       "data": [
        {
         "customdata": [
          [
           "AFG"
          ],
          [
           "AGO"
          ],
          [
           "ALB"
          ],
          [
           "ARE"
          ],
          [
           "ARG"
          ],
          [
           "ARM"
          ],
          [
           "ATG"
          ],
          [
           "AUS"
          ],
          [
           "AUT"
          ],
          [
           "AZE"
          ],
          [
           "BDI"
          ],
          [
           "BEL"
          ],
          [
           "BEN"
          ],
          [
           "BFA"
          ],
          [
           "BGD"
          ],
          [
           "BGR"
          ],
          [
           "BHR"
          ],
          [
           "BHS"
          ],
          [
           "BIH"
          ],
          [
           "BLR"
          ],
          [
           "BLZ"
          ],
          [
           "BOL"
          ],
          [
           "BRA"
          ],
          [
           "BRB"
          ],
          [
           "BRN"
          ],
          [
           "BTN"
          ],
          [
           "BWA"
          ],
          [
           "CAF"
          ],
          [
           "CAN"
          ],
          [
           "CHE"
          ],
          [
           "CHL"
          ],
          [
           "CIV"
          ],
          [
           "CMR"
          ],
          [
           "COD"
          ],
          [
           "COG"
          ],
          [
           "COL"
          ],
          [
           "COM"
          ],
          [
           "CPV"
          ],
          [
           "CRI"
          ],
          [
           "CUB"
          ],
          [
           "CYP"
          ],
          [
           "CZE"
          ],
          [
           "DEU"
          ],
          [
           "DJI"
          ],
          [
           "DNK"
          ],
          [
           "DOM"
          ],
          [
           "DZA"
          ],
          [
           "ECU"
          ],
          [
           "EGY"
          ],
          [
           "ERI"
          ],
          [
           "ESP"
          ],
          [
           "EST"
          ],
          [
           "ETH"
          ],
          [
           "FIN"
          ],
          [
           "FJI"
          ],
          [
           "FRA"
          ],
          [
           "GAB"
          ],
          [
           "GBR"
          ],
          [
           "GEO"
          ],
          [
           "GHA"
          ],
          [
           "GIN"
          ],
          [
           "GMB"
          ],
          [
           "GNB"
          ],
          [
           "GNQ"
          ],
          [
           "GRC"
          ],
          [
           "GRD"
          ],
          [
           "GTM"
          ],
          [
           "GUY"
          ],
          [
           "HND"
          ],
          [
           "HRV"
          ],
          [
           "HTI"
          ],
          [
           "HUN"
          ],
          [
           "IDN"
          ],
          [
           "IRL"
          ],
          [
           "IRN"
          ],
          [
           "IRQ"
          ],
          [
           "ISL"
          ],
          [
           "ISR"
          ],
          [
           "ITA"
          ],
          [
           "JAM"
          ],
          [
           "JOR"
          ],
          [
           "JPN"
          ],
          [
           "KAZ"
          ],
          [
           "KEN"
          ],
          [
           "KGZ"
          ],
          [
           "KHM"
          ],
          [
           "KIR"
          ],
          [
           "KOR"
          ],
          [
           "KWT"
          ],
          [
           "LAO"
          ],
          [
           "LBN"
          ],
          [
           "LBR"
          ],
          [
           "LCA"
          ],
          [
           "LKA"
          ],
          [
           "LSO"
          ],
          [
           "LTU"
          ],
          [
           "LUX"
          ],
          [
           "LVA"
          ],
          [
           "MAR"
          ],
          [
           "MDA"
          ],
          [
           "MDG"
          ],
          [
           "MDV"
          ],
          [
           "MEX"
          ],
          [
           "MKD"
          ],
          [
           "MLI"
          ],
          [
           "MLT"
          ],
          [
           "MMR"
          ],
          [
           "MNE"
          ],
          [
           "MNG"
          ],
          [
           "MOZ"
          ],
          [
           "MRT"
          ],
          [
           "MUS"
          ],
          [
           "MWI"
          ],
          [
           "MYS"
          ],
          [
           "NAM"
          ],
          [
           "NER"
          ],
          [
           "NGA"
          ],
          [
           "NIC"
          ],
          [
           "NLD"
          ],
          [
           "NOR"
          ],
          [
           "NPL"
          ],
          [
           "NZL"
          ],
          [
           "OMN"
          ],
          [
           "PAK"
          ],
          [
           "PAN"
          ],
          [
           "PER"
          ],
          [
           "PHL"
          ],
          [
           "PNG"
          ],
          [
           "POL"
          ],
          [
           "PRT"
          ],
          [
           "PRY"
          ],
          [
           "QAT"
          ],
          [
           "ROU"
          ],
          [
           "RUS"
          ],
          [
           "RWA"
          ],
          [
           "SAU"
          ],
          [
           "SDN"
          ],
          [
           "SEN"
          ],
          [
           "SGP"
          ],
          [
           "SLB"
          ],
          [
           "SLE"
          ],
          [
           "SLV"
          ],
          [
           "SRB"
          ],
          [
           "SSD"
          ],
          [
           "STP"
          ],
          [
           "SUR"
          ],
          [
           "SVK"
          ],
          [
           "SVN"
          ],
          [
           "SWE"
          ],
          [
           "SWZ"
          ],
          [
           "SYC"
          ],
          [
           "TCD"
          ],
          [
           "TGO"
          ],
          [
           "THA"
          ],
          [
           "TJK"
          ],
          [
           "TKM"
          ],
          [
           "TLS"
          ],
          [
           "TON"
          ],
          [
           "TTO"
          ],
          [
           "TUN"
          ],
          [
           "TUR"
          ],
          [
           "TZA"
          ],
          [
           "UGA"
          ],
          [
           "UKR"
          ],
          [
           "URY"
          ],
          [
           "USA"
          ],
          [
           "UZB"
          ],
          [
           "VCT"
          ],
          [
           "VNM"
          ],
          [
           "VUT"
          ],
          [
           "WSM"
          ],
          [
           "ZAF"
          ],
          [
           "ZMB"
          ],
          [
           "ZWE"
          ]
         ],
         "hovertemplate": "Health Expenditure=%{x}<br>Air Pollution Deaths=%{y}<br>Country Code=%{customdata[0]}<extra></extra>",
         "legendgroup": "",
         "marker": {
          "color": "#636efa",
          "symbol": "circle"
         },
         "mode": "markers",
         "name": "",
         "orientation": "v",
         "showlegend": false,
         "type": "scatter",
         "x": {
          "bdata": "KFuskJm8ckBGT1s8dMpmQDBQebFUBoxAsNIJ8Sx1p0AiWaNVo8KiQAAAAAAALJVATothpbAhkUAdQ4ABgtO0QAAAAAAAEbdAAAAAAAAQgUATaYVqLaZLQP4tFabYV7ZAZBe/nn5xVkB094LFE0haQHzc2UTyYV5AAAAAAABEmkAmnh8RZyigQJeXD4+Bn6BAAAAAAABElEAAAAAAAFSQQA4rlXy1uXpAgOBMucXjgUDuQZ4PDyOWQH29ixrjfJBAxhJ4NLgGl0BMf9ZtTcV2QPEe+s6B6oxA8vauwJatWED6TlN5UFC1QJh5HbDj2b1Ah5YzjwptokA7w9/b/MFjQDKGS6yoSmFAV33LcbqQQUDESolMaGRSQNGzG/hzEJJAtq6gRnF/ZEADx+tx9bZ1QFbQQA85EphABZk57SJoo0AAAAAAANalQGBbZj/MDqhA5J073HLJuEAnLl2sTnxbQAAAAAAAubZA37ZXPg4Vh0AyWZ2D3vaHQPP24fqEEY1AobRsdxI7gUCibq54PDBSQHps1mtTtKxApPdR0BwTo0A8nQQF0ntRQAAAAAAAhbFAsddNUsh8gUD4P1t8Mmq0QMbqUm4kCnlAnVZlRhj+sUAAAAAAAAiQQEof5t18+GhAwjm62BqnV0BjLV+v+DlRQIvicOBe02FAGM2oaW82gEC/L7QOU8aiQCV/oed+l4ZAVz64Gb8NgECSw7PJkWuDQF8RobxTuXlAAAAAAABcnkCvCQGBp6lhQAAAAAAAZqBAgouASzbqdEDxpKUVSai1QLktLQUlNpJAxwHNK6hgekAAAAAAALWyQAAAAAAA3qdAAAAAAAAqrUCsbjM4CmeDQF7OPNcbaoVAAAAAAADCsUAAAAAAALiGQA6SJaRdbGdAAAAAAADAcECT8pLDdF9wQAAAAAAA4HBAGRC87JolqUCbPbG7Q1CkQAppPEwGsmVAmYeFikg0l0DALEqJGDpjQAc0QBTF7YRAAAAAAAAYgEBOkfimf0dyQAAAAAAAgqJAAAAAAABEuEAAAAAAAMCdQK4xDzhE7HlAAAAAAADYiUAoY9VOJNtQQAAAAAAAjJdA+QxWwG8zkUAAAAAAAKSQQC0yVAui4VRAAAAAAAAQr0AAAAAAAKBsQAAAAAAApJtA+uGaYIh8gUCepVfpJsVaQOgoHVBU1WVAto1NeItKlEAseCc/LwNaQKMrcaXqI5BAXeprk3NRi0DMHqrnrzJQQAggfGgpImRAR2NTpV6ofkAAAAAAALO2QAAAAAAAa7tAAAAAAACAZUAzqsI/LGauQKDnWtNbmJFAnYbC0MGCYkBcyzfEaZ2jQG8cTf7sW4VAAAAAAAAwdUA4J3rgc8JWQAAAAAAAmJ9AAAAAAACqqUDqkqVpJeONQGniABsuq6VAAAAAAABsmUAAAAAAAFCYQGVB/69wlGFAyCA8DJJNpEBuVj55pLZpQP7ko+jAG2NANP+TAicUr0DdLKJc3W9ZQB17Ac5qFWFAR64T+4t3h0BHjkKOTI6XQJHcfGUO/EtA4UC1Okrha0D1CmzDfrqTQAAAAAAAWqBAAAAAAABKqUAAAAAAAAC3QM2TpAU0r4FAltFWnThWlUB1OTJn7PNRQImed1qzf19AW0RilAXghUAAAAAAAKBuQEIOmTYhKY9AOl07og4JaUCL7xPZ9FhzQPhx7fyFr5pARY0vUYT8hEAAAAAAAOiRQLYMSae+9VlAr571Rre3V0AAAAAAADiMQDf7MljVt6BAAlSSaEMUxEAAAAAAAGB3QFXQiODyK4NAapfsSUP/fkACGmYDw9tZQNwam5UowXJAhQer5WQakkC1krZjRepkQCKbyxgFxVtA",
          "dtype": "f8"
         },
         "xaxis": "x",
         "y": {
          "bdata": "AAAAAOCO5UC4HoXrUZnQQEfhehRuyLdAmpmZmRkfrECamZmZCRbhQMzMzMzMcbtAFK5H4XqURUCZmZmZ2YjAQAAAAABAesJAzczMzGxK1EB7FK5HIa66QJqZmZnZUcRA61G4HiWow0AUrkfhWhDOQAAAAADQzwJBMzMzM/Mf10BSuB6F6/GHQBSuR+F6NFZAzczMzMx5v0AzMzMzM+3ZQBSuR+F6lFpAH4XrUXhExkAAAAAAkK36QML1KFyPsm1AKVyPwvU4XEB7FK5H4aSFQChcj8L11pZA7FG4HkWXskDNzMzMzGXOQAAAAACA2LRAzczMzMz1xEC4HoXrcavVQOF6FK53mdhAMzMzM0PK70BxPQrXo3OmQGZmZmamZNlAzczMzMx2eEDiehSuR218QD4K16Nw6J9AAAAAAMAky0DrUbgehcOEQDMzMzOzOdJAAAAAABAW90C4HoXrUWyGQDQzMzMz/K5A61G4HsXItkAAAAAAQHrgQPYoXI8CLL1AAAAAAKisAEFcj8L1qDyoQGZmZmZm2txACtejcD3XkEDNzMzMjDfqQIXrUbie56JAhetRuB49fkAAAAAAYGXjQFyPwvUoNZJAAAAAAEAp50BmZmZmJrjEQArXo3BtR9hAmpmZmRnPyUA+CtejcHSZQFK4HoXrx5hA7FG4HoWBhkAAAAAAIH7QQAAAAAAAUFVA9ihcj+LkwkC4HoXrUd6FQLgehevRobdAmpmZmVkRwEApXI/CtbO+QGZmZmZmCNVAAAAAAIjoC0EUrkfh+rOhQGZmZmbeXPBAMzMzM1N93EApXI/C9TheQJqZmZmZwq9AAAAAAMAW8UD2KFyPwmWXQFK4HoXrJ61AAAAAANDP/kAAAAAA4CHZQArXo3AdW8lAZmZmZuYnvUAAAAAAgF3FQPYoXI/CRVFAAAAAAMBm40DsUbgehYmcQD0K16Nw+7NAMzMzMzNAvEDXo3A9CkunQMP1KFyPolhAmZmZmTkj0kBSuB6Fa2CnQML1KFwPWrlAAAAAAABkdECuR+F6VMqwQJqZmZmJfOJACtejcH3ru0BSuB6FC8rMQEjhehSu32NAmpmZmZHf8UA9CtejcJmxQOF6FK5HlMtAexSuR+FifkCamZmZOXnqQBSuR+F6Z5hA7FG4HgX0sUCuR+F6pBjRQB6F61G4a6ZAAAAAAADGjkCkcD0K15u4QM3MzMzsGN5AUrgehestkUDNzMzMjG7VQJqZmZkJoglB9ihcj8J3q0DNzMzMDNLGQB+F61G4YJ9AzczMzEw23UC4HoXrUcugQFyPwvWoY6xAAAAAANzJEUEzMzMzM5CZQAAAAABgt9BAmpmZmYm8/EApXI/C9dipQAAAAABANPNAzczMzEw2vECuR+F6FESlQFyPwvUotolAMzMzM2N85kAAAAAAmOULQUjhehTuq7lAMzMzM9O/4EBmZmZmJsHcQArXo3B90sJAMzMzMzODrEApXI/C9RB4QBWuR+E6mr5AzczMzAxWsUDNzMzM7DrSQBWuR+H6m7hAFK5H4XqsY0BmZmZmZiZ5QAAAAACAtrxA7FG4HgXHo0DNzMzMDKyyQB6F61G4iohASOF6FK4XVkDhehSu98/SQHA9CtfjA7pAAAAAAODL7EBI4XoU7sPKQFyPwvWo5blArkfhehRmikDrUbgehetCQDMzMzMz44ZAZmZmZibnykAAAAAAcN/wQBSuR+FKf9BAmpmZmelf0UAzMzMzu8n+QOF6FK7Hv6FAAAAAAGgzCUFmZmZmxhvoQPUoXI/ChVJAAAAAACDo+ED2KFyPwt1mQLgehetRiFVAMzMzM9MT5EDsUbgexYu7QAAAAAAATrtA",
          "dtype": "f8"
         },
         "yaxis": "y"
        }
       ],
       "layout": {
        "annotations": [
         {
          "font": {
           "color": "red",
           "size": 14
          },
          "showarrow": false,
          "text": "Correlation: 0.0584",
          "x": 10280.5266287718,
          "y": 291447
         }
        ],
        "legend": {
         "tracegroupgap": 0
        },
        "margin": {
         "t": 60
        },
        "template": {
         "data": {
          "bar": [
           {
            "error_x": {
             "color": "#2a3f5f"
            },
            "error_y": {
             "color": "#2a3f5f"
            },
            "marker": {
             "line": {
              "color": "#E5ECF6",
              "width": 0.5
             },
             "pattern": {
              "fillmode": "overlay",
              "size": 10,
              "solidity": 0.2
             }
            },
            "type": "bar"
           }
          ],
          "barpolar": [
           {
            "marker": {
             "line": {
              "color": "#E5ECF6",
              "width": 0.5
             },
             "pattern": {
              "fillmode": "overlay",
              "size": 10,
              "solidity": 0.2
             }
            },
            "type": "barpolar"
           }
          ],
          "carpet": [
           {
            "aaxis": {
             "endlinecolor": "#2a3f5f",
             "gridcolor": "white",
             "linecolor": "white",
             "minorgridcolor": "white",
             "startlinecolor": "#2a3f5f"
            },
            "baxis": {
             "endlinecolor": "#2a3f5f",
             "gridcolor": "white",
             "linecolor": "white",
             "minorgridcolor": "white",
             "startlinecolor": "#2a3f5f"
            },
            "type": "carpet"
           }
          ],
          "choropleth": [
           {
            "colorbar": {
             "outlinewidth": 0,
             "ticks": ""
            },
            "type": "choropleth"
           }
          ],
          "contour": [
           {
            "colorbar": {
             "outlinewidth": 0,
             "ticks": ""
            },
            "colorscale": [
             [
              0,
              "#0d0887"
             ],
             [
              0.1111111111111111,
              "#46039f"
             ],
             [
              0.2222222222222222,
              "#7201a8"
             ],
             [
              0.3333333333333333,
              "#9c179e"
             ],
             [
              0.4444444444444444,
              "#bd3786"
             ],
             [
              0.5555555555555556,
              "#d8576b"
             ],
             [
              0.6666666666666666,
              "#ed7953"
             ],
             [
              0.7777777777777778,
              "#fb9f3a"
             ],
             [
              0.8888888888888888,
              "#fdca26"
             ],
             [
              1,
              "#f0f921"
             ]
            ],
            "type": "contour"
           }
          ],
          "contourcarpet": [
           {
            "colorbar": {
             "outlinewidth": 0,
             "ticks": ""
            },
            "type": "contourcarpet"
           }
          ],
          "heatmap": [
           {
            "colorbar": {
             "outlinewidth": 0,
             "ticks": ""
            },
            "colorscale": [
             [
              0,
              "#0d0887"
             ],
             [
              0.1111111111111111,
              "#46039f"
             ],
             [
              0.2222222222222222,
              "#7201a8"
             ],
             [
              0.3333333333333333,
              "#9c179e"
             ],
             [
              0.4444444444444444,
              "#bd3786"
             ],
             [
              0.5555555555555556,
              "#d8576b"
             ],
             [
              0.6666666666666666,
              "#ed7953"
             ],
             [
              0.7777777777777778,
              "#fb9f3a"
             ],
             [
              0.8888888888888888,
              "#fdca26"
             ],
             [
              1,
              "#f0f921"
             ]
            ],
            "type": "heatmap"
           }
          ],
          "histogram": [
           {
            "marker": {
             "pattern": {
              "fillmode": "overlay",
              "size": 10,
              "solidity": 0.2
             }
            },
            "type": "histogram"
           }
          ],
          "histogram2d": [
           {
            "colorbar": {
             "outlinewidth": 0,
             "ticks": ""
            },
            "colorscale": [
             [
              0,
              "#0d0887"
             ],
             [
              0.1111111111111111,
              "#46039f"
             ],
             [
              0.2222222222222222,
              "#7201a8"
             ],
             [
              0.3333333333333333,
              "#9c179e"
             ],
             [
              0.4444444444444444,
              "#bd3786"
             ],
             [
              0.5555555555555556,
              "#d8576b"
             ],
             [
              0.6666666666666666,
              "#ed7953"
             ],
             [
              0.7777777777777778,
              "#fb9f3a"
             ],
             [
              0.8888888888888888,
              "#fdca26"
             ],
             [
              1,
              "#f0f921"
             ]
            ],
            "type": "histogram2d"
           }
          ],
          "histogram2dcontour": [
           {
            "colorbar": {
             "outlinewidth": 0,
             "ticks": ""
            },
            "colorscale": [
             [
              0,
              "#0d0887"
             ],
             [
              0.1111111111111111,
              "#46039f"
             ],
             [
              0.2222222222222222,
              "#7201a8"
             ],
             [
              0.3333333333333333,
              "#9c179e"
             ],
             [
              0.4444444444444444,
              "#bd3786"
             ],
             [
              0.5555555555555556,
              "#d8576b"
             ],
             [
              0.6666666666666666,
              "#ed7953"
             ],
             [
              0.7777777777777778,
              "#fb9f3a"
             ],
             [
              0.8888888888888888,
              "#fdca26"
             ],
             [
              1,
              "#f0f921"
             ]
            ],
            "type": "histogram2dcontour"
           }
          ],
          "mesh3d": [
           {
            "colorbar": {
             "outlinewidth": 0,
             "ticks": ""
            },
            "type": "mesh3d"
           }
          ],
          "parcoords": [
           {
            "line": {
             "colorbar": {
              "outlinewidth": 0,
              "ticks": ""
             }
            },
            "type": "parcoords"
           }
          ],
          "pie": [
           {
            "automargin": true,
            "type": "pie"
           }
          ],
          "scatter": [
           {
            "fillpattern": {
             "fillmode": "overlay",
             "size": 10,
             "solidity": 0.2
            },
            "type": "scatter"
           }
          ],
          "scatter3d": [
           {
            "line": {
             "colorbar": {
              "outlinewidth": 0,
              "ticks": ""
             }
            },
            "marker": {
             "colorbar": {
              "outlinewidth": 0,
              "ticks": ""
             }
            },
            "type": "scatter3d"
           }
          ],
          "scattercarpet": [
           {
            "marker": {
             "colorbar": {
              "outlinewidth": 0,
              "ticks": ""
             }
            },
            "type": "scattercarpet"
           }
          ],
          "scattergeo": [
           {
            "marker": {
             "colorbar": {
              "outlinewidth": 0,
              "ticks": ""
             }
            },
            "type": "scattergeo"
           }
          ],
          "scattergl": [
           {
            "marker": {
             "colorbar": {
              "outlinewidth": 0,
              "ticks": ""
             }
            },
            "type": "scattergl"
           }
          ],
          "scattermap": [
           {
            "marker": {
             "colorbar": {
              "outlinewidth": 0,
              "ticks": ""
             }
            },
            "type": "scattermap"
           }
          ],
          "scattermapbox": [
           {
            "marker": {
             "colorbar": {
              "outlinewidth": 0,
              "ticks": ""
             }
            },
            "type": "scattermapbox"
           }
          ],
          "scatterpolar": [
           {
            "marker": {
             "colorbar": {
              "outlinewidth": 0,
              "ticks": ""
             }
            },
            "type": "scatterpolar"
           }
          ],
          "scatterpolargl": [
           {
            "marker": {
             "colorbar": {
              "outlinewidth": 0,
              "ticks": ""
             }
            },
            "type": "scatterpolargl"
           }
          ],
          "scatterternary": [
           {
            "marker": {
             "colorbar": {
              "outlinewidth": 0,
              "ticks": ""
             }
            },
            "type": "scatterternary"
           }
          ],
          "surface": [
           {
            "colorbar": {
             "outlinewidth": 0,
             "ticks": ""
            },
            "colorscale": [
             [
              0,
              "#0d0887"
             ],
             [
              0.1111111111111111,
              "#46039f"
             ],
             [
              0.2222222222222222,
              "#7201a8"
             ],
             [
              0.3333333333333333,
              "#9c179e"
             ],
             [
              0.4444444444444444,
              "#bd3786"
             ],
             [
              0.5555555555555556,
              "#d8576b"
             ],
             [
              0.6666666666666666,
              "#ed7953"
             ],
             [
              0.7777777777777778,
              "#fb9f3a"
             ],
             [
              0.8888888888888888,
              "#fdca26"
             ],
             [
              1,
              "#f0f921"
             ]
            ],
            "type": "surface"
           }
          ],
          "table": [
           {
            "cells": {
             "fill": {
              "color": "#EBF0F8"
             },
             "line": {
              "color": "white"
             }
            },
            "header": {
             "fill": {
              "color": "#C8D4E3"
             },
             "line": {
              "color": "white"
             }
            },
            "type": "table"
           }
          ]
         },
         "layout": {
          "annotationdefaults": {
           "arrowcolor": "#2a3f5f",
           "arrowhead": 0,
           "arrowwidth": 1
          },
          "autotypenumbers": "strict",
          "coloraxis": {
           "colorbar": {
            "outlinewidth": 0,
            "ticks": ""
           }
          },
          "colorscale": {
           "diverging": [
            [
             0,
             "#8e0152"
            ],
            [
             0.1,
             "#c51b7d"
            ],
            [
             0.2,
             "#de77ae"
            ],
            [
             0.3,
             "#f1b6da"
            ],
            [
             0.4,
             "#fde0ef"
            ],
            [
             0.5,
             "#f7f7f7"
            ],
            [
             0.6,
             "#e6f5d0"
            ],
            [
             0.7,
             "#b8e186"
            ],
            [
             0.8,
             "#7fbc41"
            ],
            [
             0.9,
             "#4d9221"
            ],
            [
             1,
             "#276419"
            ]
           ],
           "sequential": [
            [
             0,
             "#0d0887"
            ],
            [
             0.1111111111111111,
             "#46039f"
            ],
            [
             0.2222222222222222,
             "#7201a8"
            ],
            [
             0.3333333333333333,
             "#9c179e"
            ],
            [
             0.4444444444444444,
             "#bd3786"
            ],
            [
             0.5555555555555556,
             "#d8576b"
            ],
            [
             0.6666666666666666,
             "#ed7953"
            ],
            [
             0.7777777777777778,
             "#fb9f3a"
            ],
            [
             0.8888888888888888,
             "#fdca26"
            ],
            [
             1,
             "#f0f921"
            ]
           ],
           "sequentialminus": [
            [
             0,
             "#0d0887"
            ],
            [
             0.1111111111111111,
             "#46039f"
            ],
            [
             0.2222222222222222,
             "#7201a8"
            ],
            [
             0.3333333333333333,
             "#9c179e"
            ],
            [
             0.4444444444444444,
             "#bd3786"
            ],
            [
             0.5555555555555556,
             "#d8576b"
            ],
            [
             0.6666666666666666,
             "#ed7953"
            ],
            [
             0.7777777777777778,
             "#fb9f3a"
            ],
            [
             0.8888888888888888,
             "#fdca26"
            ],
            [
             1,
             "#f0f921"
            ]
           ]
          },
          "colorway": [
           "#636efa",
           "#EF553B",
           "#00cc96",
           "#ab63fa",
           "#FFA15A",
           "#19d3f3",
           "#FF6692",
           "#B6E880",
           "#FF97FF",
           "#FECB52"
          ],
          "font": {
           "color": "#2a3f5f"
          },
          "geo": {
           "bgcolor": "white",
           "lakecolor": "white",
           "landcolor": "#E5ECF6",
           "showlakes": true,
           "showland": true,
           "subunitcolor": "white"
          },
          "hoverlabel": {
           "align": "left"
          },
          "hovermode": "closest",
          "mapbox": {
           "style": "light"
          },
          "paper_bgcolor": "white",
          "plot_bgcolor": "#E5ECF6",
          "polar": {
           "angularaxis": {
            "gridcolor": "white",
            "linecolor": "white",
            "ticks": ""
           },
           "bgcolor": "#E5ECF6",
           "radialaxis": {
            "gridcolor": "white",
            "linecolor": "white",
            "ticks": ""
           }
          },
          "scene": {
           "xaxis": {
            "backgroundcolor": "#E5ECF6",
            "gridcolor": "white",
            "gridwidth": 2,
            "linecolor": "white",
            "showbackground": true,
            "ticks": "",
            "zerolinecolor": "white"
           },
           "yaxis": {
            "backgroundcolor": "#E5ECF6",
            "gridcolor": "white",
            "gridwidth": 2,
            "linecolor": "white",
            "showbackground": true,
            "ticks": "",
            "zerolinecolor": "white"
           },
           "zaxis": {
            "backgroundcolor": "#E5ECF6",
            "gridcolor": "white",
            "gridwidth": 2,
            "linecolor": "white",
            "showbackground": true,
            "ticks": "",
            "zerolinecolor": "white"
           }
          },
          "shapedefaults": {
           "line": {
            "color": "#2a3f5f"
           }
          },
          "ternary": {
           "aaxis": {
            "gridcolor": "white",
            "linecolor": "white",
            "ticks": ""
           },
           "baxis": {
            "gridcolor": "white",
            "linecolor": "white",
            "ticks": ""
           },
           "bgcolor": "#E5ECF6",
           "caxis": {
            "gridcolor": "white",
            "linecolor": "white",
            "ticks": ""
           }
          },
          "title": {
           "x": 0.05
          },
          "xaxis": {
           "automargin": true,
           "gridcolor": "white",
           "linecolor": "white",
           "ticks": "",
           "title": {
            "standoff": 15
           },
           "zerolinecolor": "white",
           "zerolinewidth": 2
          },
          "yaxis": {
           "automargin": true,
           "gridcolor": "white",
           "linecolor": "white",
           "ticks": "",
           "title": {
            "standoff": 15
           },
           "zerolinecolor": "white",
           "zerolinewidth": 2
          }
         }
        },
        "xaxis": {
         "anchor": "y",
         "domain": [
          0,
          1
         ],
         "title": {
          "text": "Health Expenditure"
         }
        },
        "yaxis": {
         "anchor": "x",
         "domain": [
          0,
          1
         ],
         "title": {
          "text": "Air Pollution Deaths"
         }
        }
       }
      }
     },
     "metadata": {},
     "output_type": "display_data"
    },
    {
     "data": {
      "application/vnd.plotly.v1+json": {
       "config": {
        "plotlyServerURL": "https://plot.ly"
       },
       "data": [
        {
         "customdata": [
          [
           "AFG"
          ],
          [
           "AGO"
          ],
          [
           "ALB"
          ],
          [
           "ARE"
          ],
          [
           "ARG"
          ],
          [
           "ARM"
          ],
          [
           "ATG"
          ],
          [
           "AUS"
          ],
          [
           "AUT"
          ],
          [
           "AZE"
          ],
          [
           "BDI"
          ],
          [
           "BEL"
          ],
          [
           "BEN"
          ],
          [
           "BFA"
          ],
          [
           "BGD"
          ],
          [
           "BGR"
          ],
          [
           "BHR"
          ],
          [
           "BHS"
          ],
          [
           "BIH"
          ],
          [
           "BLR"
          ],
          [
           "BLZ"
          ],
          [
           "BOL"
          ],
          [
           "BRA"
          ],
          [
           "BRB"
          ],
          [
           "BRN"
          ],
          [
           "BTN"
          ],
          [
           "BWA"
          ],
          [
           "CAF"
          ],
          [
           "CAN"
          ],
          [
           "CHE"
          ],
          [
           "CHL"
          ],
          [
           "CIV"
          ],
          [
           "CMR"
          ],
          [
           "COD"
          ],
          [
           "COG"
          ],
          [
           "COL"
          ],
          [
           "COM"
          ],
          [
           "CPV"
          ],
          [
           "CRI"
          ],
          [
           "CUB"
          ],
          [
           "CYP"
          ],
          [
           "CZE"
          ],
          [
           "DEU"
          ],
          [
           "DJI"
          ],
          [
           "DNK"
          ],
          [
           "DOM"
          ],
          [
           "DZA"
          ],
          [
           "ECU"
          ],
          [
           "EGY"
          ],
          [
           "ERI"
          ],
          [
           "ESP"
          ],
          [
           "EST"
          ],
          [
           "ETH"
          ],
          [
           "FIN"
          ],
          [
           "FJI"
          ],
          [
           "FRA"
          ],
          [
           "GAB"
          ],
          [
           "GBR"
          ],
          [
           "GEO"
          ],
          [
           "GHA"
          ],
          [
           "GIN"
          ],
          [
           "GMB"
          ],
          [
           "GNB"
          ],
          [
           "GNQ"
          ],
          [
           "GRC"
          ],
          [
           "GRD"
          ],
          [
           "GTM"
          ],
          [
           "GUY"
          ],
          [
           "HND"
          ],
          [
           "HRV"
          ],
          [
           "HTI"
          ],
          [
           "HUN"
          ],
          [
           "IDN"
          ],
          [
           "IRL"
          ],
          [
           "IRN"
          ],
          [
           "IRQ"
          ],
          [
           "ISL"
          ],
          [
           "ISR"
          ],
          [
           "ITA"
          ],
          [
           "JAM"
          ],
          [
           "JOR"
          ],
          [
           "JPN"
          ],
          [
           "KAZ"
          ],
          [
           "KEN"
          ],
          [
           "KGZ"
          ],
          [
           "KHM"
          ],
          [
           "KIR"
          ],
          [
           "KOR"
          ],
          [
           "KWT"
          ],
          [
           "LAO"
          ],
          [
           "LBN"
          ],
          [
           "LBR"
          ],
          [
           "LCA"
          ],
          [
           "LKA"
          ],
          [
           "LSO"
          ],
          [
           "LTU"
          ],
          [
           "LUX"
          ],
          [
           "LVA"
          ],
          [
           "MAR"
          ],
          [
           "MDA"
          ],
          [
           "MDG"
          ],
          [
           "MDV"
          ],
          [
           "MEX"
          ],
          [
           "MKD"
          ],
          [
           "MLI"
          ],
          [
           "MLT"
          ],
          [
           "MMR"
          ],
          [
           "MNE"
          ],
          [
           "MNG"
          ],
          [
           "MOZ"
          ],
          [
           "MRT"
          ],
          [
           "MUS"
          ],
          [
           "MWI"
          ],
          [
           "MYS"
          ],
          [
           "NAM"
          ],
          [
           "NER"
          ],
          [
           "NGA"
          ],
          [
           "NIC"
          ],
          [
           "NLD"
          ],
          [
           "NOR"
          ],
          [
           "NPL"
          ],
          [
           "NZL"
          ],
          [
           "OMN"
          ],
          [
           "PAK"
          ],
          [
           "PAN"
          ],
          [
           "PER"
          ],
          [
           "PHL"
          ],
          [
           "PNG"
          ],
          [
           "POL"
          ],
          [
           "PRT"
          ],
          [
           "PRY"
          ],
          [
           "QAT"
          ],
          [
           "ROU"
          ],
          [
           "RUS"
          ],
          [
           "RWA"
          ],
          [
           "SAU"
          ],
          [
           "SDN"
          ],
          [
           "SEN"
          ],
          [
           "SGP"
          ],
          [
           "SLB"
          ],
          [
           "SLE"
          ],
          [
           "SLV"
          ],
          [
           "SRB"
          ],
          [
           "SSD"
          ],
          [
           "STP"
          ],
          [
           "SUR"
          ],
          [
           "SVK"
          ],
          [
           "SVN"
          ],
          [
           "SWE"
          ],
          [
           "SWZ"
          ],
          [
           "SYC"
          ],
          [
           "TCD"
          ],
          [
           "TGO"
          ],
          [
           "THA"
          ],
          [
           "TJK"
          ],
          [
           "TKM"
          ],
          [
           "TLS"
          ],
          [
           "TON"
          ],
          [
           "TTO"
          ],
          [
           "TUN"
          ],
          [
           "TUR"
          ],
          [
           "TZA"
          ],
          [
           "UGA"
          ],
          [
           "UKR"
          ],
          [
           "URY"
          ],
          [
           "USA"
          ],
          [
           "UZB"
          ],
          [
           "VCT"
          ],
          [
           "VNM"
          ],
          [
           "VUT"
          ],
          [
           "WSM"
          ],
          [
           "ZAF"
          ],
          [
           "ZMB"
          ],
          [
           "ZWE"
          ]
         ],
         "hovertemplate": "Urban Population=%{x}<br>Air Pollution Deaths=%{y}<br>Country Code=%{customdata[0]}<extra></extra>",
         "legendgroup": "",
         "marker": {
          "color": "#636efa",
          "symbol": "circle"
         },
         "mode": "markers",
         "name": "",
         "orientation": "v",
         "showlegend": false,
         "type": "scatter",
         "x": {
          "bdata": "AAAAAArXYUEAAADgFYpzQQAAAADJYTpBAAAAQOgqXkEAAABY4X2DQQAAAAAZVTtBAAAAAMAC1kAAAABQCnp0QQAAAMD3qFNBAAAAAMAcVUEAAAAA5do2QQAAAGAUXGVBAAAAAPiMVUEAAAAAlNZWQQAAABhsl4xBAAAAANcZVEEAAAAAgUM0QQAAAADIXRRBAAAAAMgHOUEAAABAi0xcQQAAAABAUwVBAAAAgDu9XkEAAABaV7ClQQAAAACgRPVAAAAAAIyTFEEAAAAArAUTQQAAAAAF+jlBAAAAgAYUQEEAAABwdMh8QQAAAMAN+FdBAAAAQPc7b0EAAAAAF7FoQQAAAKC39mpBAAAA8HF2gkEAAACANsdLQQAAAIAA+4JBAAAAANhyC0EAAAAAmOoWQQAAAAArg05BAAAAYDOlYEEAAAAAutkoQQAAAAAx7F1BAAAAsDuQjkEAAAAA4hcpQQAAAADHa1NBAAAA4L2lYEEAAADgXQp9QQAAAICGtmRBAAAAgOQfhUEAAAAAKhI1QQAAAEBu7IFBAAAAAOTJK0EAAADQQAF2QQAAAIDk9lFBAAAAANSMH0EAAADo1MKJQQAAAABZ5D1BAAAAMPFtikEAAAAAe6tAQQAAABAegXBBAAAAAPxOUUEAAAAAkNs2QQAAAADIeClBAAAAAAaJMEEAAABAKi9gQQAAAAAglOVAAAAAACvWX0EAAAAAEIMJQQAAAIBHVFVBAAAAALDCQUEAAACAxThXQQAAAMB8m1pBAAAA1h2doUEAAAAAPnVHQQAAAJDck45BAAAAwMJHe0EAAAAASDIUQQAAAIDmUF9BAAAAOExLhEEAAAAAFeM3QQAAACCfJmJBAAAAeAOzm0EAAAAg5wRkQQAAAED1wGlBAAAAgBCJQUEAAACAR5hMQQAAAACwIvBAAAAAAHoJhEEAAABAAHhQQQAAAAB++UJBAAAAwHYcVEEAAAAAthRDQQAAAABAOeBAAAAAgNKLTkEAAAAAcOIiQQAAAAB47jxBAAAAAD7hIEEAAAAAvwk0QQAAAAD7ZXVBAAAAAAacMUEAAAAgPgtjQQAAAACYzAdBAAAAGCyzl0EAAAAAJ7UwQQAAAGC9GmBBAAAAAFj8G0EAAACApLduQQAAAADEXxlBAAAAAK2FQEEAAAAgcTJkQQAAAIDofEFBAAAAAKyCH0EAAAAAHLxHQQAAAGBufndBAAAAAJpdMkEAAAAAvUpMQQAAAKT2z5dBAAAAAB1YTUEAAACg2xFuQQAAAECMqlBBAAAAQFZ3VUEAAABAfC1QQQAAAAA2rU1BAAAAYGc1k0EAAACAToRFQQAAAHBG7XdBAAAAgJlIiEEAAAAAFr8yQQAAALAVwHVBAAAAwAGVWUEAAAAAPkZOQQAAAAAI7URBAAAAQIwOZEEAAACwes2ZQQAAAICYdEBBAAAAsB0AfEEAAABAKMBrQQAAAMDXCVxBAAAAAIWCVUEAAAAAqBwDQQAAAAAnOUlBAAAAgHY+UUEAAAAAxeFNQQAAAAAEHT9BAAAAAEjIAkEAAAAAQPAXQQAAAAB+U0ZBAAAAAHNCMUEAAABg5PdgQQAAAAAo2xBBAAAAAODI6kAAAACAr3NLQQAAAAD1mUlBAAAAUN7wgEEAAACAjeVCQQAAAACf30dBAAAAANyMF0EAAAAAgMDXQAAAAAAQbChBAAAAwGhiX0EAAAA4QyuNQQAAAEAxtnJBAAAAwEXTYkEAAABg2Y59QQAAAAAg7UhBAAAA/TsGsEEAAACA17pvQQAAAABg1epAAAAAsKdBgEEAAAAAMFjyQAAAAAAAruJAAAAAGH8kgkEAAADAbZxdQQAAAICHflJB",
          "dtype": "f8"
         },
         "xaxis": "x",
         "y": {
          "bdata": "AAAAAOCO5UC4HoXrUZnQQEfhehRuyLdAmpmZmRkfrECamZmZCRbhQMzMzMzMcbtAFK5H4XqURUCZmZmZ2YjAQAAAAABAesJAzczMzGxK1EB7FK5HIa66QJqZmZnZUcRA61G4HiWow0AUrkfhWhDOQAAAAADQzwJBMzMzM/Mf10BSuB6F6/GHQBSuR+F6NFZAzczMzMx5v0AzMzMzM+3ZQBSuR+F6lFpAH4XrUXhExkAAAAAAkK36QML1KFyPsm1AKVyPwvU4XEB7FK5H4aSFQChcj8L11pZA7FG4HkWXskDNzMzMzGXOQAAAAACA2LRAzczMzMz1xEC4HoXrcavVQOF6FK53mdhAMzMzM0PK70BxPQrXo3OmQGZmZmamZNlAzczMzMx2eEDiehSuR218QD4K16Nw6J9AAAAAAMAky0DrUbgehcOEQDMzMzOzOdJAAAAAABAW90C4HoXrUWyGQDQzMzMz/K5A61G4HsXItkAAAAAAQHrgQPYoXI8CLL1AAAAAAKisAEFcj8L1qDyoQGZmZmZm2txACtejcD3XkEDNzMzMjDfqQIXrUbie56JAhetRuB49fkAAAAAAYGXjQFyPwvUoNZJAAAAAAEAp50BmZmZmJrjEQArXo3BtR9hAmpmZmRnPyUA+CtejcHSZQFK4HoXrx5hA7FG4HoWBhkAAAAAAIH7QQAAAAAAAUFVA9ihcj+LkwkC4HoXrUd6FQLgehevRobdAmpmZmVkRwEApXI/CtbO+QGZmZmZmCNVAAAAAAIjoC0EUrkfh+rOhQGZmZmbeXPBAMzMzM1N93EApXI/C9TheQJqZmZmZwq9AAAAAAMAW8UD2KFyPwmWXQFK4HoXrJ61AAAAAANDP/kAAAAAA4CHZQArXo3AdW8lAZmZmZuYnvUAAAAAAgF3FQPYoXI/CRVFAAAAAAMBm40DsUbgehYmcQD0K16Nw+7NAMzMzMzNAvEDXo3A9CkunQMP1KFyPolhAmZmZmTkj0kBSuB6Fa2CnQML1KFwPWrlAAAAAAABkdECuR+F6VMqwQJqZmZmJfOJACtejcH3ru0BSuB6FC8rMQEjhehSu32NAmpmZmZHf8UA9CtejcJmxQOF6FK5HlMtAexSuR+FifkCamZmZOXnqQBSuR+F6Z5hA7FG4HgX0sUCuR+F6pBjRQB6F61G4a6ZAAAAAAADGjkCkcD0K15u4QM3MzMzsGN5AUrgehestkUDNzMzMjG7VQJqZmZkJoglB9ihcj8J3q0DNzMzMDNLGQB+F61G4YJ9AzczMzEw23UC4HoXrUcugQFyPwvWoY6xAAAAAANzJEUEzMzMzM5CZQAAAAABgt9BAmpmZmYm8/EApXI/C9dipQAAAAABANPNAzczMzEw2vECuR+F6FESlQFyPwvUotolAMzMzM2N85kAAAAAAmOULQUjhehTuq7lAMzMzM9O/4EBmZmZmJsHcQArXo3B90sJAMzMzMzODrEApXI/C9RB4QBWuR+E6mr5AzczMzAxWsUDNzMzM7DrSQBWuR+H6m7hAFK5H4XqsY0BmZmZmZiZ5QAAAAACAtrxA7FG4HgXHo0DNzMzMDKyyQB6F61G4iohASOF6FK4XVkDhehSu98/SQHA9CtfjA7pAAAAAAODL7EBI4XoU7sPKQFyPwvWo5blArkfhehRmikDrUbgehetCQDMzMzMz44ZAZmZmZibnykAAAAAAcN/wQBSuR+FKf9BAmpmZmelf0UAzMzMzu8n+QOF6FK7Hv6FAAAAAAGgzCUFmZmZmxhvoQPUoXI/ChVJAAAAAACDo+ED2KFyPwt1mQLgehetRiFVAMzMzM9MT5EDsUbgexYu7QAAAAAAATrtA",
          "dtype": "f8"
         },
         "yaxis": "y"
        }
       ],
       "layout": {
        "annotations": [
         {
          "font": {
           "color": "red",
           "size": 14
          },
          "showarrow": false,
          "text": "Correlation: 0.8103",
          "x": 268844029,
          "y": 291447
         }
        ],
        "legend": {
         "tracegroupgap": 0
        },
        "margin": {
         "t": 60
        },
        "template": {
         "data": {
          "bar": [
           {
            "error_x": {
             "color": "#2a3f5f"
            },
            "error_y": {
             "color": "#2a3f5f"
            },
            "marker": {
             "line": {
              "color": "#E5ECF6",
              "width": 0.5
             },
             "pattern": {
              "fillmode": "overlay",
              "size": 10,
              "solidity": 0.2
             }
            },
            "type": "bar"
           }
          ],
          "barpolar": [
           {
            "marker": {
             "line": {
              "color": "#E5ECF6",
              "width": 0.5
             },
             "pattern": {
              "fillmode": "overlay",
              "size": 10,
              "solidity": 0.2
             }
            },
            "type": "barpolar"
           }
          ],
          "carpet": [
           {
            "aaxis": {
             "endlinecolor": "#2a3f5f",
             "gridcolor": "white",
             "linecolor": "white",
             "minorgridcolor": "white",
             "startlinecolor": "#2a3f5f"
            },
            "baxis": {
             "endlinecolor": "#2a3f5f",
             "gridcolor": "white",
             "linecolor": "white",
             "minorgridcolor": "white",
             "startlinecolor": "#2a3f5f"
            },
            "type": "carpet"
           }
          ],
          "choropleth": [
           {
            "colorbar": {
             "outlinewidth": 0,
             "ticks": ""
            },
            "type": "choropleth"
           }
          ],
          "contour": [
           {
            "colorbar": {
             "outlinewidth": 0,
             "ticks": ""
            },
            "colorscale": [
             [
              0,
              "#0d0887"
             ],
             [
              0.1111111111111111,
              "#46039f"
             ],
             [
              0.2222222222222222,
              "#7201a8"
             ],
             [
              0.3333333333333333,
              "#9c179e"
             ],
             [
              0.4444444444444444,
              "#bd3786"
             ],
             [
              0.5555555555555556,
              "#d8576b"
             ],
             [
              0.6666666666666666,
              "#ed7953"
             ],
             [
              0.7777777777777778,
              "#fb9f3a"
             ],
             [
              0.8888888888888888,
              "#fdca26"
             ],
             [
              1,
              "#f0f921"
             ]
            ],
            "type": "contour"
           }
          ],
          "contourcarpet": [
           {
            "colorbar": {
             "outlinewidth": 0,
             "ticks": ""
            },
            "type": "contourcarpet"
           }
          ],
          "heatmap": [
           {
            "colorbar": {
             "outlinewidth": 0,
             "ticks": ""
            },
            "colorscale": [
             [
              0,
              "#0d0887"
             ],
             [
              0.1111111111111111,
              "#46039f"
             ],
             [
              0.2222222222222222,
              "#7201a8"
             ],
             [
              0.3333333333333333,
              "#9c179e"
             ],
             [
              0.4444444444444444,
              "#bd3786"
             ],
             [
              0.5555555555555556,
              "#d8576b"
             ],
             [
              0.6666666666666666,
              "#ed7953"
             ],
             [
              0.7777777777777778,
              "#fb9f3a"
             ],
             [
              0.8888888888888888,
              "#fdca26"
             ],
             [
              1,
              "#f0f921"
             ]
            ],
            "type": "heatmap"
           }
          ],
          "histogram": [
           {
            "marker": {
             "pattern": {
              "fillmode": "overlay",
              "size": 10,
              "solidity": 0.2
             }
            },
            "type": "histogram"
           }
          ],
          "histogram2d": [
           {
            "colorbar": {
             "outlinewidth": 0,
             "ticks": ""
            },
            "colorscale": [
             [
              0,
              "#0d0887"
             ],
             [
              0.1111111111111111,
              "#46039f"
             ],
             [
              0.2222222222222222,
              "#7201a8"
             ],
             [
              0.3333333333333333,
              "#9c179e"
             ],
             [
              0.4444444444444444,
              "#bd3786"
             ],
             [
              0.5555555555555556,
              "#d8576b"
             ],
             [
              0.6666666666666666,
              "#ed7953"
             ],
             [
              0.7777777777777778,
              "#fb9f3a"
             ],
             [
              0.8888888888888888,
              "#fdca26"
             ],
             [
              1,
              "#f0f921"
             ]
            ],
            "type": "histogram2d"
           }
          ],
          "histogram2dcontour": [
           {
            "colorbar": {
             "outlinewidth": 0,
             "ticks": ""
            },
            "colorscale": [
             [
              0,
              "#0d0887"
             ],
             [
              0.1111111111111111,
              "#46039f"
             ],
             [
              0.2222222222222222,
              "#7201a8"
             ],
             [
              0.3333333333333333,
              "#9c179e"
             ],
             [
              0.4444444444444444,
              "#bd3786"
             ],
             [
              0.5555555555555556,
              "#d8576b"
             ],
             [
              0.6666666666666666,
              "#ed7953"
             ],
             [
              0.7777777777777778,
              "#fb9f3a"
             ],
             [
              0.8888888888888888,
              "#fdca26"
             ],
             [
              1,
              "#f0f921"
             ]
            ],
            "type": "histogram2dcontour"
           }
          ],
          "mesh3d": [
           {
            "colorbar": {
             "outlinewidth": 0,
             "ticks": ""
            },
            "type": "mesh3d"
           }
          ],
          "parcoords": [
           {
            "line": {
             "colorbar": {
              "outlinewidth": 0,
              "ticks": ""
             }
            },
            "type": "parcoords"
           }
          ],
          "pie": [
           {
            "automargin": true,
            "type": "pie"
           }
          ],
          "scatter": [
           {
            "fillpattern": {
             "fillmode": "overlay",
             "size": 10,
             "solidity": 0.2
            },
            "type": "scatter"
           }
          ],
          "scatter3d": [
           {
            "line": {
             "colorbar": {
              "outlinewidth": 0,
              "ticks": ""
             }
            },
            "marker": {
             "colorbar": {
              "outlinewidth": 0,
              "ticks": ""
             }
            },
            "type": "scatter3d"
           }
          ],
          "scattercarpet": [
           {
            "marker": {
             "colorbar": {
              "outlinewidth": 0,
              "ticks": ""
             }
            },
            "type": "scattercarpet"
           }
          ],
          "scattergeo": [
           {
            "marker": {
             "colorbar": {
              "outlinewidth": 0,
              "ticks": ""
             }
            },
            "type": "scattergeo"
           }
          ],
          "scattergl": [
           {
            "marker": {
             "colorbar": {
              "outlinewidth": 0,
              "ticks": ""
             }
            },
            "type": "scattergl"
           }
          ],
          "scattermap": [
           {
            "marker": {
             "colorbar": {
              "outlinewidth": 0,
              "ticks": ""
             }
            },
            "type": "scattermap"
           }
          ],
          "scattermapbox": [
           {
            "marker": {
             "colorbar": {
              "outlinewidth": 0,
              "ticks": ""
             }
            },
            "type": "scattermapbox"
           }
          ],
          "scatterpolar": [
           {
            "marker": {
             "colorbar": {
              "outlinewidth": 0,
              "ticks": ""
             }
            },
            "type": "scatterpolar"
           }
          ],
          "scatterpolargl": [
           {
            "marker": {
             "colorbar": {
              "outlinewidth": 0,
              "ticks": ""
             }
            },
            "type": "scatterpolargl"
           }
          ],
          "scatterternary": [
           {
            "marker": {
             "colorbar": {
              "outlinewidth": 0,
              "ticks": ""
             }
            },
            "type": "scatterternary"
           }
          ],
          "surface": [
           {
            "colorbar": {
             "outlinewidth": 0,
             "ticks": ""
            },
            "colorscale": [
             [
              0,
              "#0d0887"
             ],
             [
              0.1111111111111111,
              "#46039f"
             ],
             [
              0.2222222222222222,
              "#7201a8"
             ],
             [
              0.3333333333333333,
              "#9c179e"
             ],
             [
              0.4444444444444444,
              "#bd3786"
             ],
             [
              0.5555555555555556,
              "#d8576b"
             ],
             [
              0.6666666666666666,
              "#ed7953"
             ],
             [
              0.7777777777777778,
              "#fb9f3a"
             ],
             [
              0.8888888888888888,
              "#fdca26"
             ],
             [
              1,
              "#f0f921"
             ]
            ],
            "type": "surface"
           }
          ],
          "table": [
           {
            "cells": {
             "fill": {
              "color": "#EBF0F8"
             },
             "line": {
              "color": "white"
             }
            },
            "header": {
             "fill": {
              "color": "#C8D4E3"
             },
             "line": {
              "color": "white"
             }
            },
            "type": "table"
           }
          ]
         },
         "layout": {
          "annotationdefaults": {
           "arrowcolor": "#2a3f5f",
           "arrowhead": 0,
           "arrowwidth": 1
          },
          "autotypenumbers": "strict",
          "coloraxis": {
           "colorbar": {
            "outlinewidth": 0,
            "ticks": ""
           }
          },
          "colorscale": {
           "diverging": [
            [
             0,
             "#8e0152"
            ],
            [
             0.1,
             "#c51b7d"
            ],
            [
             0.2,
             "#de77ae"
            ],
            [
             0.3,
             "#f1b6da"
            ],
            [
             0.4,
             "#fde0ef"
            ],
            [
             0.5,
             "#f7f7f7"
            ],
            [
             0.6,
             "#e6f5d0"
            ],
            [
             0.7,
             "#b8e186"
            ],
            [
             0.8,
             "#7fbc41"
            ],
            [
             0.9,
             "#4d9221"
            ],
            [
             1,
             "#276419"
            ]
           ],
           "sequential": [
            [
             0,
             "#0d0887"
            ],
            [
             0.1111111111111111,
             "#46039f"
            ],
            [
             0.2222222222222222,
             "#7201a8"
            ],
            [
             0.3333333333333333,
             "#9c179e"
            ],
            [
             0.4444444444444444,
             "#bd3786"
            ],
            [
             0.5555555555555556,
             "#d8576b"
            ],
            [
             0.6666666666666666,
             "#ed7953"
            ],
            [
             0.7777777777777778,
             "#fb9f3a"
            ],
            [
             0.8888888888888888,
             "#fdca26"
            ],
            [
             1,
             "#f0f921"
            ]
           ],
           "sequentialminus": [
            [
             0,
             "#0d0887"
            ],
            [
             0.1111111111111111,
             "#46039f"
            ],
            [
             0.2222222222222222,
             "#7201a8"
            ],
            [
             0.3333333333333333,
             "#9c179e"
            ],
            [
             0.4444444444444444,
             "#bd3786"
            ],
            [
             0.5555555555555556,
             "#d8576b"
            ],
            [
             0.6666666666666666,
             "#ed7953"
            ],
            [
             0.7777777777777778,
             "#fb9f3a"
            ],
            [
             0.8888888888888888,
             "#fdca26"
            ],
            [
             1,
             "#f0f921"
            ]
           ]
          },
          "colorway": [
           "#636efa",
           "#EF553B",
           "#00cc96",
           "#ab63fa",
           "#FFA15A",
           "#19d3f3",
           "#FF6692",
           "#B6E880",
           "#FF97FF",
           "#FECB52"
          ],
          "font": {
           "color": "#2a3f5f"
          },
          "geo": {
           "bgcolor": "white",
           "lakecolor": "white",
           "landcolor": "#E5ECF6",
           "showlakes": true,
           "showland": true,
           "subunitcolor": "white"
          },
          "hoverlabel": {
           "align": "left"
          },
          "hovermode": "closest",
          "mapbox": {
           "style": "light"
          },
          "paper_bgcolor": "white",
          "plot_bgcolor": "#E5ECF6",
          "polar": {
           "angularaxis": {
            "gridcolor": "white",
            "linecolor": "white",
            "ticks": ""
           },
           "bgcolor": "#E5ECF6",
           "radialaxis": {
            "gridcolor": "white",
            "linecolor": "white",
            "ticks": ""
           }
          },
          "scene": {
           "xaxis": {
            "backgroundcolor": "#E5ECF6",
            "gridcolor": "white",
            "gridwidth": 2,
            "linecolor": "white",
            "showbackground": true,
            "ticks": "",
            "zerolinecolor": "white"
           },
           "yaxis": {
            "backgroundcolor": "#E5ECF6",
            "gridcolor": "white",
            "gridwidth": 2,
            "linecolor": "white",
            "showbackground": true,
            "ticks": "",
            "zerolinecolor": "white"
           },
           "zaxis": {
            "backgroundcolor": "#E5ECF6",
            "gridcolor": "white",
            "gridwidth": 2,
            "linecolor": "white",
            "showbackground": true,
            "ticks": "",
            "zerolinecolor": "white"
           }
          },
          "shapedefaults": {
           "line": {
            "color": "#2a3f5f"
           }
          },
          "ternary": {
           "aaxis": {
            "gridcolor": "white",
            "linecolor": "white",
            "ticks": ""
           },
           "baxis": {
            "gridcolor": "white",
            "linecolor": "white",
            "ticks": ""
           },
           "bgcolor": "#E5ECF6",
           "caxis": {
            "gridcolor": "white",
            "linecolor": "white",
            "ticks": ""
           }
          },
          "title": {
           "x": 0.05
          },
          "xaxis": {
           "automargin": true,
           "gridcolor": "white",
           "linecolor": "white",
           "ticks": "",
           "title": {
            "standoff": 15
           },
           "zerolinecolor": "white",
           "zerolinewidth": 2
          },
          "yaxis": {
           "automargin": true,
           "gridcolor": "white",
           "linecolor": "white",
           "ticks": "",
           "title": {
            "standoff": 15
           },
           "zerolinecolor": "white",
           "zerolinewidth": 2
          }
         }
        },
        "xaxis": {
         "anchor": "y",
         "domain": [
          0,
          1
         ],
         "title": {
          "text": "Urban Population"
         }
        },
        "yaxis": {
         "anchor": "x",
         "domain": [
          0,
          1
         ],
         "title": {
          "text": "Air Pollution Deaths"
         }
        }
       }
      }
     },
     "metadata": {},
     "output_type": "display_data"
    }
   ],
   "source": [
    "scatter_html_blocks = []\n",
    "for column in X:\n",
    "    correlation = final_merged[[column, 'Air Pollution Deaths']].corr().iloc[0, 1]\n",
    "    \n",
    "    fig = px.scatter(final_merged, x=column, y='Air Pollution Deaths', hover_data=['Country Code'])\n",
    "\n",
    "    fig.add_annotation(\n",
    "    x=max(final_merged[column]),\n",
    "    y=max(final_merged['Air Pollution Deaths']),\n",
    "    text=f\"Correlation: {correlation:.4f}\",\n",
    "    showarrow=False,\n",
    "    font=dict(size=14, color=\"red\"))\n",
    "\n",
    "    scatter_html_blocks.append(fig)\n",
    "\n",
    "for i in scatter_html_blocks:\n",
    "    i.show()"
   ]
  },
  {
   "cell_type": "code",
   "execution_count": 215,
   "metadata": {},
   "outputs": [
    {
     "name": "stdout",
     "output_type": "stream",
     "text": [
      "Transportation Emissions\n",
      "Coal Mining Emissions\n",
      "Cropland Fires Emissions\n",
      "Residential & Commercial Emissions\n",
      "Forest Clearing Emissions\n",
      "Petrochemicals Emissions\n",
      "Electricity Generation Emissions\n",
      "Incineration & Open Burning Emissions\n",
      "Health Expenditure\n",
      "Urban Population\n"
     ]
    }
   ],
   "source": [
    "for column in X:\n",
    "    print(column)"
   ]
  },
  {
   "cell_type": "code",
   "execution_count": null,
   "metadata": {},
   "outputs": [
    {
     "data": {
      "image/png": "[encoded data removed]",
      "text/plain": [
       "<Figure size 800x550 with 2 Axes>"
      ]
     },
     "metadata": {},
     "output_type": "display_data"
    }
   ],
   "source": [
    "\n",
    "\n",
    "def generate_html_file():\n",
    "    rounded_train_r2 = round(train_r2, 2)\n",
    "    rounded_test_r2 = round(test_r2, 2)\n",
    "    scatter_html_blocks = []\n",
    "\n",
    "    spcounter = 1\n",
    "    for column in X:\n",
    "        correlation = final_merged[[column, 'Air Pollution Deaths']].corr().iloc[0, 1]\n",
    "        \n",
    "        fig = px.scatter(final_merged, \n",
    "                         x=column, \n",
    "                         y='Air Pollution Deaths', \n",
    "                         hover_data=['Country Code'],\n",
    "                         text=final_merged['Country Code'],\n",
    "                         title= f'Air Pollution Deaths vs {column} (Correlation: {round(correlation, 2)})',\n",
    "                         height=600,\n",
    "                         width=1000\n",
    "                         )\n",
    "\n",
    "        fig.update_traces(textposition='top center', marker=dict(size=8))\n",
    "        \n",
    "        fig.add_annotation(\n",
    "            x=max(final_merged['Health Expenditure']),\n",
    "            y=max(final_merged['Air Pollution Deaths'])\n",
    "        )\n",
    "        fig.layout.annotations = []\n",
    "        scatter_html_blocks.append(fig.to_html(full_html=False, div_id=f\"scatterplot_{spcounter}\")) \n",
    "        spcounter +=1\n",
    "\n",
    "    choropleth_map = px.choropleth(\n",
    "        factors,\n",
    "        locations=\"Country Code\",\n",
    "        color=\"Air Pollution Deaths\",\n",
    "        hover_data={'Country Code': True, 'Air Pollution Deaths': True},\n",
    "        color_continuous_scale=px.colors.sequential.Reds,\n",
    "        labels={\"Air Pollution Deaths\": \"Air Pollution Air Pollution Deaths\"},\n",
    "        height=600,\n",
    "        width=1000\n",
    "    ).to_html(full_html=False)\n",
    "\n",
    "    with open(\"coding_test_output.html\", \"w\", encoding=\"utf-8\") as f:\n",
    "        f.write(f\"\"\"\n",
    "        <html>\n",
    "            <head>\n",
    "                <title>Air Pollution and Emissions Analysis</title>\n",
    "                <link rel=\"stylesheet\" href=\"styles.css\" />\n",
    "                <script>\n",
    "                    function showPlot(id) {{\n",
    "                        console.log(\"Clicked: \", id);\n",
    "                        let plot_id = \"plot_\" + id;\n",
    "                        let plots = document.getElementsByClassName('scatterplot');\n",
    "                        for (var i = 0; i < plots.length; i++) {{\n",
    "                            plots[i].style.display = 'none';\n",
    "                        }}\n",
    "                        document.getElementById(plot_id).style.display = 'block';\n",
    "                    }}\n",
    "                </script>\n",
    "                \n",
    "            </head>\n",
    "            <body>\n",
    "                <h1>Air Pollution Air Pollution Deaths by Country</h1>\n",
    "                {choropleth_map}\n",
    "                <hr>\n",
    "\n",
    "                <div class=\"scatter-form-container\">\n",
    "                    <h2 class=\"scatter-form-title\">Scatter Plot</h2>\n",
    "\n",
    "                    <div class=\"form-container\">\n",
    "                        <div class=\"radio-container\">\n",
    "        \"\"\")\n",
    "\n",
    "        # Generating radio buttons dynamically\n",
    "        labels = [\n",
    "            \"Transportation Emissions\", \"Coal Mining Emissions\", \"Cropland Fires Emissions\",\n",
    "            \"Residential & Commercial Emissions\", \"Forest Clearing Emissions\", \"Petrochemicals Emissions\",\n",
    "            \"Electricity Generation Emissions\", \"Incineration & Open Burning Emissions\",\n",
    "            \"Health Expenditure\", \"Urban Population\"\n",
    "        ]\n",
    "\n",
    "        for i, label in enumerate(labels):\n",
    "            f.write(f\"\"\"\n",
    "                <label for=\"{i}\">\n",
    "                <input type=\"radio\" id=\"{i}\" name=\"emissions\" value=\"{label.lower().replace(' ', '_')}\" onclick=\"showPlot(id)\">\n",
    "                {label}\n",
    "                </label>\n",
    "            \"\"\")\n",
    "\n",
    "        f.write(\"\"\"\n",
    "                        </div>\n",
    "                    </div>\n",
    "\n",
    "                    <div class=\"scatter-container\">\n",
    "        \"\"\")\n",
    "\n",
    "        for i, scatter in enumerate(scatter_html_blocks):\n",
    "            plot_id = f\"plot_{i}\"\n",
    "            display_style = 'block' if i == 0 else 'none'\n",
    "            f.write(f\"\"\"\n",
    "                <div id=\"{plot_id}\" class=\"scatterplot\" style=\"display: {display_style};\">\n",
    "                    {scatter}\n",
    "                </div>\n",
    "            \"\"\")\n",
    "\n",
    "        f.write(f\"\"\"\n",
    "                    </div>\n",
    "                </div>\n",
    "            <hr>\n",
    "            <div class='adjusted-score'>\n",
    "                <h2>Adjusted R<sup>2</sup> Score</h2>\n",
    "            </div>\n",
    "                <p>Train data: <strong>{rounded_train_r2}</strong></p>\n",
    "                <p id='test-data'>Test data: <strong>{rounded_test_r2}</strong></p>\n",
    "            <hr>\n",
    "            <h2>SHAP Beeswarm Plot</h2>\n",
    "            {generate_beeswarm_plot(X_train, model)}\n",
    "            </body>\n",
    "        </html>\n",
    "        \"\"\")\n",
    "\n",
    "generate_html_file()\n"
   ]
  },
  {
   "cell_type": "code",
   "execution_count": 217,
   "metadata": {},
   "outputs": [
    {
     "data": {
      "text/plain": [
       "'\\nimport itertools\\nimport xgboost as xgb\\n\\nparam_grid = {\\n    \\'n_estimators\\': [200, 300, 400, 600, 800],\\n    \\'learning_rate\\': [0.01, 0.05, 0.001, 0.1], \\n    \\'max_depth\\': [1, 2, 3, 4, 5] ,\\n    \\'gamma\\': [0, 1, 2],\\n    \\n    \\'subsample\\': [0.3, 0.4, 0.5, 0.6, 0.7],\\n    \\'colsample_bytree\\': [0.7, 0.8, 0.9, 1],\\n    \\'reg_alpha\\': [1, 10, 50, 100, 1000],\\n    \\'reg_lambda\\': [1, 5, 10, 50, 100]\\n}\\nparam_combinations = itertools.product(\\n    param_grid[\\'n_estimators\\'],\\n    param_grid[\\'learning_rate\\'],\\n    param_grid[\\'max_depth\\'],\\n    param_grid[\\'gamma\\'],\\n    param_grid[\\'subsample\\'],\\n    param_grid[\\'colsample_bytree\\'],\\n    param_grid[\\'reg_alpha\\'],\\n    param_grid[\\'reg_lambda\\']\\n)\\n\\n# Initialize results container\\nresults = []\\ncount = 1\\n\\ntry:\\n    for params in param_combinations:\\n        n_estimators, learning_rate, max_depth, gamma, subsample, colsample_bytree, reg_alpha, reg_lambda = params\\n\\n        xgb_model = xgb.XGBRegressor(\\n            n_estimators = n_estimators,\\n            learning_rate = learning_rate,\\n            max_depth = max_depth,\\n            gamma = gamma,\\n            subsample = subsample,\\n            colsample_bytree = colsample_bytree,\\n            reg_alpha = reg_alpha,\\n            reg_lambda = reg_lambda,\\n            random_state = random_seed\\n        )\\n\\n        xgb_model.fit(X_train_scaled, y_train)\\n        \\n        y_train_pred = xgb_model.predict(X_train_scaled)\\n        y_test_pred = xgb_model.predict(X_test_scaled)\\n\\n        train_r2 = r2_score(y_train, y_train_pred)\\n        test_r2 = r2_score(y_test, y_test_pred)\\n\\n        print(\"Iteration \" + str(count) + \"  Test R2 Score: \" + str(test_r2))\\n        count += 1\\n        # Store the results\\n        if test_r2 < train_r2:\\n            results.append({\\n                \\'n_estimators\\': n_estimators,\\n                \\'learning_rate\\': learning_rate,\\n                \\'max_depth\\': max_depth,\\n                \\'subsample\\': subsample,\\n                \\'gamma\\': gamma,\\n                \\'colsample_bytree\\': colsample_bytree,\\n                \\'reg_alpha\\': reg_alpha,\\n                \\'reg_lambda\\': reg_lambda,\\n                \\'train_r2\\': train_r2,\\n                \\'test_r2\\': test_r2\\n            })\\nexcept KeyboardInterrupt:\\n    print(f\\'Program terminated at Iteration: {count}\\')\\n    print(results)\\n\\nbest_params = max(results, key=lambda x: x[\\'test_r2\\'])\\nprint(f\"Best Hyperparameters: {best_params}\")\\nprint(f\"Best Test R² Score: {best_params[\\'test_r2\\']:.4f}\")\\n'"
      ]
     },
     "execution_count": 217,
     "metadata": {},
     "output_type": "execute_result"
    }
   ],
   "source": [
    "# Hyperparameter Optimization \n",
    "\n",
    "'''\n",
    "import itertools\n",
    "import xgboost as xgb\n",
    "\n",
    "param_grid = {\n",
    "    'n_estimators': [200, 300, 400, 600, 800],\n",
    "    'learning_rate': [0.01, 0.05, 0.001, 0.1], \n",
    "    'max_depth': [1, 2, 3, 4, 5] ,\n",
    "    'gamma': [0, 1, 2],\n",
    "    \n",
    "    'subsample': [0.3, 0.4, 0.5, 0.6, 0.7],\n",
    "    'colsample_bytree': [0.7, 0.8, 0.9, 1],\n",
    "    'reg_alpha': [1, 10, 50, 100, 1000],\n",
    "    'reg_lambda': [1, 5, 10, 50, 100]\n",
    "}\n",
    "param_combinations = itertools.product(\n",
    "    param_grid['n_estimators'],\n",
    "    param_grid['learning_rate'],\n",
    "    param_grid['max_depth'],\n",
    "    param_grid['gamma'],\n",
    "    param_grid['subsample'],\n",
    "    param_grid['colsample_bytree'],\n",
    "    param_grid['reg_alpha'],\n",
    "    param_grid['reg_lambda']\n",
    ")\n",
    "\n",
    "# Initialize results container\n",
    "results = []\n",
    "count = 1\n",
    "\n",
    "try:\n",
    "    for params in param_combinations:\n",
    "        n_estimators, learning_rate, max_depth, gamma, subsample, colsample_bytree, reg_alpha, reg_lambda = params\n",
    "\n",
    "        xgb_model = xgb.XGBRegressor(\n",
    "            n_estimators = n_estimators,\n",
    "            learning_rate = learning_rate,\n",
    "            max_depth = max_depth,\n",
    "            gamma = gamma,\n",
    "            subsample = subsample,\n",
    "            colsample_bytree = colsample_bytree,\n",
    "            reg_alpha = reg_alpha,\n",
    "            reg_lambda = reg_lambda,\n",
    "            random_state = random_seed\n",
    "        )\n",
    "\n",
    "        xgb_model.fit(X_train_scaled, y_train)\n",
    "        \n",
    "        y_train_pred = xgb_model.predict(X_train_scaled)\n",
    "        y_test_pred = xgb_model.predict(X_test_scaled)\n",
    "\n",
    "        train_r2 = r2_score(y_train, y_train_pred)\n",
    "        test_r2 = r2_score(y_test, y_test_pred)\n",
    "\n",
    "        print(\"Iteration \" + str(count) + \"  Test R2 Score: \" + str(test_r2))\n",
    "        count += 1\n",
    "        # Store the results\n",
    "        if test_r2 < train_r2:\n",
    "            results.append({\n",
    "                'n_estimators': n_estimators,\n",
    "                'learning_rate': learning_rate,\n",
    "                'max_depth': max_depth,\n",
    "                'subsample': subsample,\n",
    "                'gamma': gamma,\n",
    "                'colsample_bytree': colsample_bytree,\n",
    "                'reg_alpha': reg_alpha,\n",
    "                'reg_lambda': reg_lambda,\n",
    "                'train_r2': train_r2,\n",
    "                'test_r2': test_r2\n",
    "            })\n",
    "except KeyboardInterrupt:\n",
    "    print(f'Program terminated at Iteration: {count}')\n",
    "    print(results)\n",
    "\n",
    "best_params = max(results, key=lambda x: x['test_r2'])\n",
    "print(f\"Best Hyperparameters: {best_params}\")\n",
    "print(f\"Best Test R² Score: {best_params['test_r2']:.4f}\")\n",
    "'''"
   ]
  },
  {
   "cell_type": "code",
   "execution_count": null,
   "metadata": {},
   "outputs": [],
   "source": []
  }
 ],
 "metadata": {
  "kernelspec": {
   "display_name": "Python 3",
   "language": "python",
   "name": "python3"
  },
  "language_info": {
   "codemirror_mode": {
    "name": "ipython",
    "version": 3
   },
   "file_extension": ".py",
   "mimetype": "text/x-python",
   "name": "python",
   "nbconvert_exporter": "python",
   "pygments_lexer": "ipython3",
   "version": "3.11.9"
  }
 },
 "nbformat": 4,
 "nbformat_minor": 2
}
