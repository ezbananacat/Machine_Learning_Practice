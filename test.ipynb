{
 "cells": [
  {
   "cell_type": "code",
   "execution_count": 2,
   "metadata": {},
   "outputs": [
    {
     "name": "stderr",
     "output_type": "stream",
     "text": [
      "c:\\Users\\Bluewind\\AppData\\Local\\Programs\\Python\\Python311\\Lib\\site-packages\\tqdm\\auto.py:21: TqdmWarning: IProgress not found. Please update jupyter and ipywidgets. See https://ipywidgets.readthedocs.io/en/stable/user_install.html\n",
      "  from .autonotebook import tqdm as notebook_tqdm\n"
     ]
    }
   ],
   "source": [
    "import pandas as pd\n",
    "import numpy as np\n",
    "import xgboost as xgb\n",
    "import shap\n",
    "import random\n",
    "import matplotlib.pyplot as plt\n",
    "import plotly.express as px\n",
    "from sklearn.model_selection import train_test_split\n",
    "from sklearn.preprocessing import StandardScaler\n",
    "from sklearn.metrics import r2_score, mean_squared_error\n"
   ]
  },
  {
   "cell_type": "code",
   "execution_count": 3,
   "metadata": {},
   "outputs": [
    {
     "data": {
      "text/plain": [
       "{'air_pollution_death': 'data/air_pollution_death.csv',\n",
       " 'transportation': 'data/road-transportation_country_emissions.csv',\n",
       " 'coal': 'data/coal-mining_country_emissions.csv',\n",
       " 'cropland': 'data/cropland-fires_country_emissions.csv',\n",
       " 'residential_commercial': 'data/residential-and-commercial-onsite-fuel-usage_country_emissions.csv',\n",
       " 'forest_clearing': 'data/forest-land-clearing_country_emissions.csv',\n",
       " 'petrochemicals': 'data/petrochemicals_country_emissions.csv',\n",
       " 'electricity_generation': 'data/electricity-generation_country_emissions.csv',\n",
       " 'incineration_open_burning': 'data/incineration-and-open-burning-of-waste_country_emissions.csv',\n",
       " 'health_expenditure': 'data/health-expenditure.csv',\n",
       " 'urban_population': 'data/urban-population.csv'}"
      ]
     },
     "execution_count": 3,
     "metadata": {},
     "output_type": "execute_result"
    }
   ],
   "source": [
    "def define_files():\n",
    "    files = {\n",
    "        \"air_pollution_death\": \"data/air_pollution_death.csv\",\n",
    "        \"transportation\": 'data/road-transportation_country_emissions.csv',\n",
    "        \"coal\": 'data/coal-mining_country_emissions.csv',\n",
    "        \"cropland\": 'data/cropland-fires_country_emissions.csv',\n",
    "        \"residential_commercial\": 'data/residential-and-commercial-onsite-fuel-usage_country_emissions.csv',\n",
    "        \"forest_clearing\": 'data/forest-land-clearing_country_emissions.csv',\n",
    "        \"petrochemicals\": 'data/petrochemicals_country_emissions.csv',\n",
    "        \"electricity_generation\": 'data/electricity-generation_country_emissions.csv',\n",
    "        \"incineration_open_burning\": 'data/incineration-and-open-burning-of-waste_country_emissions.csv',\n",
    "        \"health_expenditure\": 'data/health-expenditure.csv',\n",
    "        \"urban_population\": 'data/urban-population.csv'\n",
    "    }\n",
    "    return files\n",
    "\n",
    "files = define_files()\n",
    "files\n"
   ]
  },
  {
   "cell_type": "code",
   "execution_count": 4,
   "metadata": {},
   "outputs": [
    {
     "data": {
      "text/plain": [
       "['AFG', 'AGO', 'ALB', 'AND', 'ARE', 'ARG', 'ARM', 'ATG', 'AUS', 'AUT']"
      ]
     },
     "execution_count": 4,
     "metadata": {},
     "output_type": "execute_result"
    }
   ],
   "source": [
    "def find_common_country_codes(env_list, socio_list, files):\n",
    "    env_codes = []\n",
    "    for key in env_list:\n",
    "        df = pd.read_csv(files[key])\n",
    "        codes = set(df['iso3_country'].unique())\n",
    "        env_codes.append(codes)\n",
    "    common_env_codes = set.intersection(*env_codes) if env_codes else set()\n",
    "\n",
    "    # Process socioeconomic files\n",
    "    socio_codes = []\n",
    "    for key in socio_list:\n",
    "        df = pd.read_csv(files[key], skiprows=4)\n",
    "        country_col = None\n",
    "        for col in df.columns:\n",
    "            if col.strip().replace(\" \", \"\").lower() == \"countrycode\":\n",
    "                country_col = col\n",
    "                break\n",
    "        if country_col is None:\n",
    "            raise ValueError(f\"Expected country code column not found in {files[key]}\")\n",
    "        codes = set(df[country_col].unique())\n",
    "        socio_codes.append(codes)\n",
    "    common_socio_codes = set.intersection(*socio_codes) if socio_codes else set()\n",
    "\n",
    "    return sorted(list(common_env_codes.intersection(common_socio_codes)))\n",
    "\n",
    "# Define environment and socio-economic factors\n",
    "environment_factor_files_list = [\n",
    "    'transportation', 'coal', 'cropland',\n",
    "    'residential_commercial', 'forest_clearing',\n",
    "    'petrochemicals', 'electricity_generation',\n",
    "    'incineration_open_burning'\n",
    "]\n",
    "socioeconomic_files_list = ['health_expenditure', 'urban_population']\n",
    "\n",
    "common_country_codes = find_common_country_codes(environment_factor_files_list, socioeconomic_files_list, files)\n",
    "common_country_codes[:10]  # Display first 10 common country codes\n"
   ]
  },
  {
   "cell_type": "code",
   "execution_count": 5,
   "metadata": {},
   "outputs": [
    {
     "data": {
      "text/html": [
       "<div>\n",
       "<style scoped>\n",
       "    .dataframe tbody tr th:only-of-type {\n",
       "        vertical-align: middle;\n",
       "    }\n",
       "\n",
       "    .dataframe tbody tr th {\n",
       "        vertical-align: top;\n",
       "    }\n",
       "\n",
       "    .dataframe thead th {\n",
       "        text-align: right;\n",
       "    }\n",
       "</style>\n",
       "<table border=\"1\" class=\"dataframe\">\n",
       "  <thead>\n",
       "    <tr style=\"text-align: right;\">\n",
       "      <th></th>\n",
       "      <th>IndicatorCode</th>\n",
       "      <th>Indicator</th>\n",
       "      <th>ValueType</th>\n",
       "      <th>ParentLocationCode</th>\n",
       "      <th>ParentLocation</th>\n",
       "      <th>Location type</th>\n",
       "      <th>SpatialDimValueCode</th>\n",
       "      <th>Location</th>\n",
       "      <th>Period type</th>\n",
       "      <th>Period</th>\n",
       "      <th>...</th>\n",
       "      <th>FactValueUoM</th>\n",
       "      <th>FactValueNumericLowPrefix</th>\n",
       "      <th>FactValueNumericLow</th>\n",
       "      <th>FactValueNumericHighPrefix</th>\n",
       "      <th>FactValueNumericHigh</th>\n",
       "      <th>Value</th>\n",
       "      <th>FactValueTranslationID</th>\n",
       "      <th>FactComments</th>\n",
       "      <th>Language</th>\n",
       "      <th>DateModified</th>\n",
       "    </tr>\n",
       "  </thead>\n",
       "  <tbody>\n",
       "    <tr>\n",
       "      <th>3294</th>\n",
       "      <td>AIR_41</td>\n",
       "      <td>Ambient air pollution attributable deaths</td>\n",
       "      <td>numeric</td>\n",
       "      <td>AMR</td>\n",
       "      <td>Americas</td>\n",
       "      <td>Country</td>\n",
       "      <td>ATG</td>\n",
       "      <td>Antigua and Barbuda</td>\n",
       "      <td>Year</td>\n",
       "      <td>2018</td>\n",
       "      <td>...</td>\n",
       "      <td>NaN</td>\n",
       "      <td>NaN</td>\n",
       "      <td>0.071</td>\n",
       "      <td>NaN</td>\n",
       "      <td>0.49</td>\n",
       "      <td>0 [0-0]</td>\n",
       "      <td>NaN</td>\n",
       "      <td>NaN</td>\n",
       "      <td>EN</td>\n",
       "      <td>2024-10-02T16:00:00.000Z</td>\n",
       "    </tr>\n",
       "    <tr>\n",
       "      <th>3298</th>\n",
       "      <td>AIR_41</td>\n",
       "      <td>Ambient air pollution attributable deaths</td>\n",
       "      <td>numeric</td>\n",
       "      <td>AFR</td>\n",
       "      <td>Africa</td>\n",
       "      <td>Country</td>\n",
       "      <td>COM</td>\n",
       "      <td>Comoros</td>\n",
       "      <td>Year</td>\n",
       "      <td>2018</td>\n",
       "      <td>...</td>\n",
       "      <td>NaN</td>\n",
       "      <td>NaN</td>\n",
       "      <td>0.019</td>\n",
       "      <td>NaN</td>\n",
       "      <td>0.13</td>\n",
       "      <td>0 [0-0]</td>\n",
       "      <td>NaN</td>\n",
       "      <td>NaN</td>\n",
       "      <td>EN</td>\n",
       "      <td>2024-10-02T16:00:00.000Z</td>\n",
       "    </tr>\n",
       "    <tr>\n",
       "      <th>3309</th>\n",
       "      <td>AIR_41</td>\n",
       "      <td>Ambient air pollution attributable deaths</td>\n",
       "      <td>numeric</td>\n",
       "      <td>AMR</td>\n",
       "      <td>Americas</td>\n",
       "      <td>Country</td>\n",
       "      <td>BHS</td>\n",
       "      <td>Bahamas</td>\n",
       "      <td>Year</td>\n",
       "      <td>2018</td>\n",
       "      <td>...</td>\n",
       "      <td>NaN</td>\n",
       "      <td>NaN</td>\n",
       "      <td>0.022</td>\n",
       "      <td>NaN</td>\n",
       "      <td>1.14</td>\n",
       "      <td>0 [0-1]</td>\n",
       "      <td>NaN</td>\n",
       "      <td>NaN</td>\n",
       "      <td>EN</td>\n",
       "      <td>2024-10-02T16:00:00.000Z</td>\n",
       "    </tr>\n",
       "    <tr>\n",
       "      <th>3318</th>\n",
       "      <td>AIR_41</td>\n",
       "      <td>Ambient air pollution attributable deaths</td>\n",
       "      <td>numeric</td>\n",
       "      <td>WPR</td>\n",
       "      <td>Western Pacific</td>\n",
       "      <td>Country</td>\n",
       "      <td>KIR</td>\n",
       "      <td>Kiribati</td>\n",
       "      <td>Year</td>\n",
       "      <td>2018</td>\n",
       "      <td>...</td>\n",
       "      <td>NaN</td>\n",
       "      <td>NaN</td>\n",
       "      <td>0.000</td>\n",
       "      <td>NaN</td>\n",
       "      <td>1.23</td>\n",
       "      <td>0 [0-1]</td>\n",
       "      <td>NaN</td>\n",
       "      <td>NaN</td>\n",
       "      <td>EN</td>\n",
       "      <td>2024-10-02T16:00:00.000Z</td>\n",
       "    </tr>\n",
       "    <tr>\n",
       "      <th>3323</th>\n",
       "      <td>AIR_41</td>\n",
       "      <td>Ambient air pollution attributable deaths</td>\n",
       "      <td>numeric</td>\n",
       "      <td>AMR</td>\n",
       "      <td>Americas</td>\n",
       "      <td>Country</td>\n",
       "      <td>VCT</td>\n",
       "      <td>Saint Vincent and the Grenadines</td>\n",
       "      <td>Year</td>\n",
       "      <td>2018</td>\n",
       "      <td>...</td>\n",
       "      <td>NaN</td>\n",
       "      <td>NaN</td>\n",
       "      <td>0.120</td>\n",
       "      <td>NaN</td>\n",
       "      <td>0.68</td>\n",
       "      <td>0 [0-1]</td>\n",
       "      <td>NaN</td>\n",
       "      <td>NaN</td>\n",
       "      <td>EN</td>\n",
       "      <td>2024-10-02T16:00:00.000Z</td>\n",
       "    </tr>\n",
       "  </tbody>\n",
       "</table>\n",
       "<p>5 rows × 34 columns</p>\n",
       "</div>"
      ],
      "text/plain": [
       "     IndicatorCode                                  Indicator ValueType  \\\n",
       "3294        AIR_41  Ambient air pollution attributable deaths   numeric   \n",
       "3298        AIR_41  Ambient air pollution attributable deaths   numeric   \n",
       "3309        AIR_41  Ambient air pollution attributable deaths   numeric   \n",
       "3318        AIR_41  Ambient air pollution attributable deaths   numeric   \n",
       "3323        AIR_41  Ambient air pollution attributable deaths   numeric   \n",
       "\n",
       "     ParentLocationCode   ParentLocation Location type SpatialDimValueCode  \\\n",
       "3294                AMR         Americas       Country                 ATG   \n",
       "3298                AFR           Africa       Country                 COM   \n",
       "3309                AMR         Americas       Country                 BHS   \n",
       "3318                WPR  Western Pacific       Country                 KIR   \n",
       "3323                AMR         Americas       Country                 VCT   \n",
       "\n",
       "                              Location Period type  Period  ...  FactValueUoM  \\\n",
       "3294               Antigua and Barbuda        Year    2018  ...           NaN   \n",
       "3298                           Comoros        Year    2018  ...           NaN   \n",
       "3309                           Bahamas        Year    2018  ...           NaN   \n",
       "3318                          Kiribati        Year    2018  ...           NaN   \n",
       "3323  Saint Vincent and the Grenadines        Year    2018  ...           NaN   \n",
       "\n",
       "     FactValueNumericLowPrefix FactValueNumericLow FactValueNumericHighPrefix  \\\n",
       "3294                       NaN               0.071                        NaN   \n",
       "3298                       NaN               0.019                        NaN   \n",
       "3309                       NaN               0.022                        NaN   \n",
       "3318                       NaN               0.000                        NaN   \n",
       "3323                       NaN               0.120                        NaN   \n",
       "\n",
       "     FactValueNumericHigh    Value FactValueTranslationID  FactComments  \\\n",
       "3294                 0.49  0 [0-0]                    NaN           NaN   \n",
       "3298                 0.13  0 [0-0]                    NaN           NaN   \n",
       "3309                 1.14  0 [0-1]                    NaN           NaN   \n",
       "3318                 1.23  0 [0-1]                    NaN           NaN   \n",
       "3323                 0.68  0 [0-1]                    NaN           NaN   \n",
       "\n",
       "      Language              DateModified  \n",
       "3294        EN  2024-10-02T16:00:00.000Z  \n",
       "3298        EN  2024-10-02T16:00:00.000Z  \n",
       "3309        EN  2024-10-02T16:00:00.000Z  \n",
       "3318        EN  2024-10-02T16:00:00.000Z  \n",
       "3323        EN  2024-10-02T16:00:00.000Z  \n",
       "\n",
       "[5 rows x 34 columns]"
      ]
     },
     "execution_count": 5,
     "metadata": {},
     "output_type": "execute_result"
    }
   ],
   "source": [
    "air_pollution_df = pd.read_csv(files[\"air_pollution_death\"])\n",
    "filtered_air_pollution_df = air_pollution_df[\n",
    "    (air_pollution_df['SpatialDimValueCode'].isin(common_country_codes)) &\n",
    "    (air_pollution_df['Period'] == 2018) &\n",
    "    (air_pollution_df['Dim1'] == 'Both sexes')\n",
    "]\n",
    "\n",
    "filtered_air_pollution_df.to_csv('filtered_air_deaths.csv', index=False)\n",
    "filtered_air_pollution_df.head()\n"
   ]
  },
  {
   "cell_type": "code",
   "execution_count": 6,
   "metadata": {},
   "outputs": [],
   "source": [
    "environment_data = []\n",
    "socioeconomic_data = []\n",
    "\n",
    "for key in environment_factor_files_list:\n",
    "    df = pd.read_csv(files[key])\n",
    "    df_filtered = df[\n",
    "        (df['iso3_country'].isin(common_country_codes)) &\n",
    "        (df['start_time'] >= '2018-01-01 00:00:00')\n",
    "    ]\n",
    "    df_grouped = df_filtered.groupby('iso3_country', as_index=False)['emissions_quantity'].sum()\n",
    "    df_grouped.rename(columns={'iso3_country': 'Country Code', 'emissions_quantity': key}, inplace=True)\n",
    "    environment_data.append(df_grouped)\n",
    "\n",
    "for key in socioeconomic_files_list:\n",
    "    df = pd.read_csv(files[key], skiprows=4)\n",
    "    df_filtered = df[df['Country Code'].isin(common_country_codes)]\n",
    "    df_filtered = df_filtered[['Country Code', '2018']].rename(columns={'2018': key})\n",
    "    socioeconomic_data.append(df_filtered)\n"
   ]
  },
  {
   "cell_type": "code",
   "execution_count": 7,
   "metadata": {},
   "outputs": [
    {
     "data": {
      "text/html": [
       "<div>\n",
       "<style scoped>\n",
       "    .dataframe tbody tr th:only-of-type {\n",
       "        vertical-align: middle;\n",
       "    }\n",
       "\n",
       "    .dataframe tbody tr th {\n",
       "        vertical-align: top;\n",
       "    }\n",
       "\n",
       "    .dataframe thead th {\n",
       "        text-align: right;\n",
       "    }\n",
       "</style>\n",
       "<table border=\"1\" class=\"dataframe\">\n",
       "  <thead>\n",
       "    <tr style=\"text-align: right;\">\n",
       "      <th></th>\n",
       "      <th>Country Code</th>\n",
       "      <th>transportation</th>\n",
       "      <th>coal</th>\n",
       "      <th>cropland</th>\n",
       "      <th>residential_commercial</th>\n",
       "      <th>forest_clearing</th>\n",
       "      <th>petrochemicals</th>\n",
       "      <th>electricity_generation</th>\n",
       "      <th>incineration_open_burning</th>\n",
       "      <th>health_expenditure</th>\n",
       "      <th>urban_population</th>\n",
       "      <th>deaths</th>\n",
       "    </tr>\n",
       "  </thead>\n",
       "  <tbody>\n",
       "    <tr>\n",
       "      <th>0</th>\n",
       "      <td>AFG</td>\n",
       "      <td>5.728724e+07</td>\n",
       "      <td>1.237991e+07</td>\n",
       "      <td>3.047164e+07</td>\n",
       "      <td>8.294334e+06</td>\n",
       "      <td>8.632059e+04</td>\n",
       "      <td>0.000000e+00</td>\n",
       "      <td>1.929000e+06</td>\n",
       "      <td>6.095110e+05</td>\n",
       "      <td>299.787491</td>\n",
       "      <td>9353296.0</td>\n",
       "      <td>44151.00</td>\n",
       "    </tr>\n",
       "    <tr>\n",
       "      <th>1</th>\n",
       "      <td>AGO</td>\n",
       "      <td>1.657005e+08</td>\n",
       "      <td>0.000000e+00</td>\n",
       "      <td>7.027087e+07</td>\n",
       "      <td>4.872556e+07</td>\n",
       "      <td>1.024659e+09</td>\n",
       "      <td>0.000000e+00</td>\n",
       "      <td>3.753900e+07</td>\n",
       "      <td>5.018776e+05</td>\n",
       "      <td>182.326689</td>\n",
       "      <td>20488542.0</td>\n",
       "      <td>16997.28</td>\n",
       "    </tr>\n",
       "    <tr>\n",
       "      <th>2</th>\n",
       "      <td>ALB</td>\n",
       "      <td>2.535625e+07</td>\n",
       "      <td>3.709218e+05</td>\n",
       "      <td>1.866232e+06</td>\n",
       "      <td>1.147137e+07</td>\n",
       "      <td>4.995076e+06</td>\n",
       "      <td>0.000000e+00</td>\n",
       "      <td>0.000000e+00</td>\n",
       "      <td>2.078827e+05</td>\n",
       "      <td>896.791354</td>\n",
       "      <td>1728969.0</td>\n",
       "      <td>6088.43</td>\n",
       "    </tr>\n",
       "    <tr>\n",
       "      <th>4</th>\n",
       "      <td>ARE</td>\n",
       "      <td>5.190228e+08</td>\n",
       "      <td>0.000000e+00</td>\n",
       "      <td>1.601377e+05</td>\n",
       "      <td>9.554346e+06</td>\n",
       "      <td>0.000000e+00</td>\n",
       "      <td>7.280612e+07</td>\n",
       "      <td>1.217688e+09</td>\n",
       "      <td>1.615316e+06</td>\n",
       "      <td>3002.587776</td>\n",
       "      <td>7908257.0</td>\n",
       "      <td>3599.55</td>\n",
       "    </tr>\n",
       "    <tr>\n",
       "      <th>5</th>\n",
       "      <td>ARG</td>\n",
       "      <td>6.409067e+08</td>\n",
       "      <td>1.997271e+05</td>\n",
       "      <td>7.706948e+08</td>\n",
       "      <td>5.821784e+08</td>\n",
       "      <td>4.487951e+08</td>\n",
       "      <td>1.150682e+07</td>\n",
       "      <td>7.590450e+08</td>\n",
       "      <td>2.238038e+06</td>\n",
       "      <td>2401.319013</td>\n",
       "      <td>40877099.0</td>\n",
       "      <td>34992.30</td>\n",
       "    </tr>\n",
       "  </tbody>\n",
       "</table>\n",
       "</div>"
      ],
      "text/plain": [
       "  Country Code  transportation          coal      cropland  \\\n",
       "0          AFG    5.728724e+07  1.237991e+07  3.047164e+07   \n",
       "1          AGO    1.657005e+08  0.000000e+00  7.027087e+07   \n",
       "2          ALB    2.535625e+07  3.709218e+05  1.866232e+06   \n",
       "4          ARE    5.190228e+08  0.000000e+00  1.601377e+05   \n",
       "5          ARG    6.409067e+08  1.997271e+05  7.706948e+08   \n",
       "\n",
       "   residential_commercial  forest_clearing  petrochemicals  \\\n",
       "0            8.294334e+06     8.632059e+04    0.000000e+00   \n",
       "1            4.872556e+07     1.024659e+09    0.000000e+00   \n",
       "2            1.147137e+07     4.995076e+06    0.000000e+00   \n",
       "4            9.554346e+06     0.000000e+00    7.280612e+07   \n",
       "5            5.821784e+08     4.487951e+08    1.150682e+07   \n",
       "\n",
       "   electricity_generation  incineration_open_burning  health_expenditure  \\\n",
       "0            1.929000e+06               6.095110e+05          299.787491   \n",
       "1            3.753900e+07               5.018776e+05          182.326689   \n",
       "2            0.000000e+00               2.078827e+05          896.791354   \n",
       "4            1.217688e+09               1.615316e+06         3002.587776   \n",
       "5            7.590450e+08               2.238038e+06         2401.319013   \n",
       "\n",
       "   urban_population    deaths  \n",
       "0         9353296.0  44151.00  \n",
       "1        20488542.0  16997.28  \n",
       "2         1728969.0   6088.43  \n",
       "4         7908257.0   3599.55  \n",
       "5        40877099.0  34992.30  "
      ]
     },
     "execution_count": 7,
     "metadata": {},
     "output_type": "execute_result"
    }
   ],
   "source": [
    "deaths_by_country = filtered_air_pollution_df.groupby(['SpatialDimValueCode'])['FactValueNumeric'].sum().reset_index()\n",
    "deaths_by_country.rename(columns={'SpatialDimValueCode': 'Country Code', 'FactValueNumeric': 'deaths'}, inplace=True)\n",
    "\n",
    "environment_merged = environment_data[0]\n",
    "for df in environment_data[1:]:\n",
    "    environment_merged = pd.merge(environment_merged, df, on=\"Country Code\", how=\"outer\")\n",
    "\n",
    "final_merged = environment_merged\n",
    "for df in socioeconomic_data:\n",
    "    final_merged = pd.merge(final_merged, df, on=\"Country Code\", how=\"outer\")\n",
    "\n",
    "final_merged = pd.merge(final_merged, deaths_by_country, on=\"Country Code\", how=\"outer\")\n",
    "final_merged_cleaned = final_merged.dropna()\n",
    "final_merged_cleaned.to_csv('real_merged_data.csv', index=False)\n",
    "\n",
    "final_merged_cleaned.head()\n"
   ]
  },
  {
   "cell_type": "code",
   "execution_count": 8,
   "metadata": {},
   "outputs": [
    {
     "name": "stdout",
     "output_type": "stream",
     "text": [
      "Train R² Score: 0.7930\n",
      "Test R² Score: 0.5600\n"
     ]
    }
   ],
   "source": [
    "X = final_merged_cleaned.drop(columns=['Country Code', 'deaths'])\n",
    "y = final_merged_cleaned['deaths']\n",
    "\n",
    "X_train, X_test, y_train, y_test = train_test_split(X, y, test_size=0.2, train_size=0.8, random_state=42)\n",
    "\n",
    "scaler = StandardScaler()\n",
    "X_train_scaled = scaler.fit_transform(X_train)\n",
    "X_test_scaled = scaler.transform(X_test)\n",
    "\n",
    "xgb_model = xgb.XGBRegressor(\n",
    "    n_estimators=600, learning_rate=0.07, max_depth=1, gamma=0.2,\n",
    "    subsample=0.4, colsample_bytree=1, reg_alpha=1, reg_lambda=12.0,\n",
    "    random_state=42\n",
    ")\n",
    "\n",
    "xgb_model.fit(X_train_scaled, y_train)\n",
    "y_train_pred = xgb_model.predict(X_train_scaled)\n",
    "y_test_pred = xgb_model.predict(X_test_scaled)\n",
    "\n",
    "train_r2 = r2_score(y_train, y_train_pred)\n",
    "test_r2 = r2_score(y_test, y_test_pred)\n",
    "\n",
    "print(f\"Train R² Score: {train_r2:.4f}\")\n",
    "print(f\"Test R² Score: {test_r2:.4f}\")\n"
   ]
  },
  {
   "cell_type": "code",
   "execution_count": 9,
   "metadata": {},
   "outputs": [
    {
     "data": {
      "image/png": "[encoded data removed]",
      "text/plain": [
       "<Figure size 800x550 with 2 Axes>"
      ]
     },
     "metadata": {},
     "output_type": "display_data"
    }
   ],
   "source": [
    "def generate_beeswarm_plot(X_train, model):\n",
    "    explainer = shap.Explainer(model, X_train)\n",
    "    shap_values = explainer(X_train)\n",
    "    shap.summary_plot(shap_values, X_train, plot_type=\"dot\")\n",
    "\n",
    "generate_beeswarm_plot(X_train, xgb_model)\n"
   ]
  },
  {
   "cell_type": "code",
   "execution_count": 10,
   "metadata": {},
   "outputs": [
    {
     "data": {
      "application/vnd.plotly.v1+json": {
       "config": {
        "plotlyServerURL": "https://plot.ly"
       },
       "data": [
        {
         "customdata": [
          [
           "AFG"
          ],
          [
           "AGO"
          ],
          [
           "ALB"
          ],
          [
           "ARE"
          ],
          [
           "ARG"
          ],
          [
           "ARM"
          ],
          [
           "ATG"
          ],
          [
           "AUS"
          ],
          [
           "AUT"
          ],
          [
           "AZE"
          ],
          [
           "BDI"
          ],
          [
           "BEL"
          ],
          [
           "BEN"
          ],
          [
           "BFA"
          ],
          [
           "BGD"
          ],
          [
           "BGR"
          ],
          [
           "BHR"
          ],
          [
           "BHS"
          ],
          [
           "BIH"
          ],
          [
           "BLR"
          ],
          [
           "BLZ"
          ],
          [
           "BOL"
          ],
          [
           "BRA"
          ],
          [
           "BRB"
          ],
          [
           "BRN"
          ],
          [
           "BTN"
          ],
          [
           "BWA"
          ],
          [
           "CAF"
          ],
          [
           "CAN"
          ],
          [
           "CHE"
          ],
          [
           "CHL"
          ],
          [
           "CHN"
          ],
          [
           "CIV"
          ],
          [
           "CMR"
          ],
          [
           "COD"
          ],
          [
           "COG"
          ],
          [
           "COL"
          ],
          [
           "COM"
          ],
          [
           "CPV"
          ],
          [
           "CRI"
          ],
          [
           "CUB"
          ],
          [
           "CYP"
          ],
          [
           "CZE"
          ],
          [
           "DEU"
          ],
          [
           "DJI"
          ],
          [
           "DNK"
          ],
          [
           "DOM"
          ],
          [
           "DZA"
          ],
          [
           "ECU"
          ],
          [
           "EGY"
          ],
          [
           "ERI"
          ],
          [
           "ESP"
          ],
          [
           "EST"
          ],
          [
           "ETH"
          ],
          [
           "FIN"
          ],
          [
           "FJI"
          ],
          [
           "FRA"
          ],
          [
           "GAB"
          ],
          [
           "GBR"
          ],
          [
           "GEO"
          ],
          [
           "GHA"
          ],
          [
           "GIN"
          ],
          [
           "GMB"
          ],
          [
           "GNB"
          ],
          [
           "GNQ"
          ],
          [
           "GRC"
          ],
          [
           "GRD"
          ],
          [
           "GTM"
          ],
          [
           "GUY"
          ],
          [
           "HND"
          ],
          [
           "HRV"
          ],
          [
           "HTI"
          ],
          [
           "HUN"
          ],
          [
           "IDN"
          ],
          [
           "IND"
          ],
          [
           "IRL"
          ],
          [
           "IRN"
          ],
          [
           "IRQ"
          ],
          [
           "ISL"
          ],
          [
           "ISR"
          ],
          [
           "ITA"
          ],
          [
           "JAM"
          ],
          [
           "JOR"
          ],
          [
           "JPN"
          ],
          [
           "KAZ"
          ],
          [
           "KEN"
          ],
          [
           "KGZ"
          ],
          [
           "KHM"
          ],
          [
           "KIR"
          ],
          [
           "KOR"
          ],
          [
           "KWT"
          ],
          [
           "LAO"
          ],
          [
           "LBN"
          ],
          [
           "LBR"
          ],
          [
           "LCA"
          ],
          [
           "LKA"
          ],
          [
           "LSO"
          ],
          [
           "LTU"
          ],
          [
           "LUX"
          ],
          [
           "LVA"
          ],
          [
           "MAR"
          ],
          [
           "MDA"
          ],
          [
           "MDG"
          ],
          [
           "MDV"
          ],
          [
           "MEX"
          ],
          [
           "MKD"
          ],
          [
           "MLI"
          ],
          [
           "MLT"
          ],
          [
           "MMR"
          ],
          [
           "MNE"
          ],
          [
           "MNG"
          ],
          [
           "MOZ"
          ],
          [
           "MRT"
          ],
          [
           "MUS"
          ],
          [
           "MWI"
          ],
          [
           "MYS"
          ],
          [
           "NAM"
          ],
          [
           "NER"
          ],
          [
           "NGA"
          ],
          [
           "NIC"
          ],
          [
           "NLD"
          ],
          [
           "NOR"
          ],
          [
           "NPL"
          ],
          [
           "NZL"
          ],
          [
           "OMN"
          ],
          [
           "PAK"
          ],
          [
           "PAN"
          ],
          [
           "PER"
          ],
          [
           "PHL"
          ],
          [
           "PNG"
          ],
          [
           "POL"
          ],
          [
           "PRT"
          ],
          [
           "PRY"
          ],
          [
           "QAT"
          ],
          [
           "ROU"
          ],
          [
           "RUS"
          ],
          [
           "RWA"
          ],
          [
           "SAU"
          ],
          [
           "SDN"
          ],
          [
           "SEN"
          ],
          [
           "SGP"
          ],
          [
           "SLB"
          ],
          [
           "SLE"
          ],
          [
           "SLV"
          ],
          [
           "SRB"
          ],
          [
           "SSD"
          ],
          [
           "STP"
          ],
          [
           "SUR"
          ],
          [
           "SVK"
          ],
          [
           "SVN"
          ],
          [
           "SWE"
          ],
          [
           "SWZ"
          ],
          [
           "SYC"
          ],
          [
           "TCD"
          ],
          [
           "TGO"
          ],
          [
           "THA"
          ],
          [
           "TJK"
          ],
          [
           "TKM"
          ],
          [
           "TLS"
          ],
          [
           "TON"
          ],
          [
           "TTO"
          ],
          [
           "TUN"
          ],
          [
           "TUR"
          ],
          [
           "TZA"
          ],
          [
           "UGA"
          ],
          [
           "UKR"
          ],
          [
           "URY"
          ],
          [
           "USA"
          ],
          [
           "UZB"
          ],
          [
           "VCT"
          ],
          [
           "VNM"
          ],
          [
           "VUT"
          ],
          [
           "WSM"
          ],
          [
           "ZAF"
          ],
          [
           "ZMB"
          ],
          [
           "ZWE"
          ]
         ],
         "hovertemplate": "health_expenditure=%{x}<br>deaths=%{y}<br>Country Code=%{customdata[0]}<extra></extra>",
         "legendgroup": "",
         "marker": {
          "color": "#636efa",
          "symbol": "circle"
         },
         "mode": "markers",
         "name": "",
         "orientation": "v",
         "showlegend": false,
         "type": "scatter",
         "x": {
          "bdata": "KFuskJm8ckBGT1s8dMpmQDBQebFUBoxAsNIJ8Sx1p0AiWaNVo8KiQAAAAAAALJVATothpbAhkUAdQ4ABgtO0QAAAAAAAEbdAAAAAAAAQgUATaYVqLaZLQP4tFabYV7ZAZBe/nn5xVkB094LFE0haQHzc2UTyYV5AAAAAAABEmkAmnh8RZyigQJeXD4+Bn6BAAAAAAABElEAAAAAAAFSQQA4rlXy1uXpAgOBMucXjgUDuQZ4PDyOWQH29ixrjfJBAxhJ4NLgGl0BMf9ZtTcV2QPEe+s6B6oxA8vauwJatWED6TlN5UFC1QJh5HbDj2b1Ah5YzjwptokBvlYWUeq2IQDvD39v8wWNAMoZLrKhKYUBXfctxupBBQMRKiUxoZFJA0bMb+HMQkkC2rqBGcX9kQAPH63H1tnVAVtBADzkSmEAFmTntImijQAAAAAAA1qVAYFtmP8wOqEDknTvccsm4QCcuXaxOfFtAAAAAAAC5tkDftlc+DhWHQDJZnYPe9odA8/bh+oQRjUChtGx3EjuBQKJurng8MFJAemzWa1O0rECk91HQHBOjQDydBAXSe1FAAAAAAACFsUCx101SyHyBQPg/W3wyarRAxupSbiQKeUCdVmVGGP6xQAAAAAAACJBASh/m3Xz4aEDCObrYGqdXQGMtX6/4OVFAi+Jw4F7TYUAYzahpbzaAQL8vtA5TxqJAJX+h536XhkBXPrgZvw2AQJLDs8mRa4NAXxGhvFO5eUAAAAAAAFyeQK8JAYGnqWFAAAAAAABmoECCi4BLNup0QAAAAAAAgGdA8aSlFUmotUC5LS0FJTaSQMcBzSuoYHpAAAAAAAC1skAAAAAAAN6nQAAAAAAAKq1ArG4zOApng0BezjzXG2qFQAAAAAAAwrFAAAAAAAC4hkAOkiWkXWxnQAAAAAAAwHBAk/KSw3RfcEAAAAAAAOBwQBkQvOyaJalAmz2xu0NQpEAKaTxMBrJlQJmHhYpINJdAwCxKiRg6Y0AHNEAUxe2EQAAAAAAAGIBATpH4pn9HckAAAAAAAIKiQAAAAAAARLhAAAAAAADAnUCuMQ84ROx5QAAAAAAA2IlAKGPVTiTbUEAAAAAAAIyXQPkMVsBvM5FAAAAAAACkkEAtMlQLouFUQAAAAAAAEK9AAAAAAACgbEAAAAAAAKSbQPrhmmCIfIFAnqVX6SbFWkDoKB1QVNVlQLaNTXiLSpRALHgnPy8DWkCjK3Gl6iOQQF3qa5NzUYtAzB6q568yUEAIIHxoKSJkQEdjU6VeqH5AAAAAAACztkAAAAAAAGu7QAAAAAAAgGVAM6rCPyxmrkCg51rTW5iRQJ2GwtDBgmJAXMs3xGmdo0BvHE3+7FuFQAAAAAAAMHVAOCd64HPCVkAAAAAAAJifQAAAAAAAqqlA6pKlaSXjjUBp4gAbLqulQAAAAAAAbJlAAAAAAABQmEBlQf+vcJRhQMggPAySTaRAblY+eaS2aUD+5KPowBtjQDT/kwInFK9A3SyiXN1vWUAdewHOahVhQEeuE/uLd4dAR45CjkyOl0CR3HxlDvxLQOFAtTpK4WtA9Qpsw366k0AAAAAAAFqgQAAAAAAASqlAAAAAAAAAt0DNk6QFNK+BQJbRVp04VpVAdTkyZ+zzUUCJnndas39fQFtEYpQF4IVAAAAAAACgbkBCDpk2ISmPQDpdO6IOCWlAi+8T2fRYc0D4ce38ha+aQEWNL1GE/IRAAAAAAADokUC2DEmnvvVZQK+e9Ua3t1dAAAAAAAA4jEA3+zJY1begQAJUkmhDFMRAAAAAAABgd0BV0Ijg8iuDQGqX7ElD/35AAhpmA8PbWUDcGpuVKMFyQIUHq+VkGpJAtZK2Y0XqZEAim8sYBcVbQA==",
          "dtype": "f8"
         },
         "xaxis": "x",
         "y": {
          "bdata": "AAAAAOCO5UC4HoXrUZnQQEfhehRuyLdAmpmZmRkfrECamZmZCRbhQMzMzMzMcbtAFK5H4XqURUCZmZmZ2YjAQAAAAABAesJAzczMzGxK1EB7FK5HIa66QJqZmZnZUcRA61G4HiWow0AUrkfhWhDOQAAAAADQzwJBMzMzM/Mf10BSuB6F6/GHQBSuR+F6NFZAzczMzMx5v0AzMzMzM+3ZQBSuR+F6lFpAH4XrUXhExkAAAAAAkK36QML1KFyPsm1AKVyPwvU4XEB7FK5H4aSFQChcj8L11pZA7FG4HkWXskDNzMzMzGXOQAAAAACA2LRAzczMzMz1xEAAAAAAXNVBQbgehetxq9VA4XoUrneZ2EAzMzMzQ8rvQHE9Ctejc6ZAZmZmZqZk2UDNzMzMzHZ4QOJ6FK5HbXxAPgrXo3Don0AAAAAAwCTLQOtRuB6Fw4RAMzMzM7M50kAAAAAAEBb3QLgehetRbIZANDMzMzP8rkDrUbgexci2QAAAAABAeuBA9ihcjwIsvUAAAAAAqKwAQVyPwvWoPKhAZmZmZmba3EAK16NwPdeQQM3MzMyMN+pAhetRuJ7nokCF61G4Hj1+QAAAAABgZeNAXI/C9Sg1kkAAAAAAQCnnQGZmZmYmuMRACtejcG1H2ECamZmZGc/JQD4K16NwdJlAUrgehevHmEDsUbgehYGGQAAAAAAgftBAAAAAAABQVUD2KFyP4uTCQLgehetR3oVAuB6F69Ght0CamZmZWRHAQClcj8K1s75AZmZmZmYI1UAAAAAAiOgLQQAAAADmwDtBFK5H4fqzoUBmZmZm3lzwQDMzMzNTfdxAKVyPwvU4XkCamZmZmcKvQAAAAADAFvFA9ihcj8Jll0BSuB6F6yetQAAAAADQz/5AAAAAAOAh2UAK16NwHVvJQGZmZmbmJ71AAAAAAIBdxUD2KFyPwkVRQAAAAADAZuNA7FG4HoWJnEA9CtejcPuzQDMzMzMzQLxA16NwPQpLp0DD9Shcj6JYQJmZmZk5I9JAUrgehWtgp0DC9ShcD1q5QAAAAAAAZHRArkfhelTKsECamZmZiXziQArXo3B967tAUrgehQvKzEBI4XoUrt9jQJqZmZmR3/FAPQrXo3CZsUDhehSuR5TLQHsUrkfhYn5AmpmZmTl56kAUrkfhemeYQOxRuB4F9LFArkfheqQY0UAehetRuGumQAAAAAAAxo5ApHA9CtebuEDNzMzM7BjeQFK4HoXrLZFAzczMzIxu1UCamZmZCaIJQfYoXI/Cd6tAzczMzAzSxkAfhetRuGCfQM3MzMxMNt1AuB6F61HLoEBcj8L1qGOsQAAAAADcyRFBMzMzMzOQmUAAAAAAYLfQQJqZmZmJvPxAKVyPwvXYqUAAAAAAQDTzQM3MzMxMNrxArkfhehREpUBcj8L1KLaJQDMzMzNjfOZAAAAAAJjlC0FI4XoU7qu5QDMzMzPTv+BAZmZmZibB3EAK16NwfdLCQDMzMzMzg6xAKVyPwvUQeEAVrkfhOpq+QM3MzMwMVrFAzczMzOw60kAVrkfh+pu4QBSuR+F6rGNAZmZmZmYmeUAAAAAAgLa8QOxRuB4Fx6NAzczMzAysskAehetRuIqIQEjhehSuF1ZA4XoUrvfP0kBwPQrX4wO6QAAAAADgy+xASOF6FO7DykBcj8L1qOW5QK5H4XoUZopA61G4HoXrQkAzMzMzM+OGQGZmZmYm58pAAAAAAHDf8EAUrkfhSn/QQJqZmZnpX9FAMzMzM7vJ/kDhehSux7+hQAAAAABoMwlBZmZmZsYb6ED1KFyPwoVSQAAAAAAg6PhA9ihcj8LdZkC4HoXrUYhVQDMzMzPTE+RA7FG4HsWLu0AAAAAAAE67QA==",
          "dtype": "f8"
         },
         "yaxis": "y"
        }
       ],
       "layout": {
        "legend": {
         "tracegroupgap": 0
        },
        "margin": {
         "t": 60
        },
        "template": {
         "data": {
          "bar": [
           {
            "error_x": {
             "color": "#2a3f5f"
            },
            "error_y": {
             "color": "#2a3f5f"
            },
            "marker": {
             "line": {
              "color": "#E5ECF6",
              "width": 0.5
             },
             "pattern": {
              "fillmode": "overlay",
              "size": 10,
              "solidity": 0.2
             }
            },
            "type": "bar"
           }
          ],
          "barpolar": [
           {
            "marker": {
             "line": {
              "color": "#E5ECF6",
              "width": 0.5
             },
             "pattern": {
              "fillmode": "overlay",
              "size": 10,
              "solidity": 0.2
             }
            },
            "type": "barpolar"
           }
          ],
          "carpet": [
           {
            "aaxis": {
             "endlinecolor": "#2a3f5f",
             "gridcolor": "white",
             "linecolor": "white",
             "minorgridcolor": "white",
             "startlinecolor": "#2a3f5f"
            },
            "baxis": {
             "endlinecolor": "#2a3f5f",
             "gridcolor": "white",
             "linecolor": "white",
             "minorgridcolor": "white",
             "startlinecolor": "#2a3f5f"
            },
            "type": "carpet"
           }
          ],
          "choropleth": [
           {
            "colorbar": {
             "outlinewidth": 0,
             "ticks": ""
            },
            "type": "choropleth"
           }
          ],
          "contour": [
           {
            "colorbar": {
             "outlinewidth": 0,
             "ticks": ""
            },
            "colorscale": [
             [
              0,
              "#0d0887"
             ],
             [
              0.1111111111111111,
              "#46039f"
             ],
             [
              0.2222222222222222,
              "#7201a8"
             ],
             [
              0.3333333333333333,
              "#9c179e"
             ],
             [
              0.4444444444444444,
              "#bd3786"
             ],
             [
              0.5555555555555556,
              "#d8576b"
             ],
             [
              0.6666666666666666,
              "#ed7953"
             ],
             [
              0.7777777777777778,
              "#fb9f3a"
             ],
             [
              0.8888888888888888,
              "#fdca26"
             ],
             [
              1,
              "#f0f921"
             ]
            ],
            "type": "contour"
           }
          ],
          "contourcarpet": [
           {
            "colorbar": {
             "outlinewidth": 0,
             "ticks": ""
            },
            "type": "contourcarpet"
           }
          ],
          "heatmap": [
           {
            "colorbar": {
             "outlinewidth": 0,
             "ticks": ""
            },
            "colorscale": [
             [
              0,
              "#0d0887"
             ],
             [
              0.1111111111111111,
              "#46039f"
             ],
             [
              0.2222222222222222,
              "#7201a8"
             ],
             [
              0.3333333333333333,
              "#9c179e"
             ],
             [
              0.4444444444444444,
              "#bd3786"
             ],
             [
              0.5555555555555556,
              "#d8576b"
             ],
             [
              0.6666666666666666,
              "#ed7953"
             ],
             [
              0.7777777777777778,
              "#fb9f3a"
             ],
             [
              0.8888888888888888,
              "#fdca26"
             ],
             [
              1,
              "#f0f921"
             ]
            ],
            "type": "heatmap"
           }
          ],
          "histogram": [
           {
            "marker": {
             "pattern": {
              "fillmode": "overlay",
              "size": 10,
              "solidity": 0.2
             }
            },
            "type": "histogram"
           }
          ],
          "histogram2d": [
           {
            "colorbar": {
             "outlinewidth": 0,
             "ticks": ""
            },
            "colorscale": [
             [
              0,
              "#0d0887"
             ],
             [
              0.1111111111111111,
              "#46039f"
             ],
             [
              0.2222222222222222,
              "#7201a8"
             ],
             [
              0.3333333333333333,
              "#9c179e"
             ],
             [
              0.4444444444444444,
              "#bd3786"
             ],
             [
              0.5555555555555556,
              "#d8576b"
             ],
             [
              0.6666666666666666,
              "#ed7953"
             ],
             [
              0.7777777777777778,
              "#fb9f3a"
             ],
             [
              0.8888888888888888,
              "#fdca26"
             ],
             [
              1,
              "#f0f921"
             ]
            ],
            "type": "histogram2d"
           }
          ],
          "histogram2dcontour": [
           {
            "colorbar": {
             "outlinewidth": 0,
             "ticks": ""
            },
            "colorscale": [
             [
              0,
              "#0d0887"
             ],
             [
              0.1111111111111111,
              "#46039f"
             ],
             [
              0.2222222222222222,
              "#7201a8"
             ],
             [
              0.3333333333333333,
              "#9c179e"
             ],
             [
              0.4444444444444444,
              "#bd3786"
             ],
             [
              0.5555555555555556,
              "#d8576b"
             ],
             [
              0.6666666666666666,
              "#ed7953"
             ],
             [
              0.7777777777777778,
              "#fb9f3a"
             ],
             [
              0.8888888888888888,
              "#fdca26"
             ],
             [
              1,
              "#f0f921"
             ]
            ],
            "type": "histogram2dcontour"
           }
          ],
          "mesh3d": [
           {
            "colorbar": {
             "outlinewidth": 0,
             "ticks": ""
            },
            "type": "mesh3d"
           }
          ],
          "parcoords": [
           {
            "line": {
             "colorbar": {
              "outlinewidth": 0,
              "ticks": ""
             }
            },
            "type": "parcoords"
           }
          ],
          "pie": [
           {
            "automargin": true,
            "type": "pie"
           }
          ],
          "scatter": [
           {
            "fillpattern": {
             "fillmode": "overlay",
             "size": 10,
             "solidity": 0.2
            },
            "type": "scatter"
           }
          ],
          "scatter3d": [
           {
            "line": {
             "colorbar": {
              "outlinewidth": 0,
              "ticks": ""
             }
            },
            "marker": {
             "colorbar": {
              "outlinewidth": 0,
              "ticks": ""
             }
            },
            "type": "scatter3d"
           }
          ],
          "scattercarpet": [
           {
            "marker": {
             "colorbar": {
              "outlinewidth": 0,
              "ticks": ""
             }
            },
            "type": "scattercarpet"
           }
          ],
          "scattergeo": [
           {
            "marker": {
             "colorbar": {
              "outlinewidth": 0,
              "ticks": ""
             }
            },
            "type": "scattergeo"
           }
          ],
          "scattergl": [
           {
            "marker": {
             "colorbar": {
              "outlinewidth": 0,
              "ticks": ""
             }
            },
            "type": "scattergl"
           }
          ],
          "scattermap": [
           {
            "marker": {
             "colorbar": {
              "outlinewidth": 0,
              "ticks": ""
             }
            },
            "type": "scattermap"
           }
          ],
          "scattermapbox": [
           {
            "marker": {
             "colorbar": {
              "outlinewidth": 0,
              "ticks": ""
             }
            },
            "type": "scattermapbox"
           }
          ],
          "scatterpolar": [
           {
            "marker": {
             "colorbar": {
              "outlinewidth": 0,
              "ticks": ""
             }
            },
            "type": "scatterpolar"
           }
          ],
          "scatterpolargl": [
           {
            "marker": {
             "colorbar": {
              "outlinewidth": 0,
              "ticks": ""
             }
            },
            "type": "scatterpolargl"
           }
          ],
          "scatterternary": [
           {
            "marker": {
             "colorbar": {
              "outlinewidth": 0,
              "ticks": ""
             }
            },
            "type": "scatterternary"
           }
          ],
          "surface": [
           {
            "colorbar": {
             "outlinewidth": 0,
             "ticks": ""
            },
            "colorscale": [
             [
              0,
              "#0d0887"
             ],
             [
              0.1111111111111111,
              "#46039f"
             ],
             [
              0.2222222222222222,
              "#7201a8"
             ],
             [
              0.3333333333333333,
              "#9c179e"
             ],
             [
              0.4444444444444444,
              "#bd3786"
             ],
             [
              0.5555555555555556,
              "#d8576b"
             ],
             [
              0.6666666666666666,
              "#ed7953"
             ],
             [
              0.7777777777777778,
              "#fb9f3a"
             ],
             [
              0.8888888888888888,
              "#fdca26"
             ],
             [
              1,
              "#f0f921"
             ]
            ],
            "type": "surface"
           }
          ],
          "table": [
           {
            "cells": {
             "fill": {
              "color": "#EBF0F8"
             },
             "line": {
              "color": "white"
             }
            },
            "header": {
             "fill": {
              "color": "#C8D4E3"
             },
             "line": {
              "color": "white"
             }
            },
            "type": "table"
           }
          ]
         },
         "layout": {
          "annotationdefaults": {
           "arrowcolor": "#2a3f5f",
           "arrowhead": 0,
           "arrowwidth": 1
          },
          "autotypenumbers": "strict",
          "coloraxis": {
           "colorbar": {
            "outlinewidth": 0,
            "ticks": ""
           }
          },
          "colorscale": {
           "diverging": [
            [
             0,
             "#8e0152"
            ],
            [
             0.1,
             "#c51b7d"
            ],
            [
             0.2,
             "#de77ae"
            ],
            [
             0.3,
             "#f1b6da"
            ],
            [
             0.4,
             "#fde0ef"
            ],
            [
             0.5,
             "#f7f7f7"
            ],
            [
             0.6,
             "#e6f5d0"
            ],
            [
             0.7,
             "#b8e186"
            ],
            [
             0.8,
             "#7fbc41"
            ],
            [
             0.9,
             "#4d9221"
            ],
            [
             1,
             "#276419"
            ]
           ],
           "sequential": [
            [
             0,
             "#0d0887"
            ],
            [
             0.1111111111111111,
             "#46039f"
            ],
            [
             0.2222222222222222,
             "#7201a8"
            ],
            [
             0.3333333333333333,
             "#9c179e"
            ],
            [
             0.4444444444444444,
             "#bd3786"
            ],
            [
             0.5555555555555556,
             "#d8576b"
            ],
            [
             0.6666666666666666,
             "#ed7953"
            ],
            [
             0.7777777777777778,
             "#fb9f3a"
            ],
            [
             0.8888888888888888,
             "#fdca26"
            ],
            [
             1,
             "#f0f921"
            ]
           ],
           "sequentialminus": [
            [
             0,
             "#0d0887"
            ],
            [
             0.1111111111111111,
             "#46039f"
            ],
            [
             0.2222222222222222,
             "#7201a8"
            ],
            [
             0.3333333333333333,
             "#9c179e"
            ],
            [
             0.4444444444444444,
             "#bd3786"
            ],
            [
             0.5555555555555556,
             "#d8576b"
            ],
            [
             0.6666666666666666,
             "#ed7953"
            ],
            [
             0.7777777777777778,
             "#fb9f3a"
            ],
            [
             0.8888888888888888,
             "#fdca26"
            ],
            [
             1,
             "#f0f921"
            ]
           ]
          },
          "colorway": [
           "#636efa",
           "#EF553B",
           "#00cc96",
           "#ab63fa",
           "#FFA15A",
           "#19d3f3",
           "#FF6692",
           "#B6E880",
           "#FF97FF",
           "#FECB52"
          ],
          "font": {
           "color": "#2a3f5f"
          },
          "geo": {
           "bgcolor": "white",
           "lakecolor": "white",
           "landcolor": "#E5ECF6",
           "showlakes": true,
           "showland": true,
           "subunitcolor": "white"
          },
          "hoverlabel": {
           "align": "left"
          },
          "hovermode": "closest",
          "mapbox": {
           "style": "light"
          },
          "paper_bgcolor": "white",
          "plot_bgcolor": "#E5ECF6",
          "polar": {
           "angularaxis": {
            "gridcolor": "white",
            "linecolor": "white",
            "ticks": ""
           },
           "bgcolor": "#E5ECF6",
           "radialaxis": {
            "gridcolor": "white",
            "linecolor": "white",
            "ticks": ""
           }
          },
          "scene": {
           "xaxis": {
            "backgroundcolor": "#E5ECF6",
            "gridcolor": "white",
            "gridwidth": 2,
            "linecolor": "white",
            "showbackground": true,
            "ticks": "",
            "zerolinecolor": "white"
           },
           "yaxis": {
            "backgroundcolor": "#E5ECF6",
            "gridcolor": "white",
            "gridwidth": 2,
            "linecolor": "white",
            "showbackground": true,
            "ticks": "",
            "zerolinecolor": "white"
           },
           "zaxis": {
            "backgroundcolor": "#E5ECF6",
            "gridcolor": "white",
            "gridwidth": 2,
            "linecolor": "white",
            "showbackground": true,
            "ticks": "",
            "zerolinecolor": "white"
           }
          },
          "shapedefaults": {
           "line": {
            "color": "#2a3f5f"
           }
          },
          "ternary": {
           "aaxis": {
            "gridcolor": "white",
            "linecolor": "white",
            "ticks": ""
           },
           "baxis": {
            "gridcolor": "white",
            "linecolor": "white",
            "ticks": ""
           },
           "bgcolor": "#E5ECF6",
           "caxis": {
            "gridcolor": "white",
            "linecolor": "white",
            "ticks": ""
           }
          },
          "title": {
           "x": 0.05
          },
          "xaxis": {
           "automargin": true,
           "gridcolor": "white",
           "linecolor": "white",
           "ticks": "",
           "title": {
            "standoff": 15
           },
           "zerolinecolor": "white",
           "zerolinewidth": 2
          },
          "yaxis": {
           "automargin": true,
           "gridcolor": "white",
           "linecolor": "white",
           "ticks": "",
           "title": {
            "standoff": 15
           },
           "zerolinecolor": "white",
           "zerolinewidth": 2
          }
         }
        },
        "xaxis": {
         "anchor": "y",
         "domain": [
          0,
          1
         ],
         "title": {
          "text": "health_expenditure"
         }
        },
        "yaxis": {
         "anchor": "x",
         "domain": [
          0,
          1
         ],
         "title": {
          "text": "deaths"
         }
        }
       }
      }
     },
     "metadata": {},
     "output_type": "display_data"
    }
   ],
   "source": [
    "fig = px.scatter(final_merged_cleaned, x='health_expenditure', y='deaths', hover_data=['Country Code'])\n",
    "fig.show()\n"
   ]
  },
  {
   "cell_type": "code",
   "execution_count": null,
   "metadata": {},
   "outputs": [],
   "source": [
    "with open(\"coding_test_output.html\", \"w\", encoding=\"utf-8\") as f:\n",
    "    f.write(\"\"\"\n",
    "    <html>\n",
    "        <head><title>Air Pollution and Emissions Analysis</title></head>\n",
    "        <body><h1>Air Pollution Deaths by Country</h1></body>\n",
    "    </html>\n",
    "    \"\"\")\n"
   ]
  }
 ],
 "metadata": {
  "kernelspec": {
   "display_name": "Python 3",
   "language": "python",
   "name": "python3"
  },
  "language_info": {
   "codemirror_mode": {
    "name": "ipython",
    "version": 3
   },
   "file_extension": ".py",
   "mimetype": "text/x-python",
   "name": "python",
   "nbconvert_exporter": "python",
   "pygments_lexer": "ipython3",
   "version": "3.11.9"
  }
 },
 "nbformat": 4,
 "nbformat_minor": 2
}
